{
 "metadata": {
  "language_info": {
   "codemirror_mode": {
    "name": "ipython",
    "version": 3
   },
   "file_extension": ".py",
   "mimetype": "text/x-python",
   "name": "python",
   "nbconvert_exporter": "python",
   "pygments_lexer": "ipython3",
   "version": "3.8.3-final"
  },
  "orig_nbformat": 2,
  "kernelspec": {
   "name": "python3",
   "display_name": "Python 3",
   "language": "python"
  }
 },
 "nbformat": 4,
 "nbformat_minor": 2,
 "cells": [
  {
   "cell_type": "code",
   "execution_count": 1,
   "metadata": {},
   "outputs": [],
   "source": [
    "import numpy as np\n",
    "from numpy import ndarray\n",
    "from typing import Callable, Dict, Tuple, List"
   ]
  },
  {
   "cell_type": "code",
   "execution_count": 2,
   "metadata": {},
   "outputs": [
    {
     "output_type": "execute_result",
     "data": {
      "text/plain": [
       "(1.0,\n",
       " {'X': array([[0, 1, 2],\n",
       "         [3, 4, 5],\n",
       "         [5, 6, 7]]),\n",
       "  'N': array([[ 8],\n",
       "         [26],\n",
       "         [38]]),\n",
       "  'P': array([[10],\n",
       "         [28],\n",
       "         [40]]),\n",
       "  'y': array([[11],\n",
       "         [27],\n",
       "         [41]])})"
      ]
     },
     "metadata": {},
     "execution_count": 2
    }
   ],
   "source": [
    "# Linear Regression\n",
    "def forward_linear_regression(X_batch: ndarray, y_batch: ndarray, weights: Dict[str, ndarray]) -> Tuple[float, Dict[str, ndarray]]:\n",
    "    assert X_batch.shape[0] == y_batch.shape[0], \"X and y batches number of rows do not match\"\n",
    "    assert X_batch.shape[1] == weights[\"W\"].shape[0], \"X batch number of columns and weights number of rows do not match\"\n",
    "    assert weights[\"B\"].shape[0] == weights[\"W\"].shape[1] == 1, \"B number of rows and W number of columns different from 1\"\n",
    "\n",
    "    N = np.dot(X_batch, weights[\"W\"])\n",
    "    P = N + weights[\"B\"]\n",
    "    loss = np.mean(np.power(y_batch - P, 2))\n",
    "\n",
    "    # save the information computed on the forward pass\n",
    "    forward_info = {\n",
    "        \"X\": X_batch,\n",
    "        \"N\": N,\n",
    "        \"P\": P,\n",
    "        \"y\": y_batch,\n",
    "    }\n",
    "\n",
    "    return loss, forward_info\n",
    "\n",
    "X_batch = np.array([\n",
    "    [0, 1, 2], # X1\n",
    "    [3, 4, 5], # X2\n",
    "    [5, 6, 7], # X3\n",
    "])\n",
    "\n",
    "weights = {\n",
    "    # \"B\": np.array([[2], [2], [2]]),\n",
    "    \"B\": np.array([[2]]), # will be broadcasted (?) as if np.array([[2], [2], [2]])\n",
    "    # \"B\": np.array([2]), # will be broadcasted (?) as if np.array([[2], [2], [2]])\n",
    "    \"W\": np.array([\n",
    "        # W1\n",
    "        [1], \n",
    "        [2], \n",
    "        [3],\n",
    "    ]),\n",
    "}\n",
    "\n",
    "y_batch = np.array([\n",
    "    [11],\n",
    "    [27],\n",
    "    [41],\n",
    "])\n",
    "\n",
    "loss, forward_info = forward_linear_regression(X_batch, y_batch, weights)\n",
    "loss, forward_info"
   ]
  },
  {
   "cell_type": "code",
   "execution_count": 3,
   "metadata": {},
   "outputs": [
    {
     "output_type": "execute_result",
     "data": {
      "text/plain": [
       "{'dLdP': array([[-2],\n",
       "        [ 2],\n",
       "        [-2]]),\n",
       " 'dPdN': array([[1],\n",
       "        [1],\n",
       "        [1]]),\n",
       " 'dLdN': array([[-2],\n",
       "        [ 2],\n",
       "        [-2]]),\n",
       " 'dNdW': array([[0, 3, 5],\n",
       "        [1, 4, 6],\n",
       "        [2, 5, 7]]),\n",
       " 'W': array([[-4],\n",
       "        [-6],\n",
       "        [-8]]),\n",
       " 'dPdB': array([[1]]),\n",
       " 'dLdB': array([[-2],\n",
       "        [ 2],\n",
       "        [-2]]),\n",
       " 'B': array([-2])}"
      ]
     },
     "metadata": {},
     "execution_count": 3
    }
   ],
   "source": [
    "# Calculating the Gradients\n",
    "def loss_gradients(forward_info: Dict[str, ndarray], weights: Dict[str, ndarray]) -> Dict[str, ndarray]:\n",
    "    dLdP = -2 * (forward_info[\"y\"] - forward_info[\"P\"])\n",
    "    dPdN = np.ones_like(forward_info[\"N\"])\n",
    "    dLdN = dLdP * dPdN\n",
    "    dNdW = np.transpose(forward_info[\"X\"])\n",
    "    dLdW = np.dot(dNdW, dLdN)\n",
    "\n",
    "    dPdB = np.ones_like(weights[\"B\"])\n",
    "    dLdB = dLdP * dPdB\n",
    "    B = dLdB.sum(axis=0) # axis sum due to 1-dim B (?)\n",
    "\n",
    "    # intermdiate results added to B and W for debugging purposes\n",
    "    loss_gradients = {\n",
    "        \"dLdP\": dLdP,\n",
    "        \"dPdN\": dPdN,\n",
    "        \"dLdN\": dLdN,\n",
    "        \"dNdW\": dNdW,\n",
    "        \"W\": dLdW,\n",
    "        \"dPdB\": dPdB,\n",
    "        \"dLdB\": dLdB,\n",
    "        \"B\": B, \n",
    "    }\n",
    "    return loss_gradients\n",
    "\n",
    "loss_gradients(forward_info, weights)"
   ]
  },
  {
   "cell_type": "code",
   "execution_count": 4,
   "metadata": {},
   "outputs": [
    {
     "output_type": "execute_result",
     "data": {
      "text/plain": [
       "{'W': array([[ 0.28766053],\n",
       "        [ 1.31596113],\n",
       "        [-0.53786283]]),\n",
       " 'B': array([[-0.38904971]])}"
      ]
     },
     "metadata": {},
     "execution_count": 4
    }
   ],
   "source": [
    "# Using These Gradients to Train the Model\n",
    "def init_weights(n_in: int) -> Dict[str, ndarray]:\n",
    "    weights = {\n",
    "    \"W\": np.random.randn(n_in, 1),\n",
    "    \"B\": np.random.randn(1, 1),\n",
    "    }\n",
    "    return weights\n",
    "\n",
    "init_weights(3)   "
   ]
  },
  {
   "cell_type": "code",
   "execution_count": 5,
   "metadata": {},
   "outputs": [
    {
     "output_type": "execute_result",
     "data": {
      "text/plain": [
       "(array([[0, 1, 2],\n",
       "        [3, 4, 5],\n",
       "        [5, 6, 7]]),\n",
       " array([[11],\n",
       "        [27],\n",
       "        [41]]),\n",
       " array([0, 1, 2]))"
      ]
     },
     "metadata": {},
     "execution_count": 5
    }
   ],
   "source": [
    "def permute_data(X: ndarray, y: ndarray):\n",
    "    perm = np.random.permutation(X.shape[0])\n",
    "    return X[perm], y[perm], perm\n",
    "\n",
    "X = np.array([\n",
    "    [0, 1, 2], # X1\n",
    "    [3, 4, 5], # X2\n",
    "    [5, 6, 7], # X3\n",
    "])\n",
    "\n",
    "y = np.array([\n",
    "    [11],\n",
    "    [27],\n",
    "    [41],\n",
    "])\n",
    "\n",
    "permute_data(X, y)"
   ]
  },
  {
   "cell_type": "code",
   "execution_count": 6,
   "metadata": {},
   "outputs": [
    {
     "output_type": "execute_result",
     "data": {
      "text/plain": [
       "(array([[0, 1, 2],\n",
       "        [3, 4, 5]]),\n",
       " array([[11],\n",
       "        [27]]))"
      ]
     },
     "metadata": {},
     "execution_count": 6
    }
   ],
   "source": [
    "Batch = Tuple[ndarray, ndarray]\n",
    "\n",
    "def generate_batch(X: ndarray, y: ndarray, start: int = 0, batch_size: int = 10) -> Batch:\n",
    "    assert X.ndim == y.ndim == 2, \"X and Y must be 2 dimensional\"\n",
    "    if start+batch_size > X.shape[0]:\n",
    "        batch_size = X.shape[0] - start    \n",
    "    X_batch, y_batch = X[start:start+batch_size], y[start:start+batch_size]    \n",
    "    return X_batch, y_batch\n",
    "    \n",
    "X = np.array([\n",
    "    [0, 1, 2], # X1\n",
    "    [3, 4, 5], # X2\n",
    "    [5, 6, 7], # X3\n",
    "])\n",
    "\n",
    "y = np.array([\n",
    "    [11],\n",
    "    [27],\n",
    "    [41],\n",
    "])\n",
    "\n",
    "generate_batch(X, y, 0, 2)"
   ]
  },
  {
   "cell_type": "code",
   "execution_count": 7,
   "metadata": {},
   "outputs": [
    {
     "output_type": "execute_result",
     "data": {
      "text/plain": [
       "(array([[6.3200e-03, 1.8000e+01, 2.3100e+00, 0.0000e+00, 5.3800e-01,\n",
       "         6.5750e+00, 6.5200e+01, 4.0900e+00, 1.0000e+00, 2.9600e+02,\n",
       "         1.5300e+01, 3.9690e+02, 4.9800e+00],\n",
       "        [2.7310e-02, 0.0000e+00, 7.0700e+00, 0.0000e+00, 4.6900e-01,\n",
       "         6.4210e+00, 7.8900e+01, 4.9671e+00, 2.0000e+00, 2.4200e+02,\n",
       "         1.7800e+01, 3.9690e+02, 9.1400e+00],\n",
       "        [2.7290e-02, 0.0000e+00, 7.0700e+00, 0.0000e+00, 4.6900e-01,\n",
       "         7.1850e+00, 6.1100e+01, 4.9671e+00, 2.0000e+00, 2.4200e+02,\n",
       "         1.7800e+01, 3.9283e+02, 4.0300e+00]]),\n",
       " array([24. , 21.6, 34.7]),\n",
       " array(['CRIM', 'ZN', 'INDUS'], dtype='<U7'))"
      ]
     },
     "metadata": {},
     "execution_count": 7
    }
   ],
   "source": [
    "from sklearn.datasets import load_boston\n",
    "boston = load_boston()\n",
    "data = boston.data\n",
    "target = boston.target\n",
    "features = boston.feature_names\n",
    "data[0:3], target[0:3], features[0:3]"
   ]
  },
  {
   "cell_type": "code",
   "execution_count": 8,
   "metadata": {},
   "outputs": [
    {
     "output_type": "execute_result",
     "data": {
      "text/plain": [
       "array([[-0.41978194,  0.28482986, -1.2879095 , -0.27259857, -0.14421743,\n",
       "         0.41367189, -0.12001342,  0.1402136 , -0.98284286, -0.66660821,\n",
       "        -1.45900038,  0.44105193, -1.0755623 ],\n",
       "       [-0.41733926, -0.48772236, -0.59338101, -0.27259857, -0.74026221,\n",
       "         0.19427445,  0.36716642,  0.55715988, -0.8678825 , -0.98732948,\n",
       "        -0.30309415,  0.44105193, -0.49243937],\n",
       "       [-0.41734159, -0.48772236, -0.59338101, -0.27259857, -0.74026221,\n",
       "         1.28271368, -0.26581176,  0.55715988, -0.8678825 , -0.98732948,\n",
       "        -0.30309415,  0.39642699, -1.2087274 ]])"
      ]
     },
     "metadata": {},
     "execution_count": 8
    }
   ],
   "source": [
    "from sklearn.preprocessing import StandardScaler\n",
    "s = StandardScaler()\n",
    "data = s.fit_transform(data)\n",
    "data[0:3]"
   ]
  },
  {
   "cell_type": "code",
   "execution_count": 9,
   "metadata": {},
   "outputs": [
    {
     "output_type": "execute_result",
     "data": {
      "text/plain": [
       "(array([[-0.41248185, -0.48772236, -1.30687771, -0.27259857, -0.83528384,\n",
       "          1.22857665, -0.51117971,  1.07773662, -0.75292215, -1.10611514,\n",
       "          0.1130321 ,  0.44105193, -1.02650148],\n",
       "        [ 5.53032093, -0.48772236,  1.01599907, -0.27259857,  0.36544404,\n",
       "         -0.75169891,  1.11749449, -1.13234958,  1.66124525,  1.53092646,\n",
       "          0.80657583, -3.88219457, -0.3564708 ],\n",
       "        [ 9.9339306 , -0.48772236,  1.01599907, -0.27259857,  1.00468047,\n",
       "          0.97356275,  0.82945385, -1.13068579,  1.66124525,  1.53092646,\n",
       "          0.80657583,  0.44105193,  0.63876307]]),\n",
       " array([[-0.41643272,  3.5896366 , -1.23392304, -0.27259857, -1.19722987,\n",
       "          2.23438568, -1.25795172,  0.62889308, -0.6379618 , -1.09423658,\n",
       "         -1.73641788,  0.39587878, -1.23956563],\n",
       "        [ 1.65868822, -0.48772236,  1.01599907, -0.27259857,  1.00468047,\n",
       "         -0.08780796,  1.11749449, -1.14513701,  1.66124525,  1.53092646,\n",
       "          0.80657583,  0.40640456,  1.27935726],\n",
       "        [ 0.21268563, -0.48772236,  1.01599907, -0.27259857,  1.36749033,\n",
       "          0.52764458,  1.05348546, -0.68445678,  1.66124525,  1.53092646,\n",
       "          0.80657583, -0.01517502,  0.71165343]]),\n",
       " array([36.2, 15. , 10.4]),\n",
       " array([48.5, 10.2, 15.2]))"
      ]
     },
     "metadata": {},
     "execution_count": 9
    }
   ],
   "source": [
    "from sklearn.model_selection import train_test_split\n",
    "X_train, X_test, y_train, y_test = train_test_split(data, target, test_size=0.3, random_state=80718)\n",
    "X_train[0:3], X_test[0:3], y_train[0:3], y_test[0:3]"
   ]
  },
  {
   "cell_type": "code",
   "execution_count": 10,
   "metadata": {},
   "outputs": [
    {
     "output_type": "execute_result",
     "data": {
      "text/plain": [
       "(array([[36.2],\n",
       "        [15. ],\n",
       "        [10.4]]),\n",
       " array([[48.5],\n",
       "        [10.2],\n",
       "        [15.2]]))"
      ]
     },
     "metadata": {},
     "execution_count": 10
    }
   ],
   "source": [
    "y_train, y_test = y_train.reshape(-1, 1), y_test.reshape(-1, 1)\n",
    "y_train[0:3], y_test[0:3]"
   ]
  },
  {
   "cell_type": "code",
   "execution_count": 11,
   "metadata": {},
   "outputs": [
    {
     "output_type": "execute_result",
     "data": {
      "text/plain": [
       "([813.2098258057695, 707.3600829629216, 419.780274960034],\n",
       " '...',\n",
       " [36.717795915470546, 14.400552796770944, 12.46628339805241],\n",
       " {'W': array([[-1.09542534],\n",
       "         [ 0.73529155],\n",
       "         [ 0.19771754],\n",
       "         [ 0.74750455],\n",
       "         [-2.28494893],\n",
       "         [ 2.20059621],\n",
       "         [ 0.7194554 ],\n",
       "         [-2.6384484 ],\n",
       "         [ 2.53576919],\n",
       "         [-1.68915096],\n",
       "         [-2.31624663],\n",
       "         [ 0.84352868],\n",
       "         [-4.25526828]]),\n",
       "  'B': array([[22.63115155]])})"
      ]
     },
     "metadata": {},
     "execution_count": 11
    }
   ],
   "source": [
    "def train(X: ndarray, \n",
    "          y: ndarray, \n",
    "          n_iter: int = 1000,\n",
    "          learning_rate: float = 0.001,\n",
    "          batch_size: int = 100,\n",
    "          return_losses: bool = True, \n",
    "          return_weights: bool = True, \n",
    "          seed: int = 1) -> None:\n",
    "    if seed:\n",
    "        np.random.seed(seed)\n",
    "    start = 0\n",
    "    weights = init_weights(X.shape[1])\n",
    "    X, y, dummy = permute_data(X, y)\n",
    "    losses = []\n",
    "    for i in range(n_iter):\n",
    "        if start >= X.shape[0]:\n",
    "            X, y, dummy = permute_data(X, y)\n",
    "            start = 0\n",
    "        X_batch, y_batch = generate_batch(X, y, start, batch_size)\n",
    "        start += batch_size\n",
    "        loss, forward_info = forward_linear_regression(X_batch, y_batch, weights)\n",
    "        if return_losses:\n",
    "            losses.append(loss)\n",
    "        loss_grads = loss_gradients(forward_info, weights)\n",
    "        for key in weights.keys():\n",
    "            weights[key] -= learning_rate * loss_grads[key]\n",
    "    \n",
    "    if return_weights:\n",
    "        return losses, weights\n",
    "\n",
    "train_info = train(X_train, y_train, n_iter = 1000, batch_size=23, seed=180708)\n",
    "losses, weights = train_info\n",
    "losses[0:3], \"...\", losses[-3:], weights"
   ]
  },
  {
   "cell_type": "code",
   "execution_count": 13,
   "metadata": {},
   "outputs": [
    {
     "output_type": "execute_result",
     "data": {
      "text/plain": [
       "[<matplotlib.lines.Line2D at 0x7f0aa4981940>]"
      ]
     },
     "metadata": {},
     "execution_count": 13
    },
    {
     "output_type": "display_data",
     "data": {
      "text/plain": "<Figure size 432x288 with 1 Axes>",
      "image/svg+xml": "<?xml version=\"1.0\" encoding=\"utf-8\" standalone=\"no\"?>\n<!DOCTYPE svg PUBLIC \"-//W3C//DTD SVG 1.1//EN\"\n  \"http://www.w3.org/Graphics/SVG/1.1/DTD/svg11.dtd\">\n<!-- Created with matplotlib (https://matplotlib.org/) -->\n<svg height=\"248.518125pt\" version=\"1.1\" viewBox=\"0 0 375.2875 248.518125\" width=\"375.2875pt\" xmlns=\"http://www.w3.org/2000/svg\" xmlns:xlink=\"http://www.w3.org/1999/xlink\">\n <metadata>\n  <rdf:RDF xmlns:cc=\"http://creativecommons.org/ns#\" xmlns:dc=\"http://purl.org/dc/elements/1.1/\" xmlns:rdf=\"http://www.w3.org/1999/02/22-rdf-syntax-ns#\">\n   <cc:Work>\n    <dc:type rdf:resource=\"http://purl.org/dc/dcmitype/StillImage\"/>\n    <dc:date>2021-01-07T11:50:33.719672</dc:date>\n    <dc:format>image/svg+xml</dc:format>\n    <dc:creator>\n     <cc:Agent>\n      <dc:title>Matplotlib v3.3.1, https://matplotlib.org/</dc:title>\n     </cc:Agent>\n    </dc:creator>\n   </cc:Work>\n  </rdf:RDF>\n </metadata>\n <defs>\n  <style type=\"text/css\">*{stroke-linecap:butt;stroke-linejoin:round;}</style>\n </defs>\n <g id=\"figure_1\">\n  <g id=\"patch_1\">\n   <path d=\"M 0 248.518125 \nL 375.2875 248.518125 \nL 375.2875 0 \nL 0 0 \nz\n\" style=\"fill:none;\"/>\n  </g>\n  <g id=\"axes_1\">\n   <g id=\"patch_2\">\n    <path d=\"M 33.2875 224.64 \nL 368.0875 224.64 \nL 368.0875 7.2 \nL 33.2875 7.2 \nz\n\" style=\"fill:#ffffff;\"/>\n   </g>\n   <g id=\"matplotlib.axis_1\">\n    <g id=\"xtick_1\">\n     <g id=\"line2d_1\">\n      <defs>\n       <path d=\"M 0 0 \nL 0 3.5 \n\" id=\"m5af05c8ab3\" style=\"stroke:#000000;stroke-width:0.8;\"/>\n      </defs>\n      <g>\n       <use style=\"stroke:#000000;stroke-width:0.8;\" x=\"48.505682\" xlink:href=\"#m5af05c8ab3\" y=\"224.64\"/>\n      </g>\n     </g>\n     <g id=\"text_1\">\n      <!-- 0 -->\n      <g transform=\"translate(45.324432 239.238437)scale(0.1 -0.1)\">\n       <defs>\n        <path d=\"M 31.78125 66.40625 \nQ 24.171875 66.40625 20.328125 58.90625 \nQ 16.5 51.421875 16.5 36.375 \nQ 16.5 21.390625 20.328125 13.890625 \nQ 24.171875 6.390625 31.78125 6.390625 \nQ 39.453125 6.390625 43.28125 13.890625 \nQ 47.125 21.390625 47.125 36.375 \nQ 47.125 51.421875 43.28125 58.90625 \nQ 39.453125 66.40625 31.78125 66.40625 \nz\nM 31.78125 74.21875 \nQ 44.046875 74.21875 50.515625 64.515625 \nQ 56.984375 54.828125 56.984375 36.375 \nQ 56.984375 17.96875 50.515625 8.265625 \nQ 44.046875 -1.421875 31.78125 -1.421875 \nQ 19.53125 -1.421875 13.0625 8.265625 \nQ 6.59375 17.96875 6.59375 36.375 \nQ 6.59375 54.828125 13.0625 64.515625 \nQ 19.53125 74.21875 31.78125 74.21875 \nz\n\" id=\"DejaVuSans-48\"/>\n       </defs>\n       <use xlink:href=\"#DejaVuSans-48\"/>\n      </g>\n     </g>\n    </g>\n    <g id=\"xtick_2\">\n     <g id=\"line2d_2\">\n      <g>\n       <use style=\"stroke:#000000;stroke-width:0.8;\" x=\"109.439343\" xlink:href=\"#m5af05c8ab3\" y=\"224.64\"/>\n      </g>\n     </g>\n     <g id=\"text_2\">\n      <!-- 200 -->\n      <g transform=\"translate(99.895593 239.238437)scale(0.1 -0.1)\">\n       <defs>\n        <path d=\"M 19.1875 8.296875 \nL 53.609375 8.296875 \nL 53.609375 0 \nL 7.328125 0 \nL 7.328125 8.296875 \nQ 12.9375 14.109375 22.625 23.890625 \nQ 32.328125 33.6875 34.8125 36.53125 \nQ 39.546875 41.84375 41.421875 45.53125 \nQ 43.3125 49.21875 43.3125 52.78125 \nQ 43.3125 58.59375 39.234375 62.25 \nQ 35.15625 65.921875 28.609375 65.921875 \nQ 23.96875 65.921875 18.8125 64.3125 \nQ 13.671875 62.703125 7.8125 59.421875 \nL 7.8125 69.390625 \nQ 13.765625 71.78125 18.9375 73 \nQ 24.125 74.21875 28.421875 74.21875 \nQ 39.75 74.21875 46.484375 68.546875 \nQ 53.21875 62.890625 53.21875 53.421875 \nQ 53.21875 48.921875 51.53125 44.890625 \nQ 49.859375 40.875 45.40625 35.40625 \nQ 44.1875 33.984375 37.640625 27.21875 \nQ 31.109375 20.453125 19.1875 8.296875 \nz\n\" id=\"DejaVuSans-50\"/>\n       </defs>\n       <use xlink:href=\"#DejaVuSans-50\"/>\n       <use x=\"63.623047\" xlink:href=\"#DejaVuSans-48\"/>\n       <use x=\"127.246094\" xlink:href=\"#DejaVuSans-48\"/>\n      </g>\n     </g>\n    </g>\n    <g id=\"xtick_3\">\n     <g id=\"line2d_3\">\n      <g>\n       <use style=\"stroke:#000000;stroke-width:0.8;\" x=\"170.373004\" xlink:href=\"#m5af05c8ab3\" y=\"224.64\"/>\n      </g>\n     </g>\n     <g id=\"text_3\">\n      <!-- 400 -->\n      <g transform=\"translate(160.829254 239.238437)scale(0.1 -0.1)\">\n       <defs>\n        <path d=\"M 37.796875 64.3125 \nL 12.890625 25.390625 \nL 37.796875 25.390625 \nz\nM 35.203125 72.90625 \nL 47.609375 72.90625 \nL 47.609375 25.390625 \nL 58.015625 25.390625 \nL 58.015625 17.1875 \nL 47.609375 17.1875 \nL 47.609375 0 \nL 37.796875 0 \nL 37.796875 17.1875 \nL 4.890625 17.1875 \nL 4.890625 26.703125 \nz\n\" id=\"DejaVuSans-52\"/>\n       </defs>\n       <use xlink:href=\"#DejaVuSans-52\"/>\n       <use x=\"63.623047\" xlink:href=\"#DejaVuSans-48\"/>\n       <use x=\"127.246094\" xlink:href=\"#DejaVuSans-48\"/>\n      </g>\n     </g>\n    </g>\n    <g id=\"xtick_4\">\n     <g id=\"line2d_4\">\n      <g>\n       <use style=\"stroke:#000000;stroke-width:0.8;\" x=\"231.306665\" xlink:href=\"#m5af05c8ab3\" y=\"224.64\"/>\n      </g>\n     </g>\n     <g id=\"text_4\">\n      <!-- 600 -->\n      <g transform=\"translate(221.762915 239.238437)scale(0.1 -0.1)\">\n       <defs>\n        <path d=\"M 33.015625 40.375 \nQ 26.375 40.375 22.484375 35.828125 \nQ 18.609375 31.296875 18.609375 23.390625 \nQ 18.609375 15.53125 22.484375 10.953125 \nQ 26.375 6.390625 33.015625 6.390625 \nQ 39.65625 6.390625 43.53125 10.953125 \nQ 47.40625 15.53125 47.40625 23.390625 \nQ 47.40625 31.296875 43.53125 35.828125 \nQ 39.65625 40.375 33.015625 40.375 \nz\nM 52.59375 71.296875 \nL 52.59375 62.3125 \nQ 48.875 64.0625 45.09375 64.984375 \nQ 41.3125 65.921875 37.59375 65.921875 \nQ 27.828125 65.921875 22.671875 59.328125 \nQ 17.53125 52.734375 16.796875 39.40625 \nQ 19.671875 43.65625 24.015625 45.921875 \nQ 28.375 48.1875 33.59375 48.1875 \nQ 44.578125 48.1875 50.953125 41.515625 \nQ 57.328125 34.859375 57.328125 23.390625 \nQ 57.328125 12.15625 50.6875 5.359375 \nQ 44.046875 -1.421875 33.015625 -1.421875 \nQ 20.359375 -1.421875 13.671875 8.265625 \nQ 6.984375 17.96875 6.984375 36.375 \nQ 6.984375 53.65625 15.1875 63.9375 \nQ 23.390625 74.21875 37.203125 74.21875 \nQ 40.921875 74.21875 44.703125 73.484375 \nQ 48.484375 72.75 52.59375 71.296875 \nz\n\" id=\"DejaVuSans-54\"/>\n       </defs>\n       <use xlink:href=\"#DejaVuSans-54\"/>\n       <use x=\"63.623047\" xlink:href=\"#DejaVuSans-48\"/>\n       <use x=\"127.246094\" xlink:href=\"#DejaVuSans-48\"/>\n      </g>\n     </g>\n    </g>\n    <g id=\"xtick_5\">\n     <g id=\"line2d_5\">\n      <g>\n       <use style=\"stroke:#000000;stroke-width:0.8;\" x=\"292.240326\" xlink:href=\"#m5af05c8ab3\" y=\"224.64\"/>\n      </g>\n     </g>\n     <g id=\"text_5\">\n      <!-- 800 -->\n      <g transform=\"translate(282.696576 239.238437)scale(0.1 -0.1)\">\n       <defs>\n        <path d=\"M 31.78125 34.625 \nQ 24.75 34.625 20.71875 30.859375 \nQ 16.703125 27.09375 16.703125 20.515625 \nQ 16.703125 13.921875 20.71875 10.15625 \nQ 24.75 6.390625 31.78125 6.390625 \nQ 38.8125 6.390625 42.859375 10.171875 \nQ 46.921875 13.96875 46.921875 20.515625 \nQ 46.921875 27.09375 42.890625 30.859375 \nQ 38.875 34.625 31.78125 34.625 \nz\nM 21.921875 38.8125 \nQ 15.578125 40.375 12.03125 44.71875 \nQ 8.5 49.078125 8.5 55.328125 \nQ 8.5 64.0625 14.71875 69.140625 \nQ 20.953125 74.21875 31.78125 74.21875 \nQ 42.671875 74.21875 48.875 69.140625 \nQ 55.078125 64.0625 55.078125 55.328125 \nQ 55.078125 49.078125 51.53125 44.71875 \nQ 48 40.375 41.703125 38.8125 \nQ 48.828125 37.15625 52.796875 32.3125 \nQ 56.78125 27.484375 56.78125 20.515625 \nQ 56.78125 9.90625 50.3125 4.234375 \nQ 43.84375 -1.421875 31.78125 -1.421875 \nQ 19.734375 -1.421875 13.25 4.234375 \nQ 6.78125 9.90625 6.78125 20.515625 \nQ 6.78125 27.484375 10.78125 32.3125 \nQ 14.796875 37.15625 21.921875 38.8125 \nz\nM 18.3125 54.390625 \nQ 18.3125 48.734375 21.84375 45.5625 \nQ 25.390625 42.390625 31.78125 42.390625 \nQ 38.140625 42.390625 41.71875 45.5625 \nQ 45.3125 48.734375 45.3125 54.390625 \nQ 45.3125 60.0625 41.71875 63.234375 \nQ 38.140625 66.40625 31.78125 66.40625 \nQ 25.390625 66.40625 21.84375 63.234375 \nQ 18.3125 60.0625 18.3125 54.390625 \nz\n\" id=\"DejaVuSans-56\"/>\n       </defs>\n       <use xlink:href=\"#DejaVuSans-56\"/>\n       <use x=\"63.623047\" xlink:href=\"#DejaVuSans-48\"/>\n       <use x=\"127.246094\" xlink:href=\"#DejaVuSans-48\"/>\n      </g>\n     </g>\n    </g>\n    <g id=\"xtick_6\">\n     <g id=\"line2d_6\">\n      <g>\n       <use style=\"stroke:#000000;stroke-width:0.8;\" x=\"353.173986\" xlink:href=\"#m5af05c8ab3\" y=\"224.64\"/>\n      </g>\n     </g>\n     <g id=\"text_6\">\n      <!-- 1000 -->\n      <g transform=\"translate(340.448986 239.238437)scale(0.1 -0.1)\">\n       <defs>\n        <path d=\"M 12.40625 8.296875 \nL 28.515625 8.296875 \nL 28.515625 63.921875 \nL 10.984375 60.40625 \nL 10.984375 69.390625 \nL 28.421875 72.90625 \nL 38.28125 72.90625 \nL 38.28125 8.296875 \nL 54.390625 8.296875 \nL 54.390625 0 \nL 12.40625 0 \nz\n\" id=\"DejaVuSans-49\"/>\n       </defs>\n       <use xlink:href=\"#DejaVuSans-49\"/>\n       <use x=\"63.623047\" xlink:href=\"#DejaVuSans-48\"/>\n       <use x=\"127.246094\" xlink:href=\"#DejaVuSans-48\"/>\n       <use x=\"190.869141\" xlink:href=\"#DejaVuSans-48\"/>\n      </g>\n     </g>\n    </g>\n   </g>\n   <g id=\"matplotlib.axis_2\">\n    <g id=\"ytick_1\">\n     <g id=\"line2d_7\">\n      <defs>\n       <path d=\"M 0 0 \nL -3.5 0 \n\" id=\"m02cfceb38c\" style=\"stroke:#000000;stroke-width:0.8;\"/>\n      </defs>\n      <g>\n       <use style=\"stroke:#000000;stroke-width:0.8;\" x=\"33.2875\" xlink:href=\"#m02cfceb38c\" y=\"215.323665\"/>\n      </g>\n     </g>\n     <g id=\"text_7\">\n      <!-- 0 -->\n      <g transform=\"translate(19.925 219.122883)scale(0.1 -0.1)\">\n       <use xlink:href=\"#DejaVuSans-48\"/>\n      </g>\n     </g>\n    </g>\n    <g id=\"ytick_2\">\n     <g id=\"line2d_8\">\n      <g>\n       <use style=\"stroke:#000000;stroke-width:0.8;\" x=\"33.2875\" xlink:href=\"#m02cfceb38c\" y=\"190.946189\"/>\n      </g>\n     </g>\n     <g id=\"text_8\">\n      <!-- 100 -->\n      <g transform=\"translate(7.2 194.745408)scale(0.1 -0.1)\">\n       <use xlink:href=\"#DejaVuSans-49\"/>\n       <use x=\"63.623047\" xlink:href=\"#DejaVuSans-48\"/>\n       <use x=\"127.246094\" xlink:href=\"#DejaVuSans-48\"/>\n      </g>\n     </g>\n    </g>\n    <g id=\"ytick_3\">\n     <g id=\"line2d_9\">\n      <g>\n       <use style=\"stroke:#000000;stroke-width:0.8;\" x=\"33.2875\" xlink:href=\"#m02cfceb38c\" y=\"166.568713\"/>\n      </g>\n     </g>\n     <g id=\"text_9\">\n      <!-- 200 -->\n      <g transform=\"translate(7.2 170.367932)scale(0.1 -0.1)\">\n       <use xlink:href=\"#DejaVuSans-50\"/>\n       <use x=\"63.623047\" xlink:href=\"#DejaVuSans-48\"/>\n       <use x=\"127.246094\" xlink:href=\"#DejaVuSans-48\"/>\n      </g>\n     </g>\n    </g>\n    <g id=\"ytick_4\">\n     <g id=\"line2d_10\">\n      <g>\n       <use style=\"stroke:#000000;stroke-width:0.8;\" x=\"33.2875\" xlink:href=\"#m02cfceb38c\" y=\"142.191237\"/>\n      </g>\n     </g>\n     <g id=\"text_10\">\n      <!-- 300 -->\n      <g transform=\"translate(7.2 145.990456)scale(0.1 -0.1)\">\n       <defs>\n        <path d=\"M 40.578125 39.3125 \nQ 47.65625 37.796875 51.625 33 \nQ 55.609375 28.21875 55.609375 21.1875 \nQ 55.609375 10.40625 48.1875 4.484375 \nQ 40.765625 -1.421875 27.09375 -1.421875 \nQ 22.515625 -1.421875 17.65625 -0.515625 \nQ 12.796875 0.390625 7.625 2.203125 \nL 7.625 11.71875 \nQ 11.71875 9.328125 16.59375 8.109375 \nQ 21.484375 6.890625 26.8125 6.890625 \nQ 36.078125 6.890625 40.9375 10.546875 \nQ 45.796875 14.203125 45.796875 21.1875 \nQ 45.796875 27.640625 41.28125 31.265625 \nQ 36.765625 34.90625 28.71875 34.90625 \nL 20.21875 34.90625 \nL 20.21875 43.015625 \nL 29.109375 43.015625 \nQ 36.375 43.015625 40.234375 45.921875 \nQ 44.09375 48.828125 44.09375 54.296875 \nQ 44.09375 59.90625 40.109375 62.90625 \nQ 36.140625 65.921875 28.71875 65.921875 \nQ 24.65625 65.921875 20.015625 65.03125 \nQ 15.375 64.15625 9.8125 62.3125 \nL 9.8125 71.09375 \nQ 15.4375 72.65625 20.34375 73.4375 \nQ 25.25 74.21875 29.59375 74.21875 \nQ 40.828125 74.21875 47.359375 69.109375 \nQ 53.90625 64.015625 53.90625 55.328125 \nQ 53.90625 49.265625 50.4375 45.09375 \nQ 46.96875 40.921875 40.578125 39.3125 \nz\n\" id=\"DejaVuSans-51\"/>\n       </defs>\n       <use xlink:href=\"#DejaVuSans-51\"/>\n       <use x=\"63.623047\" xlink:href=\"#DejaVuSans-48\"/>\n       <use x=\"127.246094\" xlink:href=\"#DejaVuSans-48\"/>\n      </g>\n     </g>\n    </g>\n    <g id=\"ytick_5\">\n     <g id=\"line2d_11\">\n      <g>\n       <use style=\"stroke:#000000;stroke-width:0.8;\" x=\"33.2875\" xlink:href=\"#m02cfceb38c\" y=\"117.813762\"/>\n      </g>\n     </g>\n     <g id=\"text_11\">\n      <!-- 400 -->\n      <g transform=\"translate(7.2 121.61298)scale(0.1 -0.1)\">\n       <use xlink:href=\"#DejaVuSans-52\"/>\n       <use x=\"63.623047\" xlink:href=\"#DejaVuSans-48\"/>\n       <use x=\"127.246094\" xlink:href=\"#DejaVuSans-48\"/>\n      </g>\n     </g>\n    </g>\n    <g id=\"ytick_6\">\n     <g id=\"line2d_12\">\n      <g>\n       <use style=\"stroke:#000000;stroke-width:0.8;\" x=\"33.2875\" xlink:href=\"#m02cfceb38c\" y=\"93.436286\"/>\n      </g>\n     </g>\n     <g id=\"text_12\">\n      <!-- 500 -->\n      <g transform=\"translate(7.2 97.235505)scale(0.1 -0.1)\">\n       <defs>\n        <path d=\"M 10.796875 72.90625 \nL 49.515625 72.90625 \nL 49.515625 64.59375 \nL 19.828125 64.59375 \nL 19.828125 46.734375 \nQ 21.96875 47.46875 24.109375 47.828125 \nQ 26.265625 48.1875 28.421875 48.1875 \nQ 40.625 48.1875 47.75 41.5 \nQ 54.890625 34.8125 54.890625 23.390625 \nQ 54.890625 11.625 47.5625 5.09375 \nQ 40.234375 -1.421875 26.90625 -1.421875 \nQ 22.3125 -1.421875 17.546875 -0.640625 \nQ 12.796875 0.140625 7.71875 1.703125 \nL 7.71875 11.625 \nQ 12.109375 9.234375 16.796875 8.0625 \nQ 21.484375 6.890625 26.703125 6.890625 \nQ 35.15625 6.890625 40.078125 11.328125 \nQ 45.015625 15.765625 45.015625 23.390625 \nQ 45.015625 31 40.078125 35.4375 \nQ 35.15625 39.890625 26.703125 39.890625 \nQ 22.75 39.890625 18.8125 39.015625 \nQ 14.890625 38.140625 10.796875 36.28125 \nz\n\" id=\"DejaVuSans-53\"/>\n       </defs>\n       <use xlink:href=\"#DejaVuSans-53\"/>\n       <use x=\"63.623047\" xlink:href=\"#DejaVuSans-48\"/>\n       <use x=\"127.246094\" xlink:href=\"#DejaVuSans-48\"/>\n      </g>\n     </g>\n    </g>\n    <g id=\"ytick_7\">\n     <g id=\"line2d_13\">\n      <g>\n       <use style=\"stroke:#000000;stroke-width:0.8;\" x=\"33.2875\" xlink:href=\"#m02cfceb38c\" y=\"69.05881\"/>\n      </g>\n     </g>\n     <g id=\"text_13\">\n      <!-- 600 -->\n      <g transform=\"translate(7.2 72.858029)scale(0.1 -0.1)\">\n       <use xlink:href=\"#DejaVuSans-54\"/>\n       <use x=\"63.623047\" xlink:href=\"#DejaVuSans-48\"/>\n       <use x=\"127.246094\" xlink:href=\"#DejaVuSans-48\"/>\n      </g>\n     </g>\n    </g>\n    <g id=\"ytick_8\">\n     <g id=\"line2d_14\">\n      <g>\n       <use style=\"stroke:#000000;stroke-width:0.8;\" x=\"33.2875\" xlink:href=\"#m02cfceb38c\" y=\"44.681334\"/>\n      </g>\n     </g>\n     <g id=\"text_14\">\n      <!-- 700 -->\n      <g transform=\"translate(7.2 48.480553)scale(0.1 -0.1)\">\n       <defs>\n        <path d=\"M 8.203125 72.90625 \nL 55.078125 72.90625 \nL 55.078125 68.703125 \nL 28.609375 0 \nL 18.3125 0 \nL 43.21875 64.59375 \nL 8.203125 64.59375 \nz\n\" id=\"DejaVuSans-55\"/>\n       </defs>\n       <use xlink:href=\"#DejaVuSans-55\"/>\n       <use x=\"63.623047\" xlink:href=\"#DejaVuSans-48\"/>\n       <use x=\"127.246094\" xlink:href=\"#DejaVuSans-48\"/>\n      </g>\n     </g>\n    </g>\n    <g id=\"ytick_9\">\n     <g id=\"line2d_15\">\n      <g>\n       <use style=\"stroke:#000000;stroke-width:0.8;\" x=\"33.2875\" xlink:href=\"#m02cfceb38c\" y=\"20.303858\"/>\n      </g>\n     </g>\n     <g id=\"text_15\">\n      <!-- 800 -->\n      <g transform=\"translate(7.2 24.103077)scale(0.1 -0.1)\">\n       <use xlink:href=\"#DejaVuSans-56\"/>\n       <use x=\"63.623047\" xlink:href=\"#DejaVuSans-48\"/>\n       <use x=\"127.246094\" xlink:href=\"#DejaVuSans-48\"/>\n      </g>\n     </g>\n    </g>\n   </g>\n   <g id=\"line2d_16\">\n    <path clip-path=\"url(#p21156c82c9)\" d=\"M 48.505682 17.083636 \nL 48.81035 42.887132 \nL 49.115018 112.99183 \nL 49.419687 114.327245 \nL 49.724355 114.858178 \nL 50.029023 128.865009 \nL 50.333692 119.148887 \nL 50.63836 145.249817 \nL 50.943028 147.41326 \nL 51.247697 151.910741 \nL 51.552365 175.527403 \nL 52.161701 157.319633 \nL 52.46637 160.228732 \nL 52.771038 179.534801 \nL 53.075706 165.013785 \nL 53.380375 189.044051 \nL 53.685043 178.47777 \nL 53.989711 188.223806 \nL 54.599048 194.896848 \nL 54.903716 192.359749 \nL 55.208385 196.201197 \nL 55.513053 203.71237 \nL 55.817721 180.365032 \nL 56.122389 188.225743 \nL 56.427058 199.323335 \nL 56.731726 193.430812 \nL 57.036394 183.749518 \nL 57.341063 198.213025 \nL 57.645731 200.70206 \nL 57.950399 190.088451 \nL 58.255068 202.907388 \nL 58.559736 204.381115 \nL 58.864404 203.803655 \nL 59.169072 203.50903 \nL 59.473741 207.458597 \nL 59.778409 206.449067 \nL 60.083077 208.641629 \nL 60.387746 202.933858 \nL 60.692414 212.914923 \nL 60.997082 213.516975 \nL 61.301751 204.752044 \nL 61.606419 199.270514 \nL 61.911087 206.31717 \nL 62.215756 196.303017 \nL 62.520424 206.735682 \nL 63.12976 211.657758 \nL 63.434429 211.510453 \nL 63.739097 201.841754 \nL 64.043765 210.080227 \nL 64.348434 204.92495 \nL 64.653102 211.832608 \nL 64.95777 212.972715 \nL 65.262439 207.790232 \nL 65.567107 206.699599 \nL 65.871775 212.676011 \nL 66.176443 203.540942 \nL 66.481112 209.972269 \nL 66.78578 209.116424 \nL 67.090448 206.578883 \nL 67.395117 206.750473 \nL 67.699785 211.391213 \nL 68.004453 210.388093 \nL 68.309122 211.100815 \nL 68.61379 210.552084 \nL 68.918458 211.579385 \nL 69.223127 209.270242 \nL 69.527795 213.269706 \nL 70.137131 210.44356 \nL 70.4418 208.516996 \nL 70.746468 198.54688 \nL 71.051136 210.686492 \nL 71.355805 201.072145 \nL 71.660473 211.039874 \nL 71.965141 210.069477 \nL 72.26981 210.970256 \nL 72.574478 212.620851 \nL 72.879146 211.930032 \nL 73.183814 209.620828 \nL 73.793151 212.784774 \nL 74.097819 210.419909 \nL 74.402488 197.42612 \nL 74.707156 211.689621 \nL 75.011824 209.186392 \nL 75.316493 212.74416 \nL 75.621161 209.244271 \nL 75.925829 208.784644 \nL 76.230498 209.931167 \nL 76.535166 209.217667 \nL 76.839834 207.863152 \nL 77.144502 211.782235 \nL 77.449171 212.230155 \nL 77.753839 211.92248 \nL 78.058507 207.403459 \nL 78.363176 212.443487 \nL 78.667844 212.904271 \nL 78.972512 211.058791 \nL 79.277181 206.444222 \nL 79.581849 206.076881 \nL 79.886517 209.35992 \nL 80.191186 211.302143 \nL 80.495854 211.843414 \nL 80.800522 213.395902 \nL 81.10519 201.75417 \nL 81.409859 210.565445 \nL 81.714527 210.46523 \nL 82.019195 210.045467 \nL 82.323864 206.40577 \nL 82.628532 211.965625 \nL 82.9332 213.498829 \nL 83.542537 209.581136 \nL 83.847205 208.385169 \nL 84.151873 211.152279 \nL 84.456542 211.103661 \nL 84.76121 209.241773 \nL 85.065878 211.73722 \nL 85.370547 208.417044 \nL 85.675215 207.356325 \nL 86.284552 211.496477 \nL 86.58922 212.077458 \nL 86.893888 200.267105 \nL 87.198557 208.546721 \nL 87.503225 210.233273 \nL 87.807893 210.156919 \nL 88.112561 212.956929 \nL 88.41723 211.938928 \nL 88.721898 207.186145 \nL 89.026566 211.425997 \nL 89.331235 208.644113 \nL 89.635903 212.537746 \nL 89.940571 209.768745 \nL 90.24524 205.85806 \nL 90.549908 212.905256 \nL 91.159244 211.237624 \nL 91.463913 199.675693 \nL 91.768581 208.79384 \nL 92.073249 212.935382 \nL 92.377918 213.219639 \nL 92.682586 207.71738 \nL 92.987254 209.03016 \nL 93.291923 211.267243 \nL 93.596591 210.591026 \nL 93.901259 212.568207 \nL 94.205928 210.816114 \nL 94.510596 204.137303 \nL 94.815264 208.922678 \nL 95.119932 210.152007 \nL 95.424601 209.971884 \nL 95.729269 211.405191 \nL 96.033937 213.765691 \nL 96.338606 201.903689 \nL 96.643274 211.209947 \nL 96.947942 212.316468 \nL 97.252611 208.120695 \nL 97.557279 209.653596 \nL 97.861947 203.837687 \nL 98.166615 212.58232 \nL 98.471284 210.576904 \nL 98.775952 207.661439 \nL 99.08062 210.672365 \nL 99.385289 212.222764 \nL 99.689957 212.137933 \nL 99.994625 210.22872 \nL 100.299294 211.165333 \nL 100.603962 213.023588 \nL 100.90863 207.626638 \nL 101.213299 212.756358 \nL 101.517967 205.572122 \nL 101.822635 213.224436 \nL 102.431972 209.027156 \nL 102.73664 212.208656 \nL 103.041308 209.156003 \nL 103.345977 204.190969 \nL 103.650645 211.900766 \nL 103.955313 211.858055 \nL 104.259982 211.518295 \nL 104.869318 205.43593 \nL 105.173986 210.085178 \nL 105.478655 209.87506 \nL 105.783323 212.688055 \nL 106.087991 208.652549 \nL 106.39266 212.868048 \nL 106.697328 209.549105 \nL 107.001996 209.98974 \nL 107.306665 212.299124 \nL 107.611333 208.648119 \nL 107.916001 212.198159 \nL 108.22067 210.697528 \nL 108.525338 208.202941 \nL 108.830006 212.374723 \nL 109.134674 209.673575 \nL 109.744011 211.250807 \nL 110.048679 210.103556 \nL 110.353348 211.904162 \nL 110.658016 210.957211 \nL 110.962684 199.479348 \nL 111.267353 210.924527 \nL 111.572021 210.305974 \nL 111.876689 211.923669 \nL 112.181357 210.592956 \nL 112.486026 207.383342 \nL 113.095362 213.277755 \nL 113.400031 205.642292 \nL 113.704699 207.578842 \nL 114.009367 212.600856 \nL 114.314036 210.454206 \nL 114.618704 202.962828 \nL 114.923372 212.831127 \nL 115.532709 210.064114 \nL 115.837377 213.462281 \nL 116.142045 208.633615 \nL 116.446714 212.798804 \nL 117.05605 207.985631 \nL 117.360719 211.041335 \nL 117.665387 212.676653 \nL 117.970055 209.85656 \nL 118.274724 213.107943 \nL 118.579392 212.74698 \nL 118.88406 209.232859 \nL 119.188729 212.819718 \nL 119.493397 209.79871 \nL 119.798065 211.732004 \nL 120.102733 206.040652 \nL 120.407402 210.187034 \nL 120.71207 212.408894 \nL 121.321407 198.018049 \nL 121.626075 210.060709 \nL 121.930743 211.550788 \nL 122.235412 207.730528 \nL 122.54008 211.556628 \nL 122.844748 211.945631 \nL 123.149416 208.023597 \nL 123.454085 211.272829 \nL 123.758753 211.28621 \nL 124.063421 205.181397 \nL 124.36809 212.420843 \nL 124.672758 211.352278 \nL 124.977426 211.297456 \nL 125.282095 212.353519 \nL 125.586763 205.982846 \nL 125.891431 208.792696 \nL 126.1961 206.633192 \nL 126.500768 210.119509 \nL 126.805436 209.931292 \nL 127.110104 207.866838 \nL 127.414773 212.14836 \nL 127.719441 212.228345 \nL 128.024109 211.388914 \nL 128.328778 211.77738 \nL 128.633446 210.190546 \nL 128.938114 204.184512 \nL 129.242783 211.145986 \nL 129.547451 207.993335 \nL 129.852119 209.965685 \nL 130.156787 209.695808 \nL 130.461456 208.538663 \nL 130.766124 211.058663 \nL 131.070792 214.756364 \nL 131.375461 211.969985 \nL 131.680129 212.8594 \nL 131.984797 207.115627 \nL 132.289466 211.554188 \nL 132.594134 212.824345 \nL 132.898802 213.033085 \nL 133.203471 202.170617 \nL 133.812807 212.659215 \nL 134.117475 208.533397 \nL 134.422144 208.399818 \nL 134.726812 211.564542 \nL 135.03148 209.586962 \nL 135.336149 209.421772 \nL 135.640817 209.74593 \nL 135.945485 212.392534 \nL 136.250154 211.437765 \nL 136.554822 201.025447 \nL 136.85949 209.02537 \nL 137.164158 209.327068 \nL 137.468827 213.617461 \nL 137.773495 212.442933 \nL 138.078163 207.519618 \nL 138.6875 212.517421 \nL 138.992168 211.136526 \nL 139.296837 213.500009 \nL 139.906173 210.554536 \nL 140.51551 208.433274 \nL 140.820178 208.527909 \nL 141.124846 210.30564 \nL 141.429515 210.590543 \nL 141.734183 213.079765 \nL 142.038851 200.893999 \nL 142.34352 210.034971 \nL 142.952856 213.31042 \nL 143.257525 213.08206 \nL 143.562193 208.773132 \nL 143.866861 207.597742 \nL 144.171529 203.985907 \nL 144.476198 213.370819 \nL 144.780866 211.781862 \nL 145.085534 212.612917 \nL 145.390203 210.79774 \nL 145.694871 208.14327 \nL 145.999539 212.62995 \nL 146.608876 209.125939 \nL 146.913544 208.218491 \nL 147.218213 206.894329 \nL 147.522881 212.039839 \nL 147.827549 211.187625 \nL 148.132217 205.281278 \nL 148.741554 213.03474 \nL 149.046222 210.643871 \nL 149.350891 210.624306 \nL 149.655559 211.866887 \nL 149.960227 207.544586 \nL 150.264896 211.469061 \nL 150.569564 208.464829 \nL 150.874232 213.052193 \nL 151.1789 212.420765 \nL 151.483569 212.479191 \nL 151.788237 210.535303 \nL 152.092905 205.274522 \nL 152.702242 212.164865 \nL 153.00691 212.714907 \nL 153.311579 208.763907 \nL 153.616247 210.477809 \nL 153.920915 209.187917 \nL 154.225584 209.300172 \nL 154.530252 212.509425 \nL 154.83492 209.394454 \nL 155.139588 204.255544 \nL 155.748925 211.004797 \nL 156.053593 201.725858 \nL 156.358262 210.444994 \nL 156.66293 206.384798 \nL 157.576935 211.59364 \nL 157.881603 208.818492 \nL 158.186271 213.219217 \nL 158.49094 210.429265 \nL 158.795608 213.337666 \nL 159.100276 213.013771 \nL 159.404945 210.934141 \nL 159.709613 210.537037 \nL 160.014281 211.658301 \nL 160.31895 207.817545 \nL 160.623618 211.531464 \nL 160.928286 209.843123 \nL 161.232955 207.186943 \nL 161.537623 211.090129 \nL 161.842291 208.917745 \nL 162.146959 212.678291 \nL 162.451628 212.636312 \nL 162.756296 209.541506 \nL 163.060964 210.480387 \nL 163.365633 203.301062 \nL 163.670301 211.632089 \nL 163.974969 211.836705 \nL 164.279638 210.90308 \nL 164.584306 207.785905 \nL 164.888974 210.84185 \nL 165.193643 208.917411 \nL 165.498311 213.305675 \nL 165.802979 209.191631 \nL 166.107647 211.676619 \nL 166.412316 206.5814 \nL 166.716984 212.880904 \nL 167.021652 211.883641 \nL 167.326321 204.691536 \nL 167.630989 209.95308 \nL 167.935657 209.960189 \nL 168.240326 211.441401 \nL 168.544994 207.986491 \nL 168.849662 209.370335 \nL 169.15433 207.018266 \nL 169.458999 212.379438 \nL 169.763667 211.616494 \nL 170.068335 209.900788 \nL 170.373004 211.253366 \nL 170.677672 206.581733 \nL 170.98234 209.29277 \nL 171.287009 213.22865 \nL 171.591677 211.824402 \nL 171.896345 211.053542 \nL 172.201014 209.851865 \nL 172.505682 210.339062 \nL 172.81035 212.231657 \nL 173.115018 209.921886 \nL 173.419687 208.807797 \nL 173.724355 205.852858 \nL 174.029023 209.735917 \nL 174.333692 210.01421 \nL 174.63836 209.510691 \nL 174.943028 212.640597 \nL 175.247697 209.102196 \nL 175.552365 211.839888 \nL 175.857033 208.719509 \nL 176.161701 213.195184 \nL 176.46637 211.228856 \nL 176.771038 211.710246 \nL 177.380375 208.702286 \nL 177.685043 208.957032 \nL 177.989711 212.00384 \nL 178.29438 210.831403 \nL 178.599048 199.319179 \nL 178.903716 209.662114 \nL 179.208385 212.663518 \nL 179.513053 210.678863 \nL 179.817721 212.848079 \nL 180.122389 213.040119 \nL 180.427058 206.015567 \nL 180.731726 210.872488 \nL 181.036394 210.444401 \nL 181.341063 212.856716 \nL 181.645731 210.711101 \nL 181.950399 211.297215 \nL 182.255068 206.993354 \nL 182.559736 209.780619 \nL 182.864404 210.851328 \nL 183.169072 212.875413 \nL 183.473741 201.591814 \nL 184.083077 212.569895 \nL 184.387746 212.005787 \nL 184.692414 211.729625 \nL 184.997082 211.741371 \nL 185.301751 207.971431 \nL 185.606419 211.071553 \nL 185.911087 205.689187 \nL 186.215756 209.325754 \nL 186.520424 206.394931 \nL 186.825092 208.976203 \nL 187.12976 209.174668 \nL 187.434429 207.975238 \nL 187.739097 210.849899 \nL 188.043765 211.990407 \nL 188.348434 212.674173 \nL 188.653102 212.750129 \nL 188.95777 211.618223 \nL 189.262439 212.662634 \nL 189.567107 209.932929 \nL 189.871775 209.069737 \nL 190.176443 212.093805 \nL 190.481112 211.747946 \nL 190.78578 206.301505 \nL 191.090448 206.709894 \nL 191.395117 211.542119 \nL 191.699785 209.565854 \nL 192.309122 213.302041 \nL 192.61379 207.11661 \nL 192.918458 205.881083 \nL 193.223127 213.195333 \nL 193.527795 209.737699 \nL 193.832463 211.978213 \nL 194.137131 211.269877 \nL 194.4418 210.947367 \nL 194.746468 209.980195 \nL 195.051136 212.368191 \nL 195.355805 210.239891 \nL 195.660473 200.961406 \nL 195.965141 211.640153 \nL 196.26981 212.802493 \nL 196.574478 212.834681 \nL 196.879146 211.412417 \nL 197.183814 209.31211 \nL 197.488483 204.170488 \nL 197.793151 211.787451 \nL 198.097819 211.679354 \nL 198.402488 208.203531 \nL 199.011824 212.615436 \nL 199.316493 212.337502 \nL 199.621161 211.530655 \nL 199.925829 210.11602 \nL 200.230498 213.145426 \nL 201.144502 206.518441 \nL 201.449171 210.518048 \nL 202.058507 212.167213 \nL 202.363176 212.463137 \nL 202.667844 210.931094 \nL 202.972512 210.614954 \nL 203.277181 201.401404 \nL 203.581849 207.66993 \nL 203.886517 210.99593 \nL 204.191186 211.177354 \nL 204.495854 208.871251 \nL 204.800522 212.058201 \nL 205.10519 205.77125 \nL 205.409859 211.15025 \nL 205.714527 209.996367 \nL 206.019195 207.777679 \nL 206.323864 210.966638 \nL 206.628532 210.480232 \nL 206.9332 211.781964 \nL 207.237869 212.590913 \nL 207.542537 208.03691 \nL 207.847205 213.302906 \nL 208.151873 212.479417 \nL 208.456542 207.883748 \nL 208.76121 206.740425 \nL 209.065878 211.724113 \nL 209.370547 209.532638 \nL 209.675215 205.713559 \nL 209.979883 211.797477 \nL 210.284552 211.219004 \nL 210.58922 207.774432 \nL 210.893888 210.614014 \nL 211.198557 210.703385 \nL 211.503225 210.299061 \nL 211.807893 212.928728 \nL 212.112561 208.780326 \nL 212.41723 212.194649 \nL 212.721898 207.681476 \nL 213.026566 211.466185 \nL 213.331235 210.602575 \nL 213.635903 210.713317 \nL 213.940571 206.978542 \nL 214.549908 212.21487 \nL 214.854576 212.836649 \nL 215.159244 212.499583 \nL 215.463913 206.007351 \nL 215.768581 209.349347 \nL 216.073249 209.262945 \nL 216.377918 209.7243 \nL 216.682586 212.480632 \nL 216.987254 212.77548 \nL 217.291923 211.891997 \nL 217.596591 208.269176 \nL 217.901259 203.256007 \nL 218.205928 212.589816 \nL 218.510596 207.90559 \nL 218.815264 212.045539 \nL 219.119932 207.455249 \nL 219.424601 210.957083 \nL 219.729269 208.215639 \nL 220.033937 210.332794 \nL 220.338606 208.621604 \nL 220.643274 207.767737 \nL 220.947942 212.903619 \nL 221.252611 206.409847 \nL 221.557279 207.080882 \nL 221.861947 212.465718 \nL 222.166615 211.968673 \nL 222.471284 210.969113 \nL 222.775952 213.08623 \nL 223.385289 210.305261 \nL 223.689957 210.388559 \nL 223.994625 213.228633 \nL 224.299294 208.422648 \nL 224.603962 212.791317 \nL 224.90863 211.091205 \nL 225.213299 208.070818 \nL 225.517967 212.37615 \nL 226.127303 207.485072 \nL 226.431972 206.965055 \nL 226.73664 205.874201 \nL 227.041308 211.088246 \nL 227.345977 212.25838 \nL 227.650645 207.606482 \nL 228.259982 213.175821 \nL 228.56465 212.08501 \nL 228.869318 208.618759 \nL 229.173986 212.798037 \nL 229.478655 209.935474 \nL 229.783323 210.652778 \nL 230.39266 212.645504 \nL 230.697328 210.932264 \nL 231.001996 214.184898 \nL 231.306665 205.604271 \nL 231.611333 210.854493 \nL 231.916001 209.102752 \nL 232.22067 211.34142 \nL 232.830006 205.421295 \nL 233.439343 212.229138 \nL 233.744011 205.647905 \nL 234.048679 208.635333 \nL 234.658016 211.218256 \nL 234.962684 210.697837 \nL 235.267353 210.522732 \nL 235.572021 212.702677 \nL 235.876689 212.568468 \nL 236.181357 211.116036 \nL 236.486026 203.081688 \nL 236.790694 211.224679 \nL 237.095362 210.250884 \nL 237.400031 211.81349 \nL 237.704699 212.007828 \nL 238.009367 209.47395 \nL 238.314036 211.604709 \nL 238.618704 210.52732 \nL 238.923372 212.81925 \nL 239.228041 210.357637 \nL 239.532709 211.389679 \nL 239.837377 209.028418 \nL 240.142045 209.810513 \nL 240.446714 211.290196 \nL 240.751382 211.435089 \nL 241.05605 210.087563 \nL 241.360719 205.281037 \nL 241.665387 210.130769 \nL 241.970055 210.186331 \nL 242.274724 210.704843 \nL 242.579392 211.691249 \nL 242.88406 211.895115 \nL 243.188729 193.749876 \nL 243.493397 210.783852 \nL 243.798065 205.938069 \nL 244.102733 211.694243 \nL 244.407402 208.240539 \nL 244.71207 208.907601 \nL 245.016738 212.086146 \nL 245.321407 211.939494 \nL 245.626075 212.621621 \nL 245.930743 207.081213 \nL 246.235412 212.114598 \nL 246.54008 212.689741 \nL 246.844748 210.482289 \nL 247.149416 212.605744 \nL 247.454085 204.543503 \nL 247.758753 209.854063 \nL 248.063421 208.40531 \nL 248.36809 206.036666 \nL 248.672758 212.415715 \nL 248.977426 209.346501 \nL 249.282095 211.154767 \nL 249.586763 209.476315 \nL 249.891431 209.406349 \nL 250.1961 212.534201 \nL 250.500768 212.187303 \nL 250.805436 213.159492 \nL 251.110104 206.133197 \nL 251.414773 210.404334 \nL 251.719441 208.03056 \nL 252.024109 207.999063 \nL 252.328778 212.531935 \nL 252.633446 210.043314 \nL 252.938114 211.122362 \nL 253.242783 207.129081 \nL 253.547451 210.606341 \nL 253.852119 211.390477 \nL 254.156787 210.949896 \nL 254.461456 210.093108 \nL 254.766124 208.830944 \nL 255.070792 210.653057 \nL 255.375461 211.469616 \nL 255.680129 208.245853 \nL 255.984797 212.363682 \nL 256.289466 206.277548 \nL 256.594134 211.646751 \nL 256.898802 213.624319 \nL 257.203471 206.218488 \nL 257.508139 210.882292 \nL 257.812807 213.541435 \nL 258.117475 202.414642 \nL 258.422144 210.323439 \nL 258.726812 211.922785 \nL 259.03148 212.849025 \nL 259.640817 207.527282 \nL 259.945485 209.386221 \nL 260.250154 210.064574 \nL 260.554822 209.960575 \nL 260.85949 212.817519 \nL 261.164158 209.309999 \nL 261.773495 211.823568 \nL 262.078163 209.520952 \nL 262.6875 213.351069 \nL 262.992168 209.591043 \nL 263.296837 209.555809 \nL 263.601505 208.84189 \nL 263.906173 211.775735 \nL 264.210842 212.125755 \nL 264.51551 212.795051 \nL 264.820178 210.589691 \nL 265.124846 210.038963 \nL 265.429515 210.817368 \nL 265.734183 205.251369 \nL 266.038851 208.458341 \nL 266.34352 207.277604 \nL 266.648188 211.130118 \nL 266.952856 211.55072 \nL 267.257525 209.399795 \nL 267.562193 212.03604 \nL 267.866861 206.354146 \nL 268.171529 210.970861 \nL 268.476198 213.562692 \nL 268.780866 210.759377 \nL 269.085534 205.671114 \nL 269.390203 211.979238 \nL 269.694871 207.589066 \nL 269.999539 211.132386 \nL 270.304208 211.7319 \nL 270.608876 210.388213 \nL 270.913544 211.292687 \nL 271.218213 210.110992 \nL 271.522881 210.7965 \nL 271.827549 208.921186 \nL 272.132217 208.774753 \nL 272.436886 213.379522 \nL 272.741554 204.010482 \nL 273.046222 211.827768 \nL 273.350891 209.834658 \nL 273.655559 206.043203 \nL 273.960227 212.020313 \nL 274.264896 211.338333 \nL 274.569564 205.402697 \nL 274.874232 209.882523 \nL 275.1789 209.689062 \nL 275.483569 210.578349 \nL 275.788237 209.817511 \nL 276.092905 211.408722 \nL 276.397574 211.651311 \nL 276.702242 213.110288 \nL 277.00691 212.475091 \nL 277.311579 213.289089 \nL 277.616247 212.469834 \nL 277.920915 212.365362 \nL 278.225584 213.570785 \nL 278.530252 208.655426 \nL 278.83492 211.511589 \nL 279.139588 208.63823 \nL 279.444257 213.71218 \nL 280.053593 205.329042 \nL 280.358262 210.678158 \nL 280.66293 208.628142 \nL 280.967598 209.030657 \nL 281.272267 209.808489 \nL 281.576935 206.049023 \nL 281.881603 210.680928 \nL 282.186271 212.215442 \nL 282.795608 210.77171 \nL 283.100276 211.165009 \nL 283.404945 211.165467 \nL 283.709613 212.929222 \nL 284.31895 209.84591 \nL 284.623618 211.349826 \nL 284.928286 211.624364 \nL 285.232955 213.052605 \nL 285.537623 207.499149 \nL 286.146959 208.904358 \nL 286.451628 204.542058 \nL 286.756296 212.058849 \nL 287.060964 199.894795 \nL 287.365633 211.595932 \nL 287.670301 213.572622 \nL 287.974969 211.573513 \nL 288.279638 210.460873 \nL 288.584306 210.392511 \nL 288.888974 208.316102 \nL 289.193643 211.947634 \nL 289.802979 205.073626 \nL 290.107647 207.079052 \nL 290.716984 212.447867 \nL 291.021652 211.284894 \nL 291.326321 207.663106 \nL 291.630989 212.0689 \nL 291.935657 206.884262 \nL 292.240326 209.973989 \nL 292.544994 209.990512 \nL 292.849662 209.595479 \nL 293.15433 211.566656 \nL 293.458999 208.186039 \nL 293.763667 209.541678 \nL 294.068335 212.014405 \nL 294.373004 212.16448 \nL 294.677672 211.362654 \nL 294.98234 210.047691 \nL 295.287009 211.458915 \nL 295.591677 213.586915 \nL 295.896345 206.812984 \nL 296.201014 207.147701 \nL 296.505682 209.252544 \nL 296.81035 207.018063 \nL 297.115018 210.236209 \nL 297.419687 209.358341 \nL 297.724355 212.071528 \nL 298.029023 211.537643 \nL 298.333692 208.801884 \nL 298.63836 210.653328 \nL 298.943028 210.547149 \nL 299.247697 211.1543 \nL 299.552365 212.399819 \nL 299.857033 203.835429 \nL 300.161701 207.083609 \nL 300.46637 211.627196 \nL 300.771038 209.756529 \nL 301.075706 210.089845 \nL 301.380375 211.997766 \nL 301.989711 201.810646 \nL 302.29438 211.183951 \nL 302.599048 209.505496 \nL 302.903716 209.531038 \nL 303.513053 212.070857 \nL 303.817721 213.15811 \nL 304.122389 208.959091 \nL 304.427058 212.235068 \nL 304.731726 212.670371 \nL 305.036394 209.357754 \nL 305.341063 210.745154 \nL 305.645731 206.960836 \nL 305.950399 211.41034 \nL 306.255068 211.051 \nL 306.559736 209.201372 \nL 306.864404 211.526525 \nL 307.169072 212.713563 \nL 307.473741 209.188995 \nL 307.778409 211.199587 \nL 308.083077 205.356513 \nL 308.387746 209.943309 \nL 308.692414 207.876823 \nL 308.997082 207.303982 \nL 309.606419 212.261651 \nL 309.911087 208.911964 \nL 310.215756 212.229064 \nL 310.520424 209.048397 \nL 310.825092 213.203427 \nL 311.12976 210.400331 \nL 311.434429 209.065414 \nL 311.739097 212.301527 \nL 312.043765 211.781957 \nL 312.348434 211.557511 \nL 312.653102 209.621794 \nL 312.95777 213.101061 \nL 313.262439 210.271931 \nL 313.567107 201.134982 \nL 313.871775 212.265674 \nL 314.176443 207.468113 \nL 314.78578 211.96112 \nL 315.090448 207.219902 \nL 315.395117 208.556559 \nL 315.699785 212.736027 \nL 316.004453 210.291499 \nL 316.309122 214.026272 \nL 316.918458 204.960587 \nL 317.223127 212.016945 \nL 317.527795 209.523241 \nL 317.832463 210.630819 \nL 318.137131 209.77197 \nL 318.4418 212.525041 \nL 318.746468 209.006879 \nL 319.051136 211.308079 \nL 319.660473 212.889548 \nL 319.965141 210.221227 \nL 320.26981 202.907734 \nL 320.574478 212.463909 \nL 320.879146 210.332959 \nL 321.183814 213.157837 \nL 321.488483 212.219492 \nL 321.793151 212.219798 \nL 322.097819 212.694075 \nL 322.402488 208.528354 \nL 322.707156 211.667889 \nL 323.011824 209.203374 \nL 323.316493 208.953797 \nL 323.621161 207.911794 \nL 323.925829 212.597723 \nL 324.230498 205.729827 \nL 324.535166 210.937791 \nL 324.839834 206.842102 \nL 325.449171 210.988636 \nL 325.753839 210.01653 \nL 326.058507 212.997899 \nL 326.363176 209.915078 \nL 326.667844 202.810889 \nL 326.972512 212.379988 \nL 327.277181 211.114897 \nL 327.581849 207.060726 \nL 327.886517 210.034119 \nL 328.191186 209.409567 \nL 328.495854 212.133825 \nL 328.800522 212.241029 \nL 329.10519 209.482027 \nL 329.409859 212.724883 \nL 329.714527 208.798348 \nL 330.019195 212.789797 \nL 330.323864 210.72252 \nL 330.9332 208.950282 \nL 331.237869 203.684318 \nL 331.542537 209.113146 \nL 331.847205 212.175695 \nL 332.151873 211.219072 \nL 332.456542 205.975077 \nL 332.76121 213.428043 \nL 333.065878 211.940345 \nL 333.370547 209.733762 \nL 333.979883 212.381055 \nL 334.284552 212.00501 \nL 334.893888 207.338762 \nL 335.198557 209.7203 \nL 335.503225 210.961494 \nL 335.807893 210.541566 \nL 336.112561 212.697268 \nL 336.721898 208.243501 \nL 337.026566 212.028288 \nL 337.331235 211.127918 \nL 337.940571 212.269752 \nL 338.24524 206.11873 \nL 338.549908 210.104256 \nL 338.854576 211.184241 \nL 339.159244 209.901331 \nL 339.463913 209.470076 \nL 339.768581 211.008981 \nL 340.073249 203.071964 \nL 340.377918 211.54601 \nL 340.682586 211.107213 \nL 340.987254 211.379517 \nL 341.291923 208.635773 \nL 341.596591 212.578518 \nL 341.901259 205.066474 \nL 342.205928 209.223192 \nL 342.510596 211.709081 \nL 342.815264 209.116146 \nL 343.119932 209.431095 \nL 343.729269 211.30754 \nL 344.033937 208.721824 \nL 344.338606 211.157339 \nL 344.643274 212.415328 \nL 344.947942 208.014193 \nL 345.252611 210.936369 \nL 345.557279 210.701838 \nL 345.861947 213.162799 \nL 346.166615 198.845164 \nL 346.471284 209.936317 \nL 346.775952 211.420285 \nL 347.08062 209.013014 \nL 347.689957 212.612974 \nL 347.994625 206.949994 \nL 348.299294 213.596737 \nL 348.603962 210.930242 \nL 349.213299 211.712008 \nL 349.517967 209.59494 \nL 349.822635 208.693382 \nL 350.431972 212.779917 \nL 351.041308 209.374365 \nL 351.345977 205.427402 \nL 351.650645 210.735126 \nL 351.955313 210.119791 \nL 352.259982 206.372793 \nL 352.56465 211.813173 \nL 352.869318 212.284699 \nL 352.869318 212.284699 \n\" style=\"fill:none;stroke:#1f77b4;stroke-linecap:square;stroke-width:1.5;\"/>\n   </g>\n   <g id=\"patch_3\">\n    <path d=\"M 33.2875 224.64 \nL 33.2875 7.2 \n\" style=\"fill:none;stroke:#000000;stroke-linecap:square;stroke-linejoin:miter;stroke-width:0.8;\"/>\n   </g>\n   <g id=\"patch_4\">\n    <path d=\"M 368.0875 224.64 \nL 368.0875 7.2 \n\" style=\"fill:none;stroke:#000000;stroke-linecap:square;stroke-linejoin:miter;stroke-width:0.8;\"/>\n   </g>\n   <g id=\"patch_5\">\n    <path d=\"M 33.2875 224.64 \nL 368.0875 224.64 \n\" style=\"fill:none;stroke:#000000;stroke-linecap:square;stroke-linejoin:miter;stroke-width:0.8;\"/>\n   </g>\n   <g id=\"patch_6\">\n    <path d=\"M 33.2875 7.2 \nL 368.0875 7.2 \n\" style=\"fill:none;stroke:#000000;stroke-linecap:square;stroke-linejoin:miter;stroke-width:0.8;\"/>\n   </g>\n  </g>\n </g>\n <defs>\n  <clipPath id=\"p21156c82c9\">\n   <rect height=\"217.44\" width=\"334.8\" x=\"33.2875\" y=\"7.2\"/>\n  </clipPath>\n </defs>\n</svg>\n",
      "image/png": "[encoded data removed]"
     },
     "metadata": {
      "needs_background": "light"
     }
    }
   ],
   "source": [
    "import matplotlib.pyplot as plt\n",
    "plt.plot(list(range(1000)), losses)"
   ]
  },
  {
   "cell_type": "code",
   "execution_count": 17,
   "metadata": {},
   "outputs": [
    {
     "output_type": "execute_result",
     "data": {
      "text/plain": [
       "array([[40.22846109],\n",
       "       [16.44632103],\n",
       "       [19.35425437]])"
      ]
     },
     "metadata": {},
     "execution_count": 17
    }
   ],
   "source": [
    "# Assessing Our Model\n",
    "def predict(X: ndarray, weights: Dict[str, ndarray]):\n",
    "    N = np.dot(X, weights[\"W\"])\n",
    "    P = N + weights[\"B\"]\n",
    "    return P\n",
    "\n",
    "preds = predict(X_test, weights)\n",
    "preds[0:3]"
   ]
  },
  {
   "cell_type": "code",
   "execution_count": 19,
   "metadata": {},
   "outputs": [
    {
     "output_type": "execute_result",
     "data": {
      "text/plain": [
       "[<matplotlib.lines.Line2D at 0x7f0aa300fb50>]"
      ]
     },
     "metadata": {},
     "execution_count": 19
    },
    {
     "output_type": "display_data",
     "data": {
      "text/plain": "<Figure size 432x288 with 1 Axes>",
      "image/svg+xml": "<?xml version=\"1.0\" encoding=\"utf-8\" standalone=\"no\"?>\n<!DOCTYPE svg PUBLIC \"-//W3C//DTD SVG 1.1//EN\"\n  \"http://www.w3.org/Graphics/SVG/1.1/DTD/svg11.dtd\">\n<!-- Created with matplotlib (https://matplotlib.org/) -->\n<svg height=\"277.314375pt\" version=\"1.1\" viewBox=\"0 0 382.603125 277.314375\" width=\"382.603125pt\" xmlns=\"http://www.w3.org/2000/svg\" xmlns:xlink=\"http://www.w3.org/1999/xlink\">\n <metadata>\n  <rdf:RDF xmlns:cc=\"http://creativecommons.org/ns#\" xmlns:dc=\"http://purl.org/dc/elements/1.1/\" xmlns:rdf=\"http://www.w3.org/1999/02/22-rdf-syntax-ns#\">\n   <cc:Work>\n    <dc:type rdf:resource=\"http://purl.org/dc/dcmitype/StillImage\"/>\n    <dc:date>2021-01-07T14:28:49.755160</dc:date>\n    <dc:format>image/svg+xml</dc:format>\n    <dc:creator>\n     <cc:Agent>\n      <dc:title>Matplotlib v3.3.1, https://matplotlib.org/</dc:title>\n     </cc:Agent>\n    </dc:creator>\n   </cc:Work>\n  </rdf:RDF>\n </metadata>\n <defs>\n  <style type=\"text/css\">*{stroke-linecap:butt;stroke-linejoin:round;}</style>\n </defs>\n <g id=\"figure_1\">\n  <g id=\"patch_1\">\n   <path d=\"M 0 277.314375 \nL 382.603125 277.314375 \nL 382.603125 0 \nL 0 0 \nz\n\" style=\"fill:none;\"/>\n  </g>\n  <g id=\"axes_1\">\n   <g id=\"patch_2\">\n    <path d=\"M 40.603125 239.758125 \nL 375.403125 239.758125 \nL 375.403125 22.318125 \nL 40.603125 22.318125 \nz\n\" style=\"fill:#ffffff;\"/>\n   </g>\n   <g id=\"PathCollection_1\">\n    <defs>\n     <path d=\"M 0 3 \nC 0.795609 3 1.55874 2.683901 2.12132 2.12132 \nC 2.683901 1.55874 3 0.795609 3 0 \nC 3 -0.795609 2.683901 -1.55874 2.12132 -2.12132 \nC 1.55874 -2.683901 0.795609 -3 0 -3 \nC -0.795609 -3 -1.55874 -2.683901 -2.12132 -2.12132 \nC -2.683901 -1.55874 -3 -0.795609 -3 0 \nC -3 0.795609 -2.683901 1.55874 -2.12132 2.12132 \nC -1.55874 2.683901 -0.795609 3 0 3 \nz\n\" id=\"m03eb0acdb1\" style=\"stroke:#1f77b4;\"/>\n    </defs>\n    <g clip-path=\"url(#pab9e3a8a8d)\">\n     <use style=\"fill:#1f77b4;stroke:#1f77b4;\" x=\"304.69114\" xlink:href=\"#m03eb0acdb1\" y=\"32.976949\"/>\n     <use style=\"fill:#1f77b4;stroke:#1f77b4;\" x=\"148.568385\" xlink:href=\"#m03eb0acdb1\" y=\"196.270125\"/>\n     <use style=\"fill:#1f77b4;stroke:#1f77b4;\" x=\"167.658113\" xlink:href=\"#m03eb0acdb1\" y=\"174.952478\"/>\n     <use style=\"fill:#1f77b4;stroke:#1f77b4;\" x=\"63.948005\" xlink:href=\"#m03eb0acdb1\" y=\"203.944478\"/>\n     <use style=\"fill:#1f77b4;stroke:#1f77b4;\" x=\"191.675873\" xlink:href=\"#m03eb0acdb1\" y=\"159.177419\"/>\n     <use style=\"fill:#1f77b4;stroke:#1f77b4;\" x=\"187.313586\" xlink:href=\"#m03eb0acdb1\" y=\"157.472007\"/>\n     <use style=\"fill:#1f77b4;stroke:#1f77b4;\" x=\"157.801785\" xlink:href=\"#m03eb0acdb1\" y=\"174.099772\"/>\n     <use style=\"fill:#1f77b4;stroke:#1f77b4;\" x=\"196.185186\" xlink:href=\"#m03eb0acdb1\" y=\"151.076713\"/>\n     <use style=\"fill:#1f77b4;stroke:#1f77b4;\" x=\"246.034294\" xlink:href=\"#m03eb0acdb1\" y=\"116.115772\"/>\n     <use style=\"fill:#1f77b4;stroke:#1f77b4;\" x=\"100.920589\" xlink:href=\"#m03eb0acdb1\" y=\"138.712478\"/>\n     <use style=\"fill:#1f77b4;stroke:#1f77b4;\" x=\"251.043872\" xlink:href=\"#m03eb0acdb1\" y=\"98.208949\"/>\n     <use style=\"fill:#1f77b4;stroke:#1f77b4;\" x=\"158.778769\" xlink:href=\"#m03eb0acdb1\" y=\"157.045654\"/>\n     <use style=\"fill:#1f77b4;stroke:#1f77b4;\" x=\"149.533107\" xlink:href=\"#m03eb0acdb1\" y=\"166.425419\"/>\n     <use style=\"fill:#1f77b4;stroke:#1f77b4;\" x=\"275.611393\" xlink:href=\"#m03eb0acdb1\" y=\"59.410831\"/>\n     <use style=\"fill:#1f77b4;stroke:#1f77b4;\" x=\"156.814792\" xlink:href=\"#m03eb0acdb1\" y=\"175.378831\"/>\n     <use style=\"fill:#1f77b4;stroke:#1f77b4;\" x=\"203.794639\" xlink:href=\"#m03eb0acdb1\" y=\"141.270596\"/>\n     <use style=\"fill:#1f77b4;stroke:#1f77b4;\" x=\"158.967889\" xlink:href=\"#m03eb0acdb1\" y=\"188.169419\"/>\n     <use style=\"fill:#1f77b4;stroke:#1f77b4;\" x=\"208.911937\" xlink:href=\"#m03eb0acdb1\" y=\"26.581654\"/>\n     <use style=\"fill:#1f77b4;stroke:#1f77b4;\" x=\"213.292506\" xlink:href=\"#m03eb0acdb1\" y=\"147.66589\"/>\n     <use style=\"fill:#1f77b4;stroke:#1f77b4;\" x=\"210.652987\" xlink:href=\"#m03eb0acdb1\" y=\"160.882831\"/>\n     <use style=\"fill:#1f77b4;stroke:#1f77b4;\" x=\"178.458898\" xlink:href=\"#m03eb0acdb1\" y=\"142.123301\"/>\n     <use style=\"fill:#1f77b4;stroke:#1f77b4;\" x=\"187.92301\" xlink:href=\"#m03eb0acdb1\" y=\"133.16989\"/>\n     <use style=\"fill:#1f77b4;stroke:#1f77b4;\" x=\"132.551845\" xlink:href=\"#m03eb0acdb1\" y=\"180.495066\"/>\n     <use style=\"fill:#1f77b4;stroke:#1f77b4;\" x=\"202.575143\" xlink:href=\"#m03eb0acdb1\" y=\"136.580713\"/>\n     <use style=\"fill:#1f77b4;stroke:#1f77b4;\" x=\"134.067906\" xlink:href=\"#m03eb0acdb1\" y=\"162.16189\"/>\n     <use style=\"fill:#1f77b4;stroke:#1f77b4;\" x=\"221.44984\" xlink:href=\"#m03eb0acdb1\" y=\"138.286125\"/>\n     <use style=\"fill:#1f77b4;stroke:#1f77b4;\" x=\"229.5312\" xlink:href=\"#m03eb0acdb1\" y=\"145.960478\"/>\n     <use style=\"fill:#1f77b4;stroke:#1f77b4;\" x=\"274.282661\" xlink:href=\"#m03eb0acdb1\" y=\"101.619772\"/>\n     <use style=\"fill:#1f77b4;stroke:#1f77b4;\" x=\"271.247398\" xlink:href=\"#m03eb0acdb1\" y=\"98.208949\"/>\n     <use style=\"fill:#1f77b4;stroke:#1f77b4;\" x=\"171.185585\" xlink:href=\"#m03eb0acdb1\" y=\"163.867301\"/>\n     <use style=\"fill:#1f77b4;stroke:#1f77b4;\" x=\"81.08779\" xlink:href=\"#m03eb0acdb1\" y=\"194.991066\"/>\n     <use style=\"fill:#1f77b4;stroke:#1f77b4;\" x=\"121.129996\" xlink:href=\"#m03eb0acdb1\" y=\"194.991066\"/>\n     <use style=\"fill:#1f77b4;stroke:#1f77b4;\" x=\"222.301049\" xlink:href=\"#m03eb0acdb1\" y=\"138.712478\"/>\n     <use style=\"fill:#1f77b4;stroke:#1f77b4;\" x=\"180.001487\" xlink:href=\"#m03eb0acdb1\" y=\"149.371301\"/>\n     <use style=\"fill:#1f77b4;stroke:#1f77b4;\" x=\"182.17604\" xlink:href=\"#m03eb0acdb1\" y=\"147.239537\"/>\n     <use style=\"fill:#1f77b4;stroke:#1f77b4;\" x=\"295.879496\" xlink:href=\"#m03eb0acdb1\" y=\"54.294596\"/>\n     <use style=\"fill:#1f77b4;stroke:#1f77b4;\" x=\"274.460001\" xlink:href=\"#m03eb0acdb1\" y=\"74.759537\"/>\n     <use style=\"fill:#1f77b4;stroke:#1f77b4;\" x=\"202.443838\" xlink:href=\"#m03eb0acdb1\" y=\"122.511066\"/>\n     <use style=\"fill:#1f77b4;stroke:#1f77b4;\" x=\"218.892844\" xlink:href=\"#m03eb0acdb1\" y=\"138.712478\"/>\n     <use style=\"fill:#1f77b4;stroke:#1f77b4;\" x=\"224.332689\" xlink:href=\"#m03eb0acdb1\" y=\"120.379301\"/>\n     <use style=\"fill:#1f77b4;stroke:#1f77b4;\" x=\"279.347269\" xlink:href=\"#m03eb0acdb1\" y=\"52.162831\"/>\n     <use style=\"fill:#1f77b4;stroke:#1f77b4;\" x=\"196.992534\" xlink:href=\"#m03eb0acdb1\" y=\"135.728007\"/>\n     <use style=\"fill:#1f77b4;stroke:#1f77b4;\" x=\"264.107706\" xlink:href=\"#m03eb0acdb1\" y=\"40.651301\"/>\n     <use style=\"fill:#1f77b4;stroke:#1f77b4;\" x=\"158.063965\" xlink:href=\"#m03eb0acdb1\" y=\"164.720007\"/>\n     <use style=\"fill:#1f77b4;stroke:#1f77b4;\" x=\"231.378211\" xlink:href=\"#m03eb0acdb1\" y=\"133.16989\"/>\n     <use style=\"fill:#1f77b4;stroke:#1f77b4;\" x=\"239.804583\" xlink:href=\"#m03eb0acdb1\" y=\"111.42589\"/>\n     <use style=\"fill:#1f77b4;stroke:#1f77b4;\" x=\"180.148357\" xlink:href=\"#m03eb0acdb1\" y=\"152.355772\"/>\n     <use style=\"fill:#1f77b4;stroke:#1f77b4;\" x=\"172.377703\" xlink:href=\"#m03eb0acdb1\" y=\"166.851772\"/>\n     <use style=\"fill:#1f77b4;stroke:#1f77b4;\" x=\"69.978483\" xlink:href=\"#m03eb0acdb1\" y=\"205.223537\"/>\n     <use style=\"fill:#1f77b4;stroke:#1f77b4;\" x=\"198.956098\" xlink:href=\"#m03eb0acdb1\" y=\"139.991537\"/>\n     <use style=\"fill:#1f77b4;stroke:#1f77b4;\" x=\"174.242801\" xlink:href=\"#m03eb0acdb1\" y=\"164.293654\"/>\n     <use style=\"fill:#1f77b4;stroke:#1f77b4;\" x=\"126.701444\" xlink:href=\"#m03eb0acdb1\" y=\"187.316713\"/>\n     <use style=\"fill:#1f77b4;stroke:#1f77b4;\" x=\"187.84118\" xlink:href=\"#m03eb0acdb1\" y=\"134.448949\"/>\n     <use style=\"fill:#1f77b4;stroke:#1f77b4;\" x=\"204.741853\" xlink:href=\"#m03eb0acdb1\" y=\"136.15436\"/>\n     <use style=\"fill:#1f77b4;stroke:#1f77b4;\" x=\"212.792221\" xlink:href=\"#m03eb0acdb1\" y=\"145.960478\"/>\n     <use style=\"fill:#1f77b4;stroke:#1f77b4;\" x=\"275.92432\" xlink:href=\"#m03eb0acdb1\" y=\"84.139301\"/>\n     <use style=\"fill:#1f77b4;stroke:#1f77b4;\" x=\"202.037186\" xlink:href=\"#m03eb0acdb1\" y=\"145.107772\"/>\n     <use style=\"fill:#1f77b4;stroke:#1f77b4;\" x=\"197.719945\" xlink:href=\"#m03eb0acdb1\" y=\"142.123301\"/>\n     <use style=\"fill:#1f77b4;stroke:#1f77b4;\" x=\"176.34224\" xlink:href=\"#m03eb0acdb1\" y=\"168.130831\"/>\n     <use style=\"fill:#1f77b4;stroke:#1f77b4;\" x=\"175.875362\" xlink:href=\"#m03eb0acdb1\" y=\"153.208478\"/>\n     <use style=\"fill:#1f77b4;stroke:#1f77b4;\" x=\"192.800607\" xlink:href=\"#m03eb0acdb1\" y=\"147.239537\"/>\n     <use style=\"fill:#1f77b4;stroke:#1f77b4;\" x=\"255.42407\" xlink:href=\"#m03eb0acdb1\" y=\"80.728478\"/>\n     <use style=\"fill:#1f77b4;stroke:#1f77b4;\" x=\"137.783995\" xlink:href=\"#m03eb0acdb1\" y=\"189.874831\"/>\n     <use style=\"fill:#1f77b4;stroke:#1f77b4;\" x=\"255.013974\" xlink:href=\"#m03eb0acdb1\" y=\"90.960949\"/>\n     <use style=\"fill:#1f77b4;stroke:#1f77b4;\" x=\"175.846316\" xlink:href=\"#m03eb0acdb1\" y=\"168.557184\"/>\n     <use style=\"fill:#1f77b4;stroke:#1f77b4;\" x=\"251.542996\" xlink:href=\"#m03eb0acdb1\" y=\"119.526596\"/>\n     <use style=\"fill:#1f77b4;stroke:#1f77b4;\" x=\"239.612762\" xlink:href=\"#m03eb0acdb1\" y=\"120.805654\"/>\n     <use style=\"fill:#1f77b4;stroke:#1f77b4;\" x=\"149.476061\" xlink:href=\"#m03eb0acdb1\" y=\"203.518125\"/>\n     <use style=\"fill:#1f77b4;stroke:#1f77b4;\" x=\"136.629551\" xlink:href=\"#m03eb0acdb1\" y=\"190.727537\"/>\n     <use style=\"fill:#1f77b4;stroke:#1f77b4;\" x=\"138.900346\" xlink:href=\"#m03eb0acdb1\" y=\"176.231537\"/>\n     <use style=\"fill:#1f77b4;stroke:#1f77b4;\" x=\"137.603539\" xlink:href=\"#m03eb0acdb1\" y=\"183.90589\"/>\n     <use style=\"fill:#1f77b4;stroke:#1f77b4;\" x=\"163.012426\" xlink:href=\"#m03eb0acdb1\" y=\"171.115301\"/>\n     <use style=\"fill:#1f77b4;stroke:#1f77b4;\" x=\"131.393022\" xlink:href=\"#m03eb0acdb1\" y=\"182.200478\"/>\n     <use style=\"fill:#1f77b4;stroke:#1f77b4;\" x=\"126.709324\" xlink:href=\"#m03eb0acdb1\" y=\"204.370831\"/>\n     <use style=\"fill:#1f77b4;stroke:#1f77b4;\" x=\"151.125745\" xlink:href=\"#m03eb0acdb1\" y=\"180.495066\"/>\n     <use style=\"fill:#1f77b4;stroke:#1f77b4;\" x=\"174.459283\" xlink:href=\"#m03eb0acdb1\" y=\"173.247066\"/>\n     <use style=\"fill:#1f77b4;stroke:#1f77b4;\" x=\"98.767058\" xlink:href=\"#m03eb0acdb1\" y=\"189.448478\"/>\n     <use style=\"fill:#1f77b4;stroke:#1f77b4;\" x=\"163.887264\" xlink:href=\"#m03eb0acdb1\" y=\"155.340243\"/>\n     <use style=\"fill:#1f77b4;stroke:#1f77b4;\" x=\"194.306274\" xlink:href=\"#m03eb0acdb1\" y=\"157.045654\"/>\n     <use style=\"fill:#1f77b4;stroke:#1f77b4;\" x=\"178.297664\" xlink:href=\"#m03eb0acdb1\" y=\"147.239537\"/>\n     <use style=\"fill:#1f77b4;stroke:#1f77b4;\" x=\"169.387311\" xlink:href=\"#m03eb0acdb1\" y=\"183.053184\"/>\n     <use style=\"fill:#1f77b4;stroke:#1f77b4;\" x=\"201.206094\" xlink:href=\"#m03eb0acdb1\" y=\"141.270596\"/>\n     <use style=\"fill:#1f77b4;stroke:#1f77b4;\" x=\"199.619569\" xlink:href=\"#m03eb0acdb1\" y=\"159.177419\"/>\n     <use style=\"fill:#1f77b4;stroke:#1f77b4;\" x=\"173.408434\" xlink:href=\"#m03eb0acdb1\" y=\"159.177419\"/>\n     <use style=\"fill:#1f77b4;stroke:#1f77b4;\" x=\"197.243024\" xlink:href=\"#m03eb0acdb1\" y=\"149.371301\"/>\n     <use style=\"fill:#1f77b4;stroke:#1f77b4;\" x=\"7.010958\" xlink:href=\"#m03eb0acdb1\" y=\"209.913419\"/>\n     <use style=\"fill:#1f77b4;stroke:#1f77b4;\" x=\"217.260649\" xlink:href=\"#m03eb0acdb1\" y=\"26.581654\"/>\n     <use style=\"fill:#1f77b4;stroke:#1f77b4;\" x=\"148.680389\" xlink:href=\"#m03eb0acdb1\" y=\"163.867301\"/>\n     <use style=\"fill:#1f77b4;stroke:#1f77b4;\" x=\"179.051501\" xlink:href=\"#m03eb0acdb1\" y=\"158.751066\"/>\n     <use style=\"fill:#1f77b4;stroke:#1f77b4;\" x=\"82.573457\" xlink:href=\"#m03eb0acdb1\" y=\"196.270125\"/>\n     <use style=\"fill:#1f77b4;stroke:#1f77b4;\" x=\"186.677827\" xlink:href=\"#m03eb0acdb1\" y=\"155.340243\"/>\n     <use style=\"fill:#1f77b4;stroke:#1f77b4;\" x=\"200.637214\" xlink:href=\"#m03eb0acdb1\" y=\"148.518596\"/>\n     <use style=\"fill:#1f77b4;stroke:#1f77b4;\" x=\"144.810056\" xlink:href=\"#m03eb0acdb1\" y=\"153.634831\"/>\n     <use style=\"fill:#1f77b4;stroke:#1f77b4;\" x=\"251.578158\" xlink:href=\"#m03eb0acdb1\" y=\"98.635301\"/>\n     <use style=\"fill:#1f77b4;stroke:#1f77b4;\" x=\"230.088885\" xlink:href=\"#m03eb0acdb1\" y=\"57.279066\"/>\n     <use style=\"fill:#1f77b4;stroke:#1f77b4;\" x=\"222.683246\" xlink:href=\"#m03eb0acdb1\" y=\"144.681419\"/>\n     <use style=\"fill:#1f77b4;stroke:#1f77b4;\" x=\"196.705249\" xlink:href=\"#m03eb0acdb1\" y=\"154.487537\"/>\n     <use style=\"fill:#1f77b4;stroke:#1f77b4;\" x=\"266.591273\" xlink:href=\"#m03eb0acdb1\" y=\"124.642831\"/>\n     <use style=\"fill:#1f77b4;stroke:#1f77b4;\" x=\"163.796573\" xlink:href=\"#m03eb0acdb1\" y=\"154.487537\"/>\n     <use style=\"fill:#1f77b4;stroke:#1f77b4;\" x=\"318.755476\" xlink:href=\"#m03eb0acdb1\" y=\"26.581654\"/>\n     <use style=\"fill:#1f77b4;stroke:#1f77b4;\" x=\"165.125136\" xlink:href=\"#m03eb0acdb1\" y=\"156.619301\"/>\n     <use style=\"fill:#1f77b4;stroke:#1f77b4;\" x=\"147.427491\" xlink:href=\"#m03eb0acdb1\" y=\"182.626831\"/>\n     <use style=\"fill:#1f77b4;stroke:#1f77b4;\" x=\"181.208393\" xlink:href=\"#m03eb0acdb1\" y=\"156.192949\"/>\n     <use style=\"fill:#1f77b4;stroke:#1f77b4;\" x=\"162.619772\" xlink:href=\"#m03eb0acdb1\" y=\"160.030125\"/>\n     <use style=\"fill:#1f77b4;stroke:#1f77b4;\" x=\"168.379064\" xlink:href=\"#m03eb0acdb1\" y=\"177.510596\"/>\n     <use style=\"fill:#1f77b4;stroke:#1f77b4;\" x=\"175.831995\" xlink:href=\"#m03eb0acdb1\" y=\"141.696949\"/>\n     <use style=\"fill:#1f77b4;stroke:#1f77b4;\" x=\"204.262719\" xlink:href=\"#m03eb0acdb1\" y=\"152.355772\"/>\n     <use style=\"fill:#1f77b4;stroke:#1f77b4;\" x=\"202.614315\" xlink:href=\"#m03eb0acdb1\" y=\"175.805184\"/>\n     <use style=\"fill:#1f77b4;stroke:#1f77b4;\" x=\"163.773496\" xlink:href=\"#m03eb0acdb1\" y=\"162.16189\"/>\n     <use style=\"fill:#1f77b4;stroke:#1f77b4;\" x=\"171.81238\" xlink:href=\"#m03eb0acdb1\" y=\"162.16189\"/>\n     <use style=\"fill:#1f77b4;stroke:#1f77b4;\" x=\"167.831397\" xlink:href=\"#m03eb0acdb1\" y=\"156.192949\"/>\n     <use style=\"fill:#1f77b4;stroke:#1f77b4;\" x=\"235.879935\" xlink:href=\"#m03eb0acdb1\" y=\"139.138831\"/>\n     <use style=\"fill:#1f77b4;stroke:#1f77b4;\" x=\"159.727907\" xlink:href=\"#m03eb0acdb1\" y=\"154.487537\"/>\n     <use style=\"fill:#1f77b4;stroke:#1f77b4;\" x=\"192.784612\" xlink:href=\"#m03eb0acdb1\" y=\"152.782125\"/>\n     <use style=\"fill:#1f77b4;stroke:#1f77b4;\" x=\"181.114364\" xlink:href=\"#m03eb0acdb1\" y=\"150.224007\"/>\n     <use style=\"fill:#1f77b4;stroke:#1f77b4;\" x=\"163.639467\" xlink:href=\"#m03eb0acdb1\" y=\"165.14636\"/>\n     <use style=\"fill:#1f77b4;stroke:#1f77b4;\" x=\"182.13676\" xlink:href=\"#m03eb0acdb1\" y=\"159.603772\"/>\n     <use style=\"fill:#1f77b4;stroke:#1f77b4;\" x=\"182.727539\" xlink:href=\"#m03eb0acdb1\" y=\"157.472007\"/>\n     <use style=\"fill:#1f77b4;stroke:#1f77b4;\" x=\"135.190068\" xlink:href=\"#m03eb0acdb1\" y=\"178.789654\"/>\n     <use style=\"fill:#1f77b4;stroke:#1f77b4;\" x=\"181.887742\" xlink:href=\"#m03eb0acdb1\" y=\"174.526125\"/>\n     <use style=\"fill:#1f77b4;stroke:#1f77b4;\" x=\"162.096712\" xlink:href=\"#m03eb0acdb1\" y=\"171.115301\"/>\n     <use style=\"fill:#1f77b4;stroke:#1f77b4;\" x=\"174.467347\" xlink:href=\"#m03eb0acdb1\" y=\"157.89836\"/>\n     <use style=\"fill:#1f77b4;stroke:#1f77b4;\" x=\"133.576905\" xlink:href=\"#m03eb0acdb1\" y=\"198.828243\"/>\n     <use style=\"fill:#1f77b4;stroke:#1f77b4;\" x=\"168.65265\" xlink:href=\"#m03eb0acdb1\" y=\"166.851772\"/>\n     <use style=\"fill:#1f77b4;stroke:#1f77b4;\" x=\"147.114372\" xlink:href=\"#m03eb0acdb1\" y=\"168.983537\"/>\n     <use style=\"fill:#1f77b4;stroke:#1f77b4;\" x=\"243.385684\" xlink:href=\"#m03eb0acdb1\" y=\"141.696949\"/>\n     <use style=\"fill:#1f77b4;stroke:#1f77b4;\" x=\"186.548092\" xlink:href=\"#m03eb0acdb1\" y=\"145.107772\"/>\n     <use style=\"fill:#1f77b4;stroke:#1f77b4;\" x=\"236.860836\" xlink:href=\"#m03eb0acdb1\" y=\"88.829184\"/>\n     <use style=\"fill:#1f77b4;stroke:#1f77b4;\" x=\"184.223761\" xlink:href=\"#m03eb0acdb1\" y=\"140.41789\"/>\n     <use style=\"fill:#1f77b4;stroke:#1f77b4;\" x=\"171.843156\" xlink:href=\"#m03eb0acdb1\" y=\"135.301654\"/>\n     <use style=\"fill:#1f77b4;stroke:#1f77b4;\" x=\"237.45494\" xlink:href=\"#m03eb0acdb1\" y=\"118.67389\"/>\n     <use style=\"fill:#1f77b4;stroke:#1f77b4;\" x=\"222.18594\" xlink:href=\"#m03eb0acdb1\" y=\"137.859772\"/>\n     <use style=\"fill:#1f77b4;stroke:#1f77b4;\" x=\"128.695174\" xlink:href=\"#m03eb0acdb1\" y=\"193.285654\"/>\n     <use style=\"fill:#1f77b4;stroke:#1f77b4;\" x=\"265.448351\" xlink:href=\"#m03eb0acdb1\" y=\"107.588713\"/>\n     <use style=\"fill:#1f77b4;stroke:#1f77b4;\" x=\"114.332031\" xlink:href=\"#m03eb0acdb1\" y=\"193.712007\"/>\n     <use style=\"fill:#1f77b4;stroke:#1f77b4;\" x=\"125.882061\" xlink:href=\"#m03eb0acdb1\" y=\"181.774125\"/>\n     <use style=\"fill:#1f77b4;stroke:#1f77b4;\" x=\"306.027004\" xlink:href=\"#m03eb0acdb1\" y=\"31.69789\"/>\n     <use style=\"fill:#1f77b4;stroke:#1f77b4;\" x=\"132.896187\" xlink:href=\"#m03eb0acdb1\" y=\"155.766596\"/>\n     <use style=\"fill:#1f77b4;stroke:#1f77b4;\" x=\"173.656971\" xlink:href=\"#m03eb0acdb1\" y=\"148.518596\"/>\n     <use style=\"fill:#1f77b4;stroke:#1f77b4;\" x=\"220.07637\" xlink:href=\"#m03eb0acdb1\" y=\"143.40236\"/>\n     <use style=\"fill:#1f77b4;stroke:#1f77b4;\" x=\"191.735196\" xlink:href=\"#m03eb0acdb1\" y=\"167.278125\"/>\n     <use style=\"fill:#1f77b4;stroke:#1f77b4;\" x=\"147.521807\" xlink:href=\"#m03eb0acdb1\" y=\"173.247066\"/>\n     <use style=\"fill:#1f77b4;stroke:#1f77b4;\" x=\"173.401995\" xlink:href=\"#m03eb0acdb1\" y=\"141.270596\"/>\n     <use style=\"fill:#1f77b4;stroke:#1f77b4;\" x=\"123.142209\" xlink:href=\"#m03eb0acdb1\" y=\"199.254596\"/>\n     <use style=\"fill:#1f77b4;stroke:#1f77b4;\" x=\"209.978781\" xlink:href=\"#m03eb0acdb1\" y=\"148.092243\"/>\n     <use style=\"fill:#1f77b4;stroke:#1f77b4;\" x=\"306.051327\" xlink:href=\"#m03eb0acdb1\" y=\"43.635772\"/>\n     <use style=\"fill:#1f77b4;stroke:#1f77b4;\" x=\"162.444213\" xlink:href=\"#m03eb0acdb1\" y=\"154.061184\"/>\n     <use style=\"fill:#1f77b4;stroke:#1f77b4;\" x=\"208.39711\" xlink:href=\"#m03eb0acdb1\" y=\"126.774596\"/>\n     <use style=\"fill:#1f77b4;stroke:#1f77b4;\" x=\"99.003377\" xlink:href=\"#m03eb0acdb1\" y=\"189.022125\"/>\n     <use style=\"fill:#1f77b4;stroke:#1f77b4;\" x=\"198.323532\" xlink:href=\"#m03eb0acdb1\" y=\"157.045654\"/>\n     <use style=\"fill:#1f77b4;stroke:#1f77b4;\" x=\"218.695897\" xlink:href=\"#m03eb0acdb1\" y=\"140.844243\"/>\n     <use style=\"fill:#1f77b4;stroke:#1f77b4;\" x=\"311.716726\" xlink:href=\"#m03eb0acdb1\" y=\"26.581654\"/>\n    </g>\n   </g>\n   <g id=\"matplotlib.axis_1\">\n    <g id=\"xtick_1\">\n     <g id=\"line2d_1\">\n      <defs>\n       <path d=\"M 0 0 \nL 0 3.5 \n\" id=\"m8c6cc8cf45\" style=\"stroke:#000000;stroke-width:0.8;\"/>\n      </defs>\n      <g>\n       <use style=\"stroke:#000000;stroke-width:0.8;\" x=\"40.603125\" xlink:href=\"#m8c6cc8cf45\" y=\"239.758125\"/>\n      </g>\n     </g>\n     <g id=\"text_1\">\n      <!-- 0 -->\n      <g transform=\"translate(37.421875 254.356562)scale(0.1 -0.1)\">\n       <defs>\n        <path d=\"M 31.78125 66.40625 \nQ 24.171875 66.40625 20.328125 58.90625 \nQ 16.5 51.421875 16.5 36.375 \nQ 16.5 21.390625 20.328125 13.890625 \nQ 24.171875 6.390625 31.78125 6.390625 \nQ 39.453125 6.390625 43.28125 13.890625 \nQ 47.125 21.390625 47.125 36.375 \nQ 47.125 51.421875 43.28125 58.90625 \nQ 39.453125 66.40625 31.78125 66.40625 \nz\nM 31.78125 74.21875 \nQ 44.046875 74.21875 50.515625 64.515625 \nQ 56.984375 54.828125 56.984375 36.375 \nQ 56.984375 17.96875 50.515625 8.265625 \nQ 44.046875 -1.421875 31.78125 -1.421875 \nQ 19.53125 -1.421875 13.0625 8.265625 \nQ 6.59375 17.96875 6.59375 36.375 \nQ 6.59375 54.828125 13.0625 64.515625 \nQ 19.53125 74.21875 31.78125 74.21875 \nz\n\" id=\"DejaVuSans-48\"/>\n       </defs>\n       <use xlink:href=\"#DejaVuSans-48\"/>\n      </g>\n     </g>\n    </g>\n    <g id=\"xtick_2\">\n     <g id=\"line2d_2\">\n      <g>\n       <use style=\"stroke:#000000;stroke-width:0.8;\" x=\"106.250184\" xlink:href=\"#m8c6cc8cf45\" y=\"239.758125\"/>\n      </g>\n     </g>\n     <g id=\"text_2\">\n      <!-- 10 -->\n      <g transform=\"translate(99.887684 254.356562)scale(0.1 -0.1)\">\n       <defs>\n        <path d=\"M 12.40625 8.296875 \nL 28.515625 8.296875 \nL 28.515625 63.921875 \nL 10.984375 60.40625 \nL 10.984375 69.390625 \nL 28.421875 72.90625 \nL 38.28125 72.90625 \nL 38.28125 8.296875 \nL 54.390625 8.296875 \nL 54.390625 0 \nL 12.40625 0 \nz\n\" id=\"DejaVuSans-49\"/>\n       </defs>\n       <use xlink:href=\"#DejaVuSans-49\"/>\n       <use x=\"63.623047\" xlink:href=\"#DejaVuSans-48\"/>\n      </g>\n     </g>\n    </g>\n    <g id=\"xtick_3\">\n     <g id=\"line2d_3\">\n      <g>\n       <use style=\"stroke:#000000;stroke-width:0.8;\" x=\"171.897243\" xlink:href=\"#m8c6cc8cf45\" y=\"239.758125\"/>\n      </g>\n     </g>\n     <g id=\"text_3\">\n      <!-- 20 -->\n      <g transform=\"translate(165.534743 254.356562)scale(0.1 -0.1)\">\n       <defs>\n        <path d=\"M 19.1875 8.296875 \nL 53.609375 8.296875 \nL 53.609375 0 \nL 7.328125 0 \nL 7.328125 8.296875 \nQ 12.9375 14.109375 22.625 23.890625 \nQ 32.328125 33.6875 34.8125 36.53125 \nQ 39.546875 41.84375 41.421875 45.53125 \nQ 43.3125 49.21875 43.3125 52.78125 \nQ 43.3125 58.59375 39.234375 62.25 \nQ 35.15625 65.921875 28.609375 65.921875 \nQ 23.96875 65.921875 18.8125 64.3125 \nQ 13.671875 62.703125 7.8125 59.421875 \nL 7.8125 69.390625 \nQ 13.765625 71.78125 18.9375 73 \nQ 24.125 74.21875 28.421875 74.21875 \nQ 39.75 74.21875 46.484375 68.546875 \nQ 53.21875 62.890625 53.21875 53.421875 \nQ 53.21875 48.921875 51.53125 44.890625 \nQ 49.859375 40.875 45.40625 35.40625 \nQ 44.1875 33.984375 37.640625 27.21875 \nQ 31.109375 20.453125 19.1875 8.296875 \nz\n\" id=\"DejaVuSans-50\"/>\n       </defs>\n       <use xlink:href=\"#DejaVuSans-50\"/>\n       <use x=\"63.623047\" xlink:href=\"#DejaVuSans-48\"/>\n      </g>\n     </g>\n    </g>\n    <g id=\"xtick_4\">\n     <g id=\"line2d_4\">\n      <g>\n       <use style=\"stroke:#000000;stroke-width:0.8;\" x=\"237.544301\" xlink:href=\"#m8c6cc8cf45\" y=\"239.758125\"/>\n      </g>\n     </g>\n     <g id=\"text_4\">\n      <!-- 30 -->\n      <g transform=\"translate(231.181801 254.356562)scale(0.1 -0.1)\">\n       <defs>\n        <path d=\"M 40.578125 39.3125 \nQ 47.65625 37.796875 51.625 33 \nQ 55.609375 28.21875 55.609375 21.1875 \nQ 55.609375 10.40625 48.1875 4.484375 \nQ 40.765625 -1.421875 27.09375 -1.421875 \nQ 22.515625 -1.421875 17.65625 -0.515625 \nQ 12.796875 0.390625 7.625 2.203125 \nL 7.625 11.71875 \nQ 11.71875 9.328125 16.59375 8.109375 \nQ 21.484375 6.890625 26.8125 6.890625 \nQ 36.078125 6.890625 40.9375 10.546875 \nQ 45.796875 14.203125 45.796875 21.1875 \nQ 45.796875 27.640625 41.28125 31.265625 \nQ 36.765625 34.90625 28.71875 34.90625 \nL 20.21875 34.90625 \nL 20.21875 43.015625 \nL 29.109375 43.015625 \nQ 36.375 43.015625 40.234375 45.921875 \nQ 44.09375 48.828125 44.09375 54.296875 \nQ 44.09375 59.90625 40.109375 62.90625 \nQ 36.140625 65.921875 28.71875 65.921875 \nQ 24.65625 65.921875 20.015625 65.03125 \nQ 15.375 64.15625 9.8125 62.3125 \nL 9.8125 71.09375 \nQ 15.4375 72.65625 20.34375 73.4375 \nQ 25.25 74.21875 29.59375 74.21875 \nQ 40.828125 74.21875 47.359375 69.109375 \nQ 53.90625 64.015625 53.90625 55.328125 \nQ 53.90625 49.265625 50.4375 45.09375 \nQ 46.96875 40.921875 40.578125 39.3125 \nz\n\" id=\"DejaVuSans-51\"/>\n       </defs>\n       <use xlink:href=\"#DejaVuSans-51\"/>\n       <use x=\"63.623047\" xlink:href=\"#DejaVuSans-48\"/>\n      </g>\n     </g>\n    </g>\n    <g id=\"xtick_5\">\n     <g id=\"line2d_5\">\n      <g>\n       <use style=\"stroke:#000000;stroke-width:0.8;\" x=\"303.19136\" xlink:href=\"#m8c6cc8cf45\" y=\"239.758125\"/>\n      </g>\n     </g>\n     <g id=\"text_5\">\n      <!-- 40 -->\n      <g transform=\"translate(296.82886 254.356562)scale(0.1 -0.1)\">\n       <defs>\n        <path d=\"M 37.796875 64.3125 \nL 12.890625 25.390625 \nL 37.796875 25.390625 \nz\nM 35.203125 72.90625 \nL 47.609375 72.90625 \nL 47.609375 25.390625 \nL 58.015625 25.390625 \nL 58.015625 17.1875 \nL 47.609375 17.1875 \nL 47.609375 0 \nL 37.796875 0 \nL 37.796875 17.1875 \nL 4.890625 17.1875 \nL 4.890625 26.703125 \nz\n\" id=\"DejaVuSans-52\"/>\n       </defs>\n       <use xlink:href=\"#DejaVuSans-52\"/>\n       <use x=\"63.623047\" xlink:href=\"#DejaVuSans-48\"/>\n      </g>\n     </g>\n    </g>\n    <g id=\"xtick_6\">\n     <g id=\"line2d_6\">\n      <g>\n       <use style=\"stroke:#000000;stroke-width:0.8;\" x=\"368.838419\" xlink:href=\"#m8c6cc8cf45\" y=\"239.758125\"/>\n      </g>\n     </g>\n     <g id=\"text_6\">\n      <!-- 50 -->\n      <g transform=\"translate(362.475919 254.356562)scale(0.1 -0.1)\">\n       <defs>\n        <path d=\"M 10.796875 72.90625 \nL 49.515625 72.90625 \nL 49.515625 64.59375 \nL 19.828125 64.59375 \nL 19.828125 46.734375 \nQ 21.96875 47.46875 24.109375 47.828125 \nQ 26.265625 48.1875 28.421875 48.1875 \nQ 40.625 48.1875 47.75 41.5 \nQ 54.890625 34.8125 54.890625 23.390625 \nQ 54.890625 11.625 47.5625 5.09375 \nQ 40.234375 -1.421875 26.90625 -1.421875 \nQ 22.3125 -1.421875 17.546875 -0.640625 \nQ 12.796875 0.140625 7.71875 1.703125 \nL 7.71875 11.625 \nQ 12.109375 9.234375 16.796875 8.0625 \nQ 21.484375 6.890625 26.703125 6.890625 \nQ 35.15625 6.890625 40.078125 11.328125 \nQ 45.015625 15.765625 45.015625 23.390625 \nQ 45.015625 31 40.078125 35.4375 \nQ 35.15625 39.890625 26.703125 39.890625 \nQ 22.75 39.890625 18.8125 39.015625 \nQ 14.890625 38.140625 10.796875 36.28125 \nz\n\" id=\"DejaVuSans-53\"/>\n       </defs>\n       <use xlink:href=\"#DejaVuSans-53\"/>\n       <use x=\"63.623047\" xlink:href=\"#DejaVuSans-48\"/>\n      </g>\n     </g>\n    </g>\n    <g id=\"text_7\">\n     <!-- Predicted -->\n     <g transform=\"translate(184.532812 268.034687)scale(0.1 -0.1)\">\n      <defs>\n       <path d=\"M 19.671875 64.796875 \nL 19.671875 37.40625 \nL 32.078125 37.40625 \nQ 38.96875 37.40625 42.71875 40.96875 \nQ 46.484375 44.53125 46.484375 51.125 \nQ 46.484375 57.671875 42.71875 61.234375 \nQ 38.96875 64.796875 32.078125 64.796875 \nz\nM 9.8125 72.90625 \nL 32.078125 72.90625 \nQ 44.34375 72.90625 50.609375 67.359375 \nQ 56.890625 61.8125 56.890625 51.125 \nQ 56.890625 40.328125 50.609375 34.8125 \nQ 44.34375 29.296875 32.078125 29.296875 \nL 19.671875 29.296875 \nL 19.671875 0 \nL 9.8125 0 \nz\n\" id=\"DejaVuSans-80\"/>\n       <path d=\"M 41.109375 46.296875 \nQ 39.59375 47.171875 37.8125 47.578125 \nQ 36.03125 48 33.890625 48 \nQ 26.265625 48 22.1875 43.046875 \nQ 18.109375 38.09375 18.109375 28.8125 \nL 18.109375 0 \nL 9.078125 0 \nL 9.078125 54.6875 \nL 18.109375 54.6875 \nL 18.109375 46.1875 \nQ 20.953125 51.171875 25.484375 53.578125 \nQ 30.03125 56 36.53125 56 \nQ 37.453125 56 38.578125 55.875 \nQ 39.703125 55.765625 41.0625 55.515625 \nz\n\" id=\"DejaVuSans-114\"/>\n       <path d=\"M 56.203125 29.59375 \nL 56.203125 25.203125 \nL 14.890625 25.203125 \nQ 15.484375 15.921875 20.484375 11.0625 \nQ 25.484375 6.203125 34.421875 6.203125 \nQ 39.59375 6.203125 44.453125 7.46875 \nQ 49.3125 8.734375 54.109375 11.28125 \nL 54.109375 2.78125 \nQ 49.265625 0.734375 44.1875 -0.34375 \nQ 39.109375 -1.421875 33.890625 -1.421875 \nQ 20.796875 -1.421875 13.15625 6.1875 \nQ 5.515625 13.8125 5.515625 26.8125 \nQ 5.515625 40.234375 12.765625 48.109375 \nQ 20.015625 56 32.328125 56 \nQ 43.359375 56 49.78125 48.890625 \nQ 56.203125 41.796875 56.203125 29.59375 \nz\nM 47.21875 32.234375 \nQ 47.125 39.59375 43.09375 43.984375 \nQ 39.0625 48.390625 32.421875 48.390625 \nQ 24.90625 48.390625 20.390625 44.140625 \nQ 15.875 39.890625 15.1875 32.171875 \nz\n\" id=\"DejaVuSans-101\"/>\n       <path d=\"M 45.40625 46.390625 \nL 45.40625 75.984375 \nL 54.390625 75.984375 \nL 54.390625 0 \nL 45.40625 0 \nL 45.40625 8.203125 \nQ 42.578125 3.328125 38.25 0.953125 \nQ 33.9375 -1.421875 27.875 -1.421875 \nQ 17.96875 -1.421875 11.734375 6.484375 \nQ 5.515625 14.40625 5.515625 27.296875 \nQ 5.515625 40.1875 11.734375 48.09375 \nQ 17.96875 56 27.875 56 \nQ 33.9375 56 38.25 53.625 \nQ 42.578125 51.265625 45.40625 46.390625 \nz\nM 14.796875 27.296875 \nQ 14.796875 17.390625 18.875 11.75 \nQ 22.953125 6.109375 30.078125 6.109375 \nQ 37.203125 6.109375 41.296875 11.75 \nQ 45.40625 17.390625 45.40625 27.296875 \nQ 45.40625 37.203125 41.296875 42.84375 \nQ 37.203125 48.484375 30.078125 48.484375 \nQ 22.953125 48.484375 18.875 42.84375 \nQ 14.796875 37.203125 14.796875 27.296875 \nz\n\" id=\"DejaVuSans-100\"/>\n       <path d=\"M 9.421875 54.6875 \nL 18.40625 54.6875 \nL 18.40625 0 \nL 9.421875 0 \nz\nM 9.421875 75.984375 \nL 18.40625 75.984375 \nL 18.40625 64.59375 \nL 9.421875 64.59375 \nz\n\" id=\"DejaVuSans-105\"/>\n       <path d=\"M 48.78125 52.59375 \nL 48.78125 44.1875 \nQ 44.96875 46.296875 41.140625 47.34375 \nQ 37.3125 48.390625 33.40625 48.390625 \nQ 24.65625 48.390625 19.8125 42.84375 \nQ 14.984375 37.3125 14.984375 27.296875 \nQ 14.984375 17.28125 19.8125 11.734375 \nQ 24.65625 6.203125 33.40625 6.203125 \nQ 37.3125 6.203125 41.140625 7.25 \nQ 44.96875 8.296875 48.78125 10.40625 \nL 48.78125 2.09375 \nQ 45.015625 0.34375 40.984375 -0.53125 \nQ 36.96875 -1.421875 32.421875 -1.421875 \nQ 20.0625 -1.421875 12.78125 6.34375 \nQ 5.515625 14.109375 5.515625 27.296875 \nQ 5.515625 40.671875 12.859375 48.328125 \nQ 20.21875 56 33.015625 56 \nQ 37.15625 56 41.109375 55.140625 \nQ 45.0625 54.296875 48.78125 52.59375 \nz\n\" id=\"DejaVuSans-99\"/>\n       <path d=\"M 18.3125 70.21875 \nL 18.3125 54.6875 \nL 36.8125 54.6875 \nL 36.8125 47.703125 \nL 18.3125 47.703125 \nL 18.3125 18.015625 \nQ 18.3125 11.328125 20.140625 9.421875 \nQ 21.96875 7.515625 27.59375 7.515625 \nL 36.8125 7.515625 \nL 36.8125 0 \nL 27.59375 0 \nQ 17.1875 0 13.234375 3.875 \nQ 9.28125 7.765625 9.28125 18.015625 \nL 9.28125 47.703125 \nL 2.6875 47.703125 \nL 2.6875 54.6875 \nL 9.28125 54.6875 \nL 9.28125 70.21875 \nz\n\" id=\"DejaVuSans-116\"/>\n      </defs>\n      <use xlink:href=\"#DejaVuSans-80\"/>\n      <use x=\"58.552734\" xlink:href=\"#DejaVuSans-114\"/>\n      <use x=\"97.416016\" xlink:href=\"#DejaVuSans-101\"/>\n      <use x=\"158.939453\" xlink:href=\"#DejaVuSans-100\"/>\n      <use x=\"222.416016\" xlink:href=\"#DejaVuSans-105\"/>\n      <use x=\"250.199219\" xlink:href=\"#DejaVuSans-99\"/>\n      <use x=\"305.179688\" xlink:href=\"#DejaVuSans-116\"/>\n      <use x=\"344.388672\" xlink:href=\"#DejaVuSans-101\"/>\n      <use x=\"405.912109\" xlink:href=\"#DejaVuSans-100\"/>\n     </g>\n    </g>\n   </g>\n   <g id=\"matplotlib.axis_2\">\n    <g id=\"ytick_1\">\n     <g id=\"line2d_7\">\n      <defs>\n       <path d=\"M 0 0 \nL -3.5 0 \n\" id=\"mc8eb01c574\" style=\"stroke:#000000;stroke-width:0.8;\"/>\n      </defs>\n      <g>\n       <use style=\"stroke:#000000;stroke-width:0.8;\" x=\"40.603125\" xlink:href=\"#mc8eb01c574\" y=\"239.758125\"/>\n      </g>\n     </g>\n     <g id=\"text_8\">\n      <!-- 0 -->\n      <g transform=\"translate(27.240625 243.557344)scale(0.1 -0.1)\">\n       <use xlink:href=\"#DejaVuSans-48\"/>\n      </g>\n     </g>\n    </g>\n    <g id=\"ytick_2\">\n     <g id=\"line2d_8\">\n      <g>\n       <use style=\"stroke:#000000;stroke-width:0.8;\" x=\"40.603125\" xlink:href=\"#mc8eb01c574\" y=\"197.122831\"/>\n      </g>\n     </g>\n     <g id=\"text_9\">\n      <!-- 10 -->\n      <g transform=\"translate(20.878125 200.92205)scale(0.1 -0.1)\">\n       <use xlink:href=\"#DejaVuSans-49\"/>\n       <use x=\"63.623047\" xlink:href=\"#DejaVuSans-48\"/>\n      </g>\n     </g>\n    </g>\n    <g id=\"ytick_3\">\n     <g id=\"line2d_9\">\n      <g>\n       <use style=\"stroke:#000000;stroke-width:0.8;\" x=\"40.603125\" xlink:href=\"#mc8eb01c574\" y=\"154.487537\"/>\n      </g>\n     </g>\n     <g id=\"text_10\">\n      <!-- 20 -->\n      <g transform=\"translate(20.878125 158.286756)scale(0.1 -0.1)\">\n       <use xlink:href=\"#DejaVuSans-50\"/>\n       <use x=\"63.623047\" xlink:href=\"#DejaVuSans-48\"/>\n      </g>\n     </g>\n    </g>\n    <g id=\"ytick_4\">\n     <g id=\"line2d_10\">\n      <g>\n       <use style=\"stroke:#000000;stroke-width:0.8;\" x=\"40.603125\" xlink:href=\"#mc8eb01c574\" y=\"111.852243\"/>\n      </g>\n     </g>\n     <g id=\"text_11\">\n      <!-- 30 -->\n      <g transform=\"translate(20.878125 115.651461)scale(0.1 -0.1)\">\n       <use xlink:href=\"#DejaVuSans-51\"/>\n       <use x=\"63.623047\" xlink:href=\"#DejaVuSans-48\"/>\n      </g>\n     </g>\n    </g>\n    <g id=\"ytick_5\">\n     <g id=\"line2d_11\">\n      <g>\n       <use style=\"stroke:#000000;stroke-width:0.8;\" x=\"40.603125\" xlink:href=\"#mc8eb01c574\" y=\"69.216949\"/>\n      </g>\n     </g>\n     <g id=\"text_12\">\n      <!-- 40 -->\n      <g transform=\"translate(20.878125 73.016167)scale(0.1 -0.1)\">\n       <use xlink:href=\"#DejaVuSans-52\"/>\n       <use x=\"63.623047\" xlink:href=\"#DejaVuSans-48\"/>\n      </g>\n     </g>\n    </g>\n    <g id=\"ytick_6\">\n     <g id=\"line2d_12\">\n      <g>\n       <use style=\"stroke:#000000;stroke-width:0.8;\" x=\"40.603125\" xlink:href=\"#mc8eb01c574\" y=\"26.581654\"/>\n      </g>\n     </g>\n     <g id=\"text_13\">\n      <!-- 50 -->\n      <g transform=\"translate(20.878125 30.380873)scale(0.1 -0.1)\">\n       <use xlink:href=\"#DejaVuSans-53\"/>\n       <use x=\"63.623047\" xlink:href=\"#DejaVuSans-48\"/>\n      </g>\n     </g>\n    </g>\n    <g id=\"text_14\">\n     <!-- Actual -->\n     <g transform=\"translate(14.798438 146.702187)rotate(-90)scale(0.1 -0.1)\">\n      <defs>\n       <path d=\"M 34.1875 63.1875 \nL 20.796875 26.90625 \nL 47.609375 26.90625 \nz\nM 28.609375 72.90625 \nL 39.796875 72.90625 \nL 67.578125 0 \nL 57.328125 0 \nL 50.6875 18.703125 \nL 17.828125 18.703125 \nL 11.1875 0 \nL 0.78125 0 \nz\n\" id=\"DejaVuSans-65\"/>\n       <path d=\"M 8.5 21.578125 \nL 8.5 54.6875 \nL 17.484375 54.6875 \nL 17.484375 21.921875 \nQ 17.484375 14.15625 20.5 10.265625 \nQ 23.53125 6.390625 29.59375 6.390625 \nQ 36.859375 6.390625 41.078125 11.03125 \nQ 45.3125 15.671875 45.3125 23.6875 \nL 45.3125 54.6875 \nL 54.296875 54.6875 \nL 54.296875 0 \nL 45.3125 0 \nL 45.3125 8.40625 \nQ 42.046875 3.421875 37.71875 1 \nQ 33.40625 -1.421875 27.6875 -1.421875 \nQ 18.265625 -1.421875 13.375 4.4375 \nQ 8.5 10.296875 8.5 21.578125 \nz\nM 31.109375 56 \nz\n\" id=\"DejaVuSans-117\"/>\n       <path d=\"M 34.28125 27.484375 \nQ 23.390625 27.484375 19.1875 25 \nQ 14.984375 22.515625 14.984375 16.5 \nQ 14.984375 11.71875 18.140625 8.90625 \nQ 21.296875 6.109375 26.703125 6.109375 \nQ 34.1875 6.109375 38.703125 11.40625 \nQ 43.21875 16.703125 43.21875 25.484375 \nL 43.21875 27.484375 \nz\nM 52.203125 31.203125 \nL 52.203125 0 \nL 43.21875 0 \nL 43.21875 8.296875 \nQ 40.140625 3.328125 35.546875 0.953125 \nQ 30.953125 -1.421875 24.3125 -1.421875 \nQ 15.921875 -1.421875 10.953125 3.296875 \nQ 6 8.015625 6 15.921875 \nQ 6 25.140625 12.171875 29.828125 \nQ 18.359375 34.515625 30.609375 34.515625 \nL 43.21875 34.515625 \nL 43.21875 35.40625 \nQ 43.21875 41.609375 39.140625 45 \nQ 35.0625 48.390625 27.6875 48.390625 \nQ 23 48.390625 18.546875 47.265625 \nQ 14.109375 46.140625 10.015625 43.890625 \nL 10.015625 52.203125 \nQ 14.9375 54.109375 19.578125 55.046875 \nQ 24.21875 56 28.609375 56 \nQ 40.484375 56 46.34375 49.84375 \nQ 52.203125 43.703125 52.203125 31.203125 \nz\n\" id=\"DejaVuSans-97\"/>\n       <path d=\"M 9.421875 75.984375 \nL 18.40625 75.984375 \nL 18.40625 0 \nL 9.421875 0 \nz\n\" id=\"DejaVuSans-108\"/>\n      </defs>\n      <use xlink:href=\"#DejaVuSans-65\"/>\n      <use x=\"66.658203\" xlink:href=\"#DejaVuSans-99\"/>\n      <use x=\"121.638672\" xlink:href=\"#DejaVuSans-116\"/>\n      <use x=\"160.847656\" xlink:href=\"#DejaVuSans-117\"/>\n      <use x=\"224.226562\" xlink:href=\"#DejaVuSans-97\"/>\n      <use x=\"285.505859\" xlink:href=\"#DejaVuSans-108\"/>\n     </g>\n    </g>\n   </g>\n   <g id=\"line2d_13\">\n    <path clip-path=\"url(#pab9e3a8a8d)\" d=\"M 40.603125 239.758125 \nL 375.403125 22.318125 \n\" style=\"fill:none;stroke:#1f77b4;stroke-linecap:square;stroke-width:1.5;\"/>\n   </g>\n   <g id=\"patch_3\">\n    <path d=\"M 40.603125 239.758125 \nL 40.603125 22.318125 \n\" style=\"fill:none;stroke:#000000;stroke-linecap:square;stroke-linejoin:miter;stroke-width:0.8;\"/>\n   </g>\n   <g id=\"patch_4\">\n    <path d=\"M 375.403125 239.758125 \nL 375.403125 22.318125 \n\" style=\"fill:none;stroke:#000000;stroke-linecap:square;stroke-linejoin:miter;stroke-width:0.8;\"/>\n   </g>\n   <g id=\"patch_5\">\n    <path d=\"M 40.603125 239.758125 \nL 375.403125 239.758125 \n\" style=\"fill:none;stroke:#000000;stroke-linecap:square;stroke-linejoin:miter;stroke-width:0.8;\"/>\n   </g>\n   <g id=\"patch_6\">\n    <path d=\"M 40.603125 22.318125 \nL 375.403125 22.318125 \n\" style=\"fill:none;stroke:#000000;stroke-linecap:square;stroke-linejoin:miter;stroke-width:0.8;\"/>\n   </g>\n   <g id=\"text_15\">\n    <!-- Custom linear regression model -->\n    <g transform=\"translate(112.394062 16.318125)scale(0.12 -0.12)\">\n     <defs>\n      <path d=\"M 64.40625 67.28125 \nL 64.40625 56.890625 \nQ 59.421875 61.53125 53.78125 63.8125 \nQ 48.140625 66.109375 41.796875 66.109375 \nQ 29.296875 66.109375 22.65625 58.46875 \nQ 16.015625 50.828125 16.015625 36.375 \nQ 16.015625 21.96875 22.65625 14.328125 \nQ 29.296875 6.6875 41.796875 6.6875 \nQ 48.140625 6.6875 53.78125 8.984375 \nQ 59.421875 11.28125 64.40625 15.921875 \nL 64.40625 5.609375 \nQ 59.234375 2.09375 53.4375 0.328125 \nQ 47.65625 -1.421875 41.21875 -1.421875 \nQ 24.65625 -1.421875 15.125 8.703125 \nQ 5.609375 18.84375 5.609375 36.375 \nQ 5.609375 53.953125 15.125 64.078125 \nQ 24.65625 74.21875 41.21875 74.21875 \nQ 47.75 74.21875 53.53125 72.484375 \nQ 59.328125 70.75 64.40625 67.28125 \nz\n\" id=\"DejaVuSans-67\"/>\n      <path d=\"M 44.28125 53.078125 \nL 44.28125 44.578125 \nQ 40.484375 46.53125 36.375 47.5 \nQ 32.28125 48.484375 27.875 48.484375 \nQ 21.1875 48.484375 17.84375 46.4375 \nQ 14.5 44.390625 14.5 40.28125 \nQ 14.5 37.15625 16.890625 35.375 \nQ 19.28125 33.59375 26.515625 31.984375 \nL 29.59375 31.296875 \nQ 39.15625 29.25 43.1875 25.515625 \nQ 47.21875 21.78125 47.21875 15.09375 \nQ 47.21875 7.46875 41.1875 3.015625 \nQ 35.15625 -1.421875 24.609375 -1.421875 \nQ 20.21875 -1.421875 15.453125 -0.5625 \nQ 10.6875 0.296875 5.421875 2 \nL 5.421875 11.28125 \nQ 10.40625 8.6875 15.234375 7.390625 \nQ 20.0625 6.109375 24.8125 6.109375 \nQ 31.15625 6.109375 34.5625 8.28125 \nQ 37.984375 10.453125 37.984375 14.40625 \nQ 37.984375 18.0625 35.515625 20.015625 \nQ 33.0625 21.96875 24.703125 23.78125 \nL 21.578125 24.515625 \nQ 13.234375 26.265625 9.515625 29.90625 \nQ 5.8125 33.546875 5.8125 39.890625 \nQ 5.8125 47.609375 11.28125 51.796875 \nQ 16.75 56 26.8125 56 \nQ 31.78125 56 36.171875 55.265625 \nQ 40.578125 54.546875 44.28125 53.078125 \nz\n\" id=\"DejaVuSans-115\"/>\n      <path d=\"M 30.609375 48.390625 \nQ 23.390625 48.390625 19.1875 42.75 \nQ 14.984375 37.109375 14.984375 27.296875 \nQ 14.984375 17.484375 19.15625 11.84375 \nQ 23.34375 6.203125 30.609375 6.203125 \nQ 37.796875 6.203125 41.984375 11.859375 \nQ 46.1875 17.53125 46.1875 27.296875 \nQ 46.1875 37.015625 41.984375 42.703125 \nQ 37.796875 48.390625 30.609375 48.390625 \nz\nM 30.609375 56 \nQ 42.328125 56 49.015625 48.375 \nQ 55.71875 40.765625 55.71875 27.296875 \nQ 55.71875 13.875 49.015625 6.21875 \nQ 42.328125 -1.421875 30.609375 -1.421875 \nQ 18.84375 -1.421875 12.171875 6.21875 \nQ 5.515625 13.875 5.515625 27.296875 \nQ 5.515625 40.765625 12.171875 48.375 \nQ 18.84375 56 30.609375 56 \nz\n\" id=\"DejaVuSans-111\"/>\n      <path d=\"M 52 44.1875 \nQ 55.375 50.25 60.0625 53.125 \nQ 64.75 56 71.09375 56 \nQ 79.640625 56 84.28125 50.015625 \nQ 88.921875 44.046875 88.921875 33.015625 \nL 88.921875 0 \nL 79.890625 0 \nL 79.890625 32.71875 \nQ 79.890625 40.578125 77.09375 44.375 \nQ 74.3125 48.1875 68.609375 48.1875 \nQ 61.625 48.1875 57.5625 43.546875 \nQ 53.515625 38.921875 53.515625 30.90625 \nL 53.515625 0 \nL 44.484375 0 \nL 44.484375 32.71875 \nQ 44.484375 40.625 41.703125 44.40625 \nQ 38.921875 48.1875 33.109375 48.1875 \nQ 26.21875 48.1875 22.15625 43.53125 \nQ 18.109375 38.875 18.109375 30.90625 \nL 18.109375 0 \nL 9.078125 0 \nL 9.078125 54.6875 \nL 18.109375 54.6875 \nL 18.109375 46.1875 \nQ 21.1875 51.21875 25.484375 53.609375 \nQ 29.78125 56 35.6875 56 \nQ 41.65625 56 45.828125 52.96875 \nQ 50 49.953125 52 44.1875 \nz\n\" id=\"DejaVuSans-109\"/>\n      <path id=\"DejaVuSans-32\"/>\n      <path d=\"M 54.890625 33.015625 \nL 54.890625 0 \nL 45.90625 0 \nL 45.90625 32.71875 \nQ 45.90625 40.484375 42.875 44.328125 \nQ 39.84375 48.1875 33.796875 48.1875 \nQ 26.515625 48.1875 22.3125 43.546875 \nQ 18.109375 38.921875 18.109375 30.90625 \nL 18.109375 0 \nL 9.078125 0 \nL 9.078125 54.6875 \nL 18.109375 54.6875 \nL 18.109375 46.1875 \nQ 21.34375 51.125 25.703125 53.5625 \nQ 30.078125 56 35.796875 56 \nQ 45.21875 56 50.046875 50.171875 \nQ 54.890625 44.34375 54.890625 33.015625 \nz\n\" id=\"DejaVuSans-110\"/>\n      <path d=\"M 45.40625 27.984375 \nQ 45.40625 37.75 41.375 43.109375 \nQ 37.359375 48.484375 30.078125 48.484375 \nQ 22.859375 48.484375 18.828125 43.109375 \nQ 14.796875 37.75 14.796875 27.984375 \nQ 14.796875 18.265625 18.828125 12.890625 \nQ 22.859375 7.515625 30.078125 7.515625 \nQ 37.359375 7.515625 41.375 12.890625 \nQ 45.40625 18.265625 45.40625 27.984375 \nz\nM 54.390625 6.78125 \nQ 54.390625 -7.171875 48.1875 -13.984375 \nQ 42 -20.796875 29.203125 -20.796875 \nQ 24.46875 -20.796875 20.265625 -20.09375 \nQ 16.0625 -19.390625 12.109375 -17.921875 \nL 12.109375 -9.1875 \nQ 16.0625 -11.328125 19.921875 -12.34375 \nQ 23.78125 -13.375 27.78125 -13.375 \nQ 36.625 -13.375 41.015625 -8.765625 \nQ 45.40625 -4.15625 45.40625 5.171875 \nL 45.40625 9.625 \nQ 42.625 4.78125 38.28125 2.390625 \nQ 33.9375 0 27.875 0 \nQ 17.828125 0 11.671875 7.65625 \nQ 5.515625 15.328125 5.515625 27.984375 \nQ 5.515625 40.671875 11.671875 48.328125 \nQ 17.828125 56 27.875 56 \nQ 33.9375 56 38.28125 53.609375 \nQ 42.625 51.21875 45.40625 46.390625 \nL 45.40625 54.6875 \nL 54.390625 54.6875 \nz\n\" id=\"DejaVuSans-103\"/>\n     </defs>\n     <use xlink:href=\"#DejaVuSans-67\"/>\n     <use x=\"69.824219\" xlink:href=\"#DejaVuSans-117\"/>\n     <use x=\"133.203125\" xlink:href=\"#DejaVuSans-115\"/>\n     <use x=\"185.302734\" xlink:href=\"#DejaVuSans-116\"/>\n     <use x=\"224.511719\" xlink:href=\"#DejaVuSans-111\"/>\n     <use x=\"285.693359\" xlink:href=\"#DejaVuSans-109\"/>\n     <use x=\"383.105469\" xlink:href=\"#DejaVuSans-32\"/>\n     <use x=\"414.892578\" xlink:href=\"#DejaVuSans-108\"/>\n     <use x=\"442.675781\" xlink:href=\"#DejaVuSans-105\"/>\n     <use x=\"470.458984\" xlink:href=\"#DejaVuSans-110\"/>\n     <use x=\"533.837891\" xlink:href=\"#DejaVuSans-101\"/>\n     <use x=\"595.361328\" xlink:href=\"#DejaVuSans-97\"/>\n     <use x=\"656.640625\" xlink:href=\"#DejaVuSans-114\"/>\n     <use x=\"697.753906\" xlink:href=\"#DejaVuSans-32\"/>\n     <use x=\"729.541016\" xlink:href=\"#DejaVuSans-114\"/>\n     <use x=\"768.404297\" xlink:href=\"#DejaVuSans-101\"/>\n     <use x=\"829.927734\" xlink:href=\"#DejaVuSans-103\"/>\n     <use x=\"893.404297\" xlink:href=\"#DejaVuSans-114\"/>\n     <use x=\"932.267578\" xlink:href=\"#DejaVuSans-101\"/>\n     <use x=\"993.791016\" xlink:href=\"#DejaVuSans-115\"/>\n     <use x=\"1045.890625\" xlink:href=\"#DejaVuSans-115\"/>\n     <use x=\"1097.990234\" xlink:href=\"#DejaVuSans-105\"/>\n     <use x=\"1125.773438\" xlink:href=\"#DejaVuSans-111\"/>\n     <use x=\"1186.955078\" xlink:href=\"#DejaVuSans-110\"/>\n     <use x=\"1250.333984\" xlink:href=\"#DejaVuSans-32\"/>\n     <use x=\"1282.121094\" xlink:href=\"#DejaVuSans-109\"/>\n     <use x=\"1379.533203\" xlink:href=\"#DejaVuSans-111\"/>\n     <use x=\"1440.714844\" xlink:href=\"#DejaVuSans-100\"/>\n     <use x=\"1504.191406\" xlink:href=\"#DejaVuSans-101\"/>\n     <use x=\"1565.714844\" xlink:href=\"#DejaVuSans-108\"/>\n    </g>\n   </g>\n  </g>\n </g>\n <defs>\n  <clipPath id=\"pab9e3a8a8d\">\n   <rect height=\"217.44\" width=\"334.8\" x=\"40.603125\" y=\"22.318125\"/>\n  </clipPath>\n </defs>\n</svg>\n",
      "image/png": "[encoded data removed]"
     },
     "metadata": {
      "needs_background": "light"
     }
    }
   ],
   "source": [
    "plt.xlabel(\"Predicted\")\n",
    "plt.ylabel(\"Actual\")\n",
    "plt.title(\"Custom linear regression model\")\n",
    "plt.xlim([0, 51])\n",
    "plt.ylim([0, 51])\n",
    "plt.scatter(preds, y_test)\n",
    "plt.plot([0, 51], [0, 51])"
   ]
  },
  {
   "cell_type": "code",
   "execution_count": 22,
   "metadata": {},
   "outputs": [
    {
     "output_type": "execute_result",
     "data": {
      "text/plain": [
       "('Mean absolute error', 3.5644)"
      ]
     },
     "metadata": {},
     "execution_count": 22
    }
   ],
   "source": [
    "def mae(preds: ndarray, actuals: ndarray):\n",
    "    return np.mean(np.abs(preds - actuals))\n",
    "    \n",
    "\"Mean absolute error\", round(mae(preds, y_test), 4)"
   ]
  },
  {
   "cell_type": "code",
   "execution_count": 21,
   "metadata": {},
   "outputs": [
    {
     "output_type": "execute_result",
     "data": {
      "text/plain": [
       "('Root mean squared error', 5.0497)"
      ]
     },
     "metadata": {},
     "execution_count": 21
    }
   ],
   "source": [
    "def rmse(preds: ndarray, actuals: ndarray):\n",
    "    return np.sqrt(np.mean(np.power(preds - actuals, 2)))\n",
    "\n",
    "\"Root mean squared error\", round(rmse(preds, y_test), 4)"
   ]
  },
  {
   "cell_type": "code",
   "execution_count": 23,
   "metadata": {},
   "outputs": [
    {
     "output_type": "execute_result",
     "data": {
      "text/plain": [
       "22.0776"
      ]
     },
     "metadata": {},
     "execution_count": 23
    }
   ],
   "source": [
    "\"Mean\", np.round(y_test.mean(), 4)"
   ]
  },
  {
   "cell_type": "code",
   "execution_count": 24,
   "metadata": {},
   "outputs": [
    {
     "output_type": "execute_result",
     "data": {
      "text/plain": [
       "('RMSE / Mean', 0.2287)"
      ]
     },
     "metadata": {},
     "execution_count": 24
    }
   ],
   "source": [
    "\"RMSE / Mean\", np.round(rmse(preds, y_test) / y_test.mean(), 4)"
   ]
  },
  {
   "cell_type": "code",
   "execution_count": 25,
   "metadata": {},
   "outputs": [
    {
     "output_type": "execute_result",
     "data": {
      "text/plain": [
       "('Weights',\n",
       " array([-1.0954,  0.7353,  0.1977,  0.7475, -2.2849,  2.2006,  0.7195,\n",
       "        -2.6384,  2.5358, -1.6892, -2.3162,  0.8435, -4.2553]))"
      ]
     },
     "metadata": {},
     "execution_count": 25
    }
   ],
   "source": [
    "\"Weights\", np.round(weights['W'].reshape(-1), 4)"
   ]
  },
  {
   "cell_type": "code",
   "execution_count": null,
   "metadata": {},
   "outputs": [],
   "source": []
  }
 ]
}