{
 "metadata": {
  "language_info": {
   "codemirror_mode": {
    "name": "ipython",
    "version": 3
   },
   "file_extension": ".py",
   "mimetype": "text/x-python",
   "name": "python",
   "nbconvert_exporter": "python",
   "pygments_lexer": "ipython3",
   "version": "3.8.3-final"
  },
  "orig_nbformat": 2,
  "kernelspec": {
   "name": "python3",
   "display_name": "Python 3",
   "language": "python"
  }
 },
 "nbformat": 4,
 "nbformat_minor": 2,
 "cells": [
  {
   "cell_type": "code",
   "execution_count": 1,
   "metadata": {},
   "outputs": [],
   "source": [
    "# The Softmax Cross Entropy Loss Function\n",
    "import numpy as np\n",
    "from lincoln import *"
   ]
  },
  {
   "cell_type": "code",
   "execution_count": 2,
   "metadata": {},
   "outputs": [
    {
     "output_type": "execute_result",
     "data": {
      "text/plain": [
       "array([[ 0,  1],\n",
       "       [ 1,  0],\n",
       "       [ 2, -1]])"
      ]
     },
     "metadata": {},
     "execution_count": 2
    }
   ],
   "source": [
    "a = np.array([[0], [1], [2]])\n",
    "normalize(a) # ?"
   ]
  },
  {
   "cell_type": "code",
   "execution_count": 3,
   "metadata": {},
   "outputs": [
    {
     "output_type": "execute_result",
     "data": {
      "text/plain": [
       "array([[0]])"
      ]
     },
     "metadata": {},
     "execution_count": 3
    }
   ],
   "source": [
    "unnormalize(a) # ?"
   ]
  },
  {
   "cell_type": "code",
   "execution_count": 4,
   "metadata": {},
   "outputs": [],
   "source": [
    "X_train, y_train, X_test, y_test = load()\n",
    "# slice sets off to run faster with acceptable accuracy, down from 60000, 10000\n",
    "X_train = X_train[0:20000]\n",
    "y_train = y_train[0:20000]\n",
    "X_test = X_test[0:3000]\n",
    "y_test = y_test[0:3000]"
   ]
  },
  {
   "cell_type": "code",
   "execution_count": 5,
   "metadata": {},
   "outputs": [],
   "source": [
    "# one-hot encode\n",
    "num_labels = len(y_train)\n",
    "train_labels = np.zeros((num_labels, 10))\n",
    "for i in range(num_labels):\n",
    "    train_labels[i][y_train[i]] = 1\n",
    "\n",
    "num_labels = len(y_test)\n",
    "test_labels = np.zeros((num_labels, 10))\n",
    "for i in range(num_labels):\n",
    "    test_labels[i][y_test[i]] = 1"
   ]
  },
  {
   "cell_type": "code",
   "execution_count": 6,
   "metadata": {},
   "outputs": [],
   "source": [
    "X_train, X_test = X_train - np.mean(X_train), X_test - np.mean(X_train)"
   ]
  },
  {
   "cell_type": "code",
   "execution_count": 7,
   "metadata": {},
   "outputs": [
    {
     "output_type": "execute_result",
     "data": {
      "text/plain": [
       "(-33.55274553571429,\n",
       " 221.44725446428572,\n",
       " -33.55274553571429,\n",
       " 221.44725446428572)"
      ]
     },
     "metadata": {},
     "execution_count": 7
    }
   ],
   "source": [
    "np.min(X_train), np.max(X_train), np.min(X_test), np.max(X_test)"
   ]
  },
  {
   "cell_type": "code",
   "execution_count": 8,
   "metadata": {},
   "outputs": [],
   "source": [
    "X_train, X_test = X_train / np.std(X_train), X_test / np.std(X_train)"
   ]
  },
  {
   "cell_type": "code",
   "execution_count": 9,
   "metadata": {},
   "outputs": [
    {
     "output_type": "execute_result",
     "data": {
      "text/plain": [
       "(-0.4253886851380236,\n",
       " 2.807554341677286,\n",
       " -0.4253886851380236,\n",
       " 2.807554341677286)"
      ]
     },
     "metadata": {},
     "execution_count": 9
    }
   ],
   "source": [
    "np.min(X_train), np.max(X_train), np.min(X_test), np.max(X_test)"
   ]
  },
  {
   "cell_type": "code",
   "execution_count": 10,
   "metadata": {},
   "outputs": [],
   "source": [
    "def calc_accuracy_model(model, test_set):\n",
    "    return print(f'''The model validation accuracy is: {np.equal(np.argmax(model.forward(test_set, inference=True), axis=1), y_test).sum() * 100.0 / test_set.shape[0]:.2f}%''')"
   ]
  },
  {
   "cell_type": "code",
   "execution_count": 11,
   "metadata": {},
   "outputs": [
    {
     "output_type": "stream",
     "name": "stdout",
     "text": [
      "Validation loss after 10 epochs is 0.773\n",
      "Validation loss after 20 epochs is 0.702\n",
      "Validation loss after 30 epochs is 0.675\n",
      "Validation loss after 40 epochs is 0.635\n",
      "Validation loss after 50 epochs is 0.582\n",
      "The model validation accuracy is: 60.17%\n"
     ]
    }
   ],
   "source": [
    "# Mean squared error and sigmoid activation\n",
    "model = NeuralNetwork(\n",
    "    layers=[Dense(neurons=89, activation=Tanh()), \n",
    "            Dense(neurons=10, activation=Sigmoid())],\n",
    "    loss = MeanSquaredError(normalize=False), \n",
    "    seed=20190119)\n",
    "\n",
    "trainer = Trainer(model, SGD(0.1))\n",
    "trainer.fit(X_train, train_labels, X_test, test_labels, epochs = 50, eval_every = 10, seed=20190119, batch_size=60)\n",
    "calc_accuracy_model(model, X_test)"
   ]
  },
  {
   "cell_type": "code",
   "execution_count": 12,
   "metadata": {},
   "outputs": [
    {
     "output_type": "stream",
     "name": "stdout",
     "text": [
      "Validation loss after 10 epochs is 0.956\n",
      "Loss increased after epoch 20, final loss was 0.956, using model from epoch 10\n",
      "The model validation accuracy is: 41.67%\n"
     ]
    }
   ],
   "source": [
    "model = NeuralNetwork(\n",
    "    layers=[Dense(neurons=89, activation=Tanh()),\n",
    "            Dense(neurons=10, activation=Sigmoid())],\n",
    "    loss = MeanSquaredError(normalize=True), \n",
    "    seed=20190119)\n",
    "\n",
    "trainer = Trainer(model, SGD(0.1))\n",
    "trainer.fit(X_train, train_labels, X_test, test_labels, epochs = 50, eval_every = 10, seed=20190119, batch_size=60)\n",
    "calc_accuracy_model(model, X_test)"
   ]
  },
  {
   "cell_type": "code",
   "execution_count": 13,
   "metadata": {},
   "outputs": [
    {
     "output_type": "stream",
     "name": "stdout",
     "text": [
      "Validation loss after 1 epochs is 2.586\n",
      "Validation loss after 2 epochs is 1.907\n",
      "Validation loss after 3 epochs is 1.667\n",
      "Validation loss after 4 epochs is 1.494\n",
      "Validation loss after 5 epochs is 1.381\n",
      "Validation loss after 6 epochs is 1.300\n",
      "Validation loss after 7 epochs is 1.247\n",
      "Validation loss after 8 epochs is 1.193\n",
      "Validation loss after 9 epochs is 1.159\n",
      "Validation loss after 10 epochs is 1.127\n",
      "Validation loss after 11 epochs is 1.093\n",
      "Validation loss after 12 epochs is 1.081\n",
      "Validation loss after 13 epochs is 1.055\n",
      "Validation loss after 14 epochs is 1.037\n",
      "Validation loss after 15 epochs is 1.023\n",
      "Validation loss after 16 epochs is 1.011\n",
      "Validation loss after 17 epochs is 1.003\n",
      "Validation loss after 18 epochs is 0.994\n",
      "Validation loss after 19 epochs is 0.979\n",
      "Validation loss after 20 epochs is 0.969\n",
      "Validation loss after 21 epochs is 0.958\n",
      "Validation loss after 22 epochs is 0.953\n",
      "Validation loss after 23 epochs is 0.944\n",
      "Validation loss after 24 epochs is 0.943\n",
      "Validation loss after 25 epochs is 0.940\n",
      "Validation loss after 26 epochs is 0.933\n",
      "Validation loss after 27 epochs is 0.931\n",
      "Validation loss after 28 epochs is 0.925\n",
      "Loss increased after epoch 29, final loss was 0.925, using model from epoch 28\n",
      "The model validation accuracy is: 84.10%\n"
     ]
    }
   ],
   "source": [
    "# Softmax Cross Entropy Loss\n",
    "model = NeuralNetwork(\n",
    "    layers=[Dense(neurons=89, activation=Sigmoid()),\n",
    "            Dense(neurons=10, activation=Linear())],\n",
    "    loss = SoftmaxCrossEntropy(), \n",
    "    seed=20190119)\n",
    "\n",
    "trainer = Trainer(model, SGD(0.1))\n",
    "trainer.fit(X_train, train_labels, X_test, test_labels, epochs = 130, eval_every = 1, seed=20190119, batch_size=60)\n",
    "calc_accuracy_model(model, X_test)"
   ]
  },
  {
   "cell_type": "code",
   "execution_count": 14,
   "metadata": {},
   "outputs": [
    {
     "output_type": "stream",
     "name": "stdout",
     "text": [
      "Validation loss after 1 epochs is 1.233\n",
      "Validation loss after 2 epochs is 0.961\n",
      "Loss increased after epoch 3, final loss was 0.961, using model from epoch 2\n",
      "The model validation accuracy is: 83.83%\n"
     ]
    }
   ],
   "source": [
    "# SGD Momentum\n",
    "model = NeuralNetwork(\n",
    "    layers=[Dense(neurons=89, activation=Sigmoid()),\n",
    "            Dense(neurons=10, activation=Linear())],\n",
    "    loss = SoftmaxCrossEntropy(), \n",
    "    seed=20190119)\n",
    "\n",
    "trainer = Trainer(model, SGDMomentum(0.1, momentum=0.9))\n",
    "trainer.fit(X_train, train_labels, X_test, test_labels, epochs = 50, eval_every = 1, seed=20190119, batch_size=60)\n",
    "calc_accuracy_model(model, X_test)"
   ]
  },
  {
   "cell_type": "code",
   "execution_count": 15,
   "metadata": {},
   "outputs": [
    {
     "output_type": "stream",
     "name": "stdout",
     "text": [
      "Validation loss after 10 epochs is 0.808\n",
      "Validation loss after 20 epochs is 0.762\n",
      "Loss increased after epoch 30, final loss was 0.762, using model from epoch 20\n",
      "The model validation accuracy is: 89.93%\n"
     ]
    }
   ],
   "source": [
    "model = NeuralNetwork(\n",
    "    layers=[Dense(neurons=89, activation=Tanh()),\n",
    "            Dense(neurons=10, activation=Linear())],\n",
    "    loss = SoftmaxCrossEntropy(), \n",
    "    seed=20190119)\n",
    "\n",
    "trainer = Trainer(model, SGDMomentum(0.1, momentum=0.9))\n",
    "trainer.fit(X_train, train_labels, X_test, test_labels, epochs = 50, eval_every = 10, seed=20190119, batch_size=60)\n",
    "calc_accuracy_model(model, X_test)"
   ]
  },
  {
   "cell_type": "code",
   "execution_count": 16,
   "metadata": {},
   "outputs": [
    {
     "output_type": "stream",
     "name": "stdout",
     "text": [
      "Validation loss after 10 epochs is 0.859\n",
      "Validation loss after 20 epochs is 0.667\n",
      "Validation loss after 30 epochs is 0.660\n",
      "Loss increased after epoch 40, final loss was 0.660, using model from epoch 30\n",
      "The model validation accuracy is: 91.33%\n"
     ]
    }
   ],
   "source": [
    "# Different weight decay\n",
    "model = NeuralNetwork(\n",
    "    layers=[Dense(neurons=89, activation=Tanh()),\n",
    "            Dense(neurons=10, activation=Linear())],\n",
    "    loss = SoftmaxCrossEntropy(), \n",
    "    seed=20190119)\n",
    "\n",
    "optimizer = SGDMomentum(0.15, momentum=0.9, final_lr = 0.05, decay_type='linear')\n",
    "trainer = Trainer(model, optimizer)\n",
    "trainer.fit(X_train, train_labels, X_test, test_labels, epochs = 50, eval_every = 10, seed=20190119, batch_size=60)\n",
    "calc_accuracy_model(model, X_test)"
   ]
  },
  {
   "cell_type": "code",
   "execution_count": 17,
   "metadata": {},
   "outputs": [
    {
     "output_type": "stream",
     "name": "stdout",
     "text": [
      "Validation loss after 10 epochs is 1.020\n",
      "Validation loss after 20 epochs is 0.754\n",
      "Loss increased after epoch 30, final loss was 0.754, using model from epoch 20\n",
      "The model validation accuracy is: 90.00%\n"
     ]
    }
   ],
   "source": [
    "model = NeuralNetwork(\n",
    "    layers=[Dense(neurons=89, activation=Tanh()),\n",
    "            Dense(neurons=10, activation=Linear())],\n",
    "    loss = SoftmaxCrossEntropy(), \n",
    "    seed=20190119)\n",
    "\n",
    "optimizer = SGDMomentum(0.2, momentum=0.9, final_lr = 0.05, decay_type='exponential')\n",
    "trainer = Trainer(model, optimizer)\n",
    "trainer.fit(X_train, train_labels, X_test, test_labels, epochs = 50, eval_every = 10, seed=20190119, batch_size=60)\n",
    "calc_accuracy_model(model, X_test)"
   ]
  },
  {
   "cell_type": "code",
   "execution_count": 18,
   "metadata": {},
   "outputs": [
    {
     "output_type": "stream",
     "name": "stdout",
     "text": [
      "Validation loss after 10 epochs is 0.572\n",
      "Validation loss after 20 epochs is 0.494\n",
      "Loss increased after epoch 30, final loss was 0.494, using model from epoch 20\n",
      "The model validation accuracy is: 93.17%\n"
     ]
    }
   ],
   "source": [
    "# Weight Initialization\n",
    "model = NeuralNetwork(\n",
    "    layers=[Dense(neurons=89, activation=Tanh(), weight_init=\"glorot\"),\n",
    "            Dense(neurons=10, activation=Linear(), weight_init=\"glorot\")],\n",
    "    loss = SoftmaxCrossEntropy(), \n",
    "    seed=20190119)\n",
    "\n",
    "optimizer = SGDMomentum(0.15, momentum=0.9, final_lr = 0.05, decay_type='linear')\n",
    "trainer = Trainer(model, optimizer)\n",
    "trainer.fit(X_train, train_labels, X_test, test_labels, epochs = 50, eval_every = 10, seed=20190119, batch_size=60, early_stopping=True);\n",
    "calc_accuracy_model(model, X_test)"
   ]
  },
  {
   "cell_type": "code",
   "execution_count": 19,
   "metadata": {},
   "outputs": [
    {
     "output_type": "stream",
     "name": "stdout",
     "text": [
      "Validation loss after 10 epochs is 1.015\n",
      "Validation loss after 20 epochs is 0.714\n",
      "Validation loss after 30 epochs is 0.614\n",
      "Loss increased after epoch 40, final loss was 0.614, using model from epoch 30\n",
      "The model validation accuracy is: 91.77%\n"
     ]
    }
   ],
   "source": [
    "model = NeuralNetwork(\n",
    "    layers=[Dense(neurons=89, activation=Tanh(), weight_init=\"glorot\"),\n",
    "            Dense(neurons=10, activation=Linear(), weight_init=\"glorot\")],\n",
    "    loss = SoftmaxCrossEntropy(), \n",
    "    seed=20190119)\n",
    "\n",
    "trainer = Trainer(model, SGDMomentum(0.2, momentum=0.9, final_lr = 0.05, decay_type='exponential'))\n",
    "trainer.fit(X_train, train_labels, X_test, test_labels, epochs = 50, eval_every = 10, seed=20190119, batch_size=60, early_stopping=True);\n",
    "calc_accuracy_model(model, X_test)"
   ]
  },
  {
   "cell_type": "code",
   "execution_count": null,
   "metadata": {},
   "outputs": [],
   "source": []
  }
 ]
}