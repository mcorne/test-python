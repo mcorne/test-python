{
 "metadata": {
  "language_info": {
   "codemirror_mode": {
    "name": "ipython",
    "version": 3
   },
   "file_extension": ".py",
   "mimetype": "text/x-python",
   "name": "python",
   "nbconvert_exporter": "python",
   "pygments_lexer": "ipython3",
   "version": "3.8.3-final"
  },
  "orig_nbformat": 2,
  "kernelspec": {
   "name": "python3",
   "display_name": "Python 3",
   "language": "python"
  }
 },
 "nbformat": 4,
 "nbformat_minor": 2,
 "cells": [
  {
   "cell_type": "code",
   "execution_count": 1,
   "metadata": {},
   "outputs": [],
   "source": [
    "import numpy as np\n",
    "from numpy import ndarray\n",
    "from lincoln import *"
   ]
  },
  {
   "cell_type": "code",
   "execution_count": 2,
   "metadata": {},
   "outputs": [],
   "source": [
    "def assert_same_shape(output: ndarray, output_grad: ndarray):\n",
    "    assert output.shape == output_grad.shape, \\\n",
    "    '''\n",
    "    Two ndarray should have the same shape; instead, first ndarray's shape is {0}\n",
    "    and second ndarray's shape is {1}.\n",
    "    '''.format(tuple(output_grad.shape), tuple(output.shape))\n",
    "\n",
    "def assert_dim(t: ndarray,\n",
    "               dim: ndarray):\n",
    "    assert len(t.shape) == dim, \\\n",
    "    '''\n",
    "    Tensor expected to have dimension {0}, instead has dimension {1}\n",
    "    '''.format(dim, len(t.shape))\n"
   ]
  },
  {
   "cell_type": "code",
   "execution_count": 3,
   "metadata": {},
   "outputs": [
    {
     "output_type": "execute_result",
     "data": {
      "text/plain": [
       "array([0, 1, 2, 3, 4, 5, 0])"
      ]
     },
     "metadata": {},
     "execution_count": 3
    }
   ],
   "source": [
    "# 1D Convolution\n",
    "input_1d = np.array([1, 2, 3, 4, 5])\n",
    "param_1d = np.array([1, 1, 1])\n",
    "\n",
    "def _pad_1d(inp: ndarray, num: int) -> ndarray:\n",
    "    z = np.array([0])\n",
    "    z = np.repeat(z, num)\n",
    "    return np.concatenate([z, inp, z])\n",
    "\n",
    "_pad_1d(input_1d, 1)"
   ]
  },
  {
   "cell_type": "code",
   "execution_count": 4,
   "metadata": {},
   "outputs": [
    {
     "output_type": "execute_result",
     "data": {
      "text/plain": [
       "array([ 3.,  6.,  9., 12.,  9.])"
      ]
     },
     "metadata": {},
     "execution_count": 4
    }
   ],
   "source": [
    "# Forward pass\n",
    "def conv_1d(inp: ndarray, param: ndarray) -> ndarray:\n",
    "    assert_dim(inp, 1)\n",
    "    assert_dim(param, 1)\n",
    "    param_len = param.shape[0]\n",
    "    param_mid = param_len // 2\n",
    "    inp_pad = _pad_1d(inp, param_mid)\n",
    "    out = np.zeros(inp.shape)\n",
    "    for o in range(out.shape[0]):\n",
    "        for p in range(param_len):\n",
    "            out[o] += param[p] * inp_pad[o+p]\n",
    "    assert_same_shape(inp, out)\n",
    "    return out\n",
    "\n",
    "conv_1d(input_1d, param_1d)"
   ]
  },
  {
   "cell_type": "code",
   "execution_count": 5,
   "metadata": {},
   "outputs": [
    {
     "output_type": "execute_result",
     "data": {
      "text/plain": [
       "array([0, 0, 1, 2, 3, 4, 5, 0, 0])"
      ]
     },
     "metadata": {},
     "execution_count": 5
    }
   ],
   "source": [
    "input_1d = np.array([1, 2, 3, 4, 5])\n",
    "param_1d = np.array([1, 1, 1, 1, 1])\n",
    "_pad_1d(input_1d, 2)"
   ]
  },
  {
   "cell_type": "code",
   "execution_count": 6,
   "metadata": {},
   "outputs": [
    {
     "output_type": "execute_result",
     "data": {
      "text/plain": [
       "array([ 6., 10., 15., 14., 12.])"
      ]
     },
     "metadata": {},
     "execution_count": 6
    }
   ],
   "source": [
    "conv_1d(input_1d, param_1d)"
   ]
  },
  {
   "cell_type": "code",
   "execution_count": 7,
   "metadata": {},
   "outputs": [
    {
     "output_type": "execute_result",
     "data": {
      "text/plain": [
       "39.0"
      ]
     },
     "metadata": {},
     "execution_count": 7
    }
   ],
   "source": [
    "# Backward pass\n",
    "def conv_1d_sum(inp: ndarray, param: ndarray) -> ndarray:\n",
    "    out = conv_1d(inp, param)\n",
    "    return np.sum(out)\n",
    "\n",
    "input_1d = np.array([1, 2, 3, 4, 5])\n",
    "param_1d = np.array([1, 1, 1])\n",
    "conv_1d_sum(input_1d, param_1d)"
   ]
  },
  {
   "cell_type": "code",
   "execution_count": 8,
   "metadata": {},
   "outputs": [
    {
     "output_type": "execute_result",
     "data": {
      "text/plain": [
       "41.0"
      ]
     },
     "metadata": {},
     "execution_count": 8
    }
   ],
   "source": [
    "input_1d_2 = np.array([1, 2, 3, 4, 6])\n",
    "param_1d = np.array([1, 1, 1])\n",
    "conv_1d_sum(input_1d_2, param_1d)"
   ]
  },
  {
   "cell_type": "code",
   "execution_count": 9,
   "metadata": {},
   "outputs": [
    {
     "output_type": "execute_result",
     "data": {
      "text/plain": [
       "array([2, 3, 3, 3, 2])"
      ]
     },
     "metadata": {},
     "execution_count": 9
    }
   ],
   "source": [
    "def _input_grad_1d(inp: ndarray, param: ndarray, output_grad: ndarray = None) -> ndarray:\n",
    "    param_len = param.shape[0]\n",
    "    param_mid = param_len // 2\n",
    "    inp_pad = _pad_1d(inp, param_mid)\n",
    "    if output_grad is None:\n",
    "        output_grad = np.ones_like(inp)\n",
    "    else:\n",
    "        assert_same_shape(inp, output_grad)\n",
    "\n",
    "    output_grad = _pad_1d(output_grad, param_mid)\n",
    "    param_grad = np.zeros_like(param)\n",
    "    input_grad = np.zeros_like(inp)\n",
    "    for o in range(inp.shape[0]):\n",
    "        for p in range(param_len):\n",
    "            input_grad[o] += output_grad[o + param_len - p - 1] * param[p]\n",
    "    assert_same_shape(input_grad, inp)\n",
    "    return input_grad\n",
    "\n",
    "_input_grad_1d(input_1d, param_1d)"
   ]
  },
  {
   "cell_type": "code",
   "execution_count": 10,
   "metadata": {},
   "outputs": [
    {
     "output_type": "execute_result",
     "data": {
      "text/plain": [
       "39.0"
      ]
     },
     "metadata": {},
     "execution_count": 10
    }
   ],
   "source": [
    "input_1d = np.array([1, 2, 3, 4, 5])\n",
    "param_1d = np.array([1, 1, 1])\n",
    "conv_1d_sum(input_1d, param_1d)"
   ]
  },
  {
   "cell_type": "code",
   "execution_count": 11,
   "metadata": {},
   "outputs": [
    {
     "output_type": "execute_result",
     "data": {
      "text/plain": [
       "49.0"
      ]
     },
     "metadata": {},
     "execution_count": 11
    }
   ],
   "source": [
    "input_1d = np.array([1, 2, 3, 4, 5])\n",
    "param_1d_2 = np.array([2, 1, 1])\n",
    "conv_1d_sum(input_1d, param_1d_2)"
   ]
  },
  {
   "cell_type": "code",
   "execution_count": 12,
   "metadata": {},
   "outputs": [
    {
     "output_type": "execute_result",
     "data": {
      "text/plain": [
       "array([10, 15, 14])"
      ]
     },
     "metadata": {},
     "execution_count": 12
    }
   ],
   "source": [
    "def _param_grad_1d(inp: ndarray, param: ndarray, output_grad: ndarray = None) -> ndarray:\n",
    "    param_len = param.shape[0]\n",
    "    param_mid = param_len // 2\n",
    "    input_pad = _pad_1d(inp, param_mid)\n",
    "    if output_grad is None:\n",
    "        output_grad = np.ones_like(inp)\n",
    "    else:\n",
    "        assert_same_shape(inp, output_grad)\n",
    "\n",
    "    param_grad = np.zeros_like(param)\n",
    "    input_grad = np.zeros_like(inp)\n",
    "    for o in range(inp.shape[0]):\n",
    "        for p in range(param_len):\n",
    "            param_grad[p] += input_pad[o + p] * output_grad[o]\n",
    "    assert_same_shape(param_grad, param)\n",
    "    return param_grad\n",
    "\n",
    "_param_grad_1d(input_1d, param_1d)"
   ]
  },
  {
   "cell_type": "code",
   "execution_count": 13,
   "metadata": {},
   "outputs": [
    {
     "output_type": "execute_result",
     "data": {
      "text/plain": [
       "array([[ 1.,  3.,  6.,  9., 12., 15., 11.],\n",
       "       [ 3.,  6.,  9., 12., 15., 18., 13.]])"
      ]
     },
     "metadata": {},
     "execution_count": 13
    }
   ],
   "source": [
    "# Batches, 2D Convolutions\n",
    "input_1d_batch = np.array([\n",
    "    [0, 1, 2, 3, 4, 5, 6],\n",
    "    [1, 2, 3, 4, 5, 6, 7],\n",
    "])\n",
    "\n",
    "def conv_1d_batch(inp: ndarray, param: ndarray) -> ndarray:\n",
    "    outs = [conv_1d(obs, param) for obs in inp]\n",
    "    return np.stack(outs)\n",
    "\n",
    "conv_1d_batch(input_1d_batch, param_1d)"
   ]
  },
  {
   "cell_type": "code",
   "execution_count": 14,
   "metadata": {},
   "outputs": [
    {
     "output_type": "execute_result",
     "data": {
      "text/plain": [
       "array([[0, 0, 1, 2, 3, 4, 5, 6, 0],\n",
       "       [0, 1, 2, 3, 4, 5, 6, 7, 0]])"
      ]
     },
     "metadata": {},
     "execution_count": 14
    }
   ],
   "source": [
    "def _pad_1d_batch(inp: ndarray, num: int) -> ndarray:\n",
    "    outs = [_pad_1d(obs, num) for obs in inp]\n",
    "    return np.stack(outs)\n",
    "\n",
    "_pad_1d_batch(input_1d_batch, 1)"
   ]
  },
  {
   "cell_type": "code",
   "execution_count": 15,
   "metadata": {},
   "outputs": [
    {
     "output_type": "execute_result",
     "data": {
      "text/plain": [
       "array([[2, 3, 3, 3, 3, 3, 2],\n",
       "       [2, 3, 3, 3, 3, 3, 2]])"
      ]
     },
     "metadata": {},
     "execution_count": 15
    }
   ],
   "source": [
    "def input_grad_1d_batch(inp: ndarray, param: ndarray) -> ndarray:\n",
    "    out = conv_1d_batch(inp, param)\n",
    "    out_grad = np.ones_like(out)\n",
    "    batch_size = out_grad.shape[0]\n",
    "    grads = [_input_grad_1d(inp[i], param, out_grad[i]) for i in range(batch_size)]\n",
    "    return np.stack(grads)\n",
    "\n",
    "input_grad_1d_batch(input_1d_batch, param_1d)\n",
    "\n"
   ]
  },
  {
   "cell_type": "code",
   "execution_count": 16,
   "metadata": {},
   "outputs": [
    {
     "output_type": "execute_result",
     "data": {
      "text/plain": [
       "array([36, 49, 48])"
      ]
     },
     "metadata": {},
     "execution_count": 16
    }
   ],
   "source": [
    "def param_grad_1d_batch(inp: ndarray, param: ndarray) -> ndarray:\n",
    "    output_grad = np.ones_like(inp)\n",
    "    inp_pad = _pad_1d_batch(inp, 1)\n",
    "    param_grad = np.zeros_like(param)\n",
    "    for i in range(inp.shape[0]):\n",
    "        for o in range(inp.shape[1]):\n",
    "            for p in range(param.shape[0]):\n",
    "                param_grad[p] += inp_pad[i][o + p] * output_grad[i][o]\n",
    "    return param_grad\n",
    "    \n",
    "param_grad_1d_batch(input_1d_batch, param_1d)"
   ]
  },
  {
   "cell_type": "code",
   "execution_count": 17,
   "metadata": {},
   "outputs": [
    {
     "output_type": "execute_result",
     "data": {
      "text/plain": [
       "array([[[-1.03417238, -2.09239755,  0.69135793, ..., -1.07786546,\n",
       "         -0.44008649, -0.03273197],\n",
       "        [ 0.56529457,  1.04933864, -0.47084324, ..., -0.2602004 ,\n",
       "          0.94179117,  1.03752791],\n",
       "        [-1.73092859,  0.23349788, -1.3382604 , ...,  1.07008601,\n",
       "          2.50556758,  1.01098692],\n",
       "        ...,\n",
       "        [ 0.22675193, -0.5000509 , -0.18338481, ...,  0.85593941,\n",
       "          0.81651735, -0.62873667],\n",
       "        [-0.53212729,  0.16203003,  0.97031897, ..., -0.78911639,\n",
       "         -0.56099684, -1.85952668],\n",
       "        [ 0.39737739, -0.33933081,  0.15588373, ...,  0.60740335,\n",
       "          0.55510816, -1.09954132]],\n",
       "\n",
       "       [[-0.40108276, -0.60375753,  0.04158626, ...,  0.67961825,\n",
       "          1.07036277,  1.10052244],\n",
       "        [-0.58388917, -0.53750465,  1.42643215, ...,  0.5980099 ,\n",
       "         -0.21962957,  0.4650023 ],\n",
       "        [ 0.36238631, -0.08180719, -0.26043156, ...,  2.04102829,\n",
       "         -0.93366626, -0.73679577],\n",
       "        ...,\n",
       "        [-0.64817513, -0.08603412,  0.98435836, ..., -0.06719138,\n",
       "         -0.17669705, -0.07782149],\n",
       "        [-1.0821617 , -0.46596678, -0.15814282, ..., -0.41345862,\n",
       "         -0.04359218, -0.24254149],\n",
       "        [ 0.38611882,  0.86476073,  1.98589397, ...,  0.00655567,\n",
       "          0.15057349, -0.81143719]],\n",
       "\n",
       "       [[-2.3033132 , -0.06675413, -1.13929638, ..., -1.56407162,\n",
       "          0.4245837 ,  0.18154712],\n",
       "        [ 0.81971093,  0.18280834, -0.78135232, ..., -1.64138993,\n",
       "          1.20307269,  1.53808253],\n",
       "        [-0.47163707,  0.54500301,  0.06089294, ..., -0.12933937,\n",
       "          1.99159905, -0.40435451],\n",
       "        ...,\n",
       "        [-0.54035562, -0.71778585,  1.63920942, ...,  0.31884409,\n",
       "          1.95404296, -1.24012104],\n",
       "        [ 0.87725576,  0.3486679 , -0.28765144, ..., -1.24036882,\n",
       "         -0.04895412,  0.94954908],\n",
       "        [-0.58159809,  0.80213097,  1.64128874, ...,  0.41867123,\n",
       "         -0.29381997, -1.49088244]]])"
      ]
     },
     "metadata": {},
     "execution_count": 17
    }
   ],
   "source": [
    "# 2D convolutions\n",
    "imgs_2d_batch = np.random.randn(3, 28, 28)\n",
    "imgs_2d_batch"
   ]
  },
  {
   "cell_type": "code",
   "execution_count": 18,
   "metadata": {},
   "outputs": [
    {
     "output_type": "execute_result",
     "data": {
      "text/plain": [
       "array([[-1.06924431, -0.68107541,  0.86605599],\n",
       "       [-0.46896809,  0.84013686,  0.60776054],\n",
       "       [-1.21256271, -0.26579037,  1.42129975]])"
      ]
     },
     "metadata": {},
     "execution_count": 18
    }
   ],
   "source": [
    "param_2d = np.random.randn(3, 3)\n",
    "param_2d"
   ]
  },
  {
   "cell_type": "code",
   "execution_count": 19,
   "metadata": {},
   "outputs": [
    {
     "output_type": "execute_result",
     "data": {
      "text/plain": [
       "(3, 30, 30)"
      ]
     },
     "metadata": {},
     "execution_count": 19
    }
   ],
   "source": [
    "def _pad_2d_obs(inp: ndarray, num: int):\n",
    "    inp_pad = _pad_1d_batch(inp, num)\n",
    "    other = np.zeros((num, inp.shape[0] + num * 2)) # pad columns\n",
    "    return np.concatenate([other, inp_pad, other]) # pad rows\n",
    "\n",
    "def _pad_2d(inp: ndarray, num: int):\n",
    "    outs = [_pad_2d_obs(obs, num) for obs in inp]\n",
    "    return np.stack(outs)\n",
    "\n",
    "_pad_2d(imgs_2d_batch, 1).shape"
   ]
  },
  {
   "cell_type": "code",
   "execution_count": 20,
   "metadata": {},
   "outputs": [
    {
     "output_type": "execute_result",
     "data": {
      "text/plain": [
       "(3, 28, 28)"
      ]
     },
     "metadata": {},
     "execution_count": 20
    }
   ],
   "source": [
    "# 2D convolutions: coding the forward pass\n",
    "def _compute_output_obs_2d(obs: ndarray, param: ndarray):\n",
    "    param_mid = param.shape[0] // 2\n",
    "    obs_pad = _pad_2d_obs(obs, param_mid)\n",
    "    out = np.zeros_like(obs)\n",
    "    for o_w in range(out.shape[0]):\n",
    "        for o_h in range(out.shape[1]):\n",
    "            for p_w in range(param.shape[0]):\n",
    "                for p_h in range(param.shape[1]):\n",
    "                    out[o_w][o_h] += param[p_w][p_h] * obs_pad[o_w+p_w][o_h+p_h]\n",
    "    return out\n",
    "\n",
    "def _compute_output_2d(img_batch: ndarray, param: ndarray):    \n",
    "    assert_dim(img_batch, 3)    \n",
    "    outs = [_compute_output_obs_2d(obs, param) for obs in img_batch]    \n",
    "    return np.stack(outs)\n",
    "\n",
    "_compute_output_2d(imgs_2d_batch, param_2d).shape"
   ]
  },
  {
   "cell_type": "code",
   "execution_count": 21,
   "metadata": {},
   "outputs": [
    {
     "output_type": "execute_result",
     "data": {
      "text/plain": [
       "(3, 28, 28)"
      ]
     },
     "metadata": {},
     "execution_count": 21
    }
   ],
   "source": [
    "# 2D convolutions: coding the backward pass\n",
    "def _compute_grads_obs_2d(input_obs: ndarray, output_grad_obs: ndarray, param: ndarray) -> ndarray:    \n",
    "    param_size = param.shape[0]\n",
    "    output_obs_pad = _pad_2d_obs(output_grad_obs, param_size // 2)\n",
    "    input_grad = np.zeros_like(input_obs)\n",
    "    for i_w in range(input_obs.shape[0]):\n",
    "        for i_h in range(input_obs.shape[1]):\n",
    "            for p_w in range(param_size):\n",
    "                for p_h in range(param_size):\n",
    "                    input_grad[i_w][i_h] += output_obs_pad[i_w + param_size - p_w - 1][i_h + param_size - p_h - 1] * param[p_w][p_h]\n",
    "    return input_grad\n",
    "\n",
    "def _compute_grads_2d(inp: ndarray, output_grad: ndarray, param: ndarray) -> ndarray:\n",
    "    grads = [_compute_grads_obs_2d(inp[i], output_grad[i], param) for i in range(output_grad.shape[0])]\n",
    "    return np.stack(grads)\n",
    "\n",
    "img_grads = _compute_grads_2d(imgs_2d_batch, np.ones_like(imgs_2d_batch), param_2d)\n",
    "img_grads.shape"
   ]
  },
  {
   "cell_type": "code",
   "execution_count": 22,
   "metadata": {},
   "outputs": [
    {
     "output_type": "execute_result",
     "data": {
      "text/plain": [
       "(3, 3)"
      ]
     },
     "metadata": {},
     "execution_count": 22
    }
   ],
   "source": [
    "def _param_grad_2d(inp: ndarray, output_grad: ndarray, param: ndarray) -> ndarray:\n",
    "    param_size = param.shape[0]\n",
    "    inp_pad = _pad_2d(inp, param_size // 2)\n",
    "    param_grad = np.zeros_like(param)\n",
    "    img_shape = output_grad.shape[1:]\n",
    "    for i in range(inp.shape[0]):\n",
    "        for o_w in range(img_shape[0]):\n",
    "            for o_h in range(img_shape[1]):\n",
    "                for p_w in range(param_size):\n",
    "                    for p_h in range(param_size):\n",
    "                        param_grad[p_w][p_h] += inp_pad[i][o_w + p_w][o_h + p_h] * output_grad[i][o_w][o_h]\n",
    "    return param_grad\n",
    "\n",
    "param_grad = _param_grad_2d(imgs_2d_batch, np.ones_like(imgs_2d_batch), param_2d)\n",
    "param_grad.shape"
   ]
  },
  {
   "cell_type": "code",
   "execution_count": 23,
   "metadata": {},
   "outputs": [],
   "source": [
    "# Channels\n",
    "def _pad_2d_channel(inp: ndarray, num: int):\n",
    "    return np.stack([_pad_2d_obs(channel, num) for channel in inp])\n",
    "\n",
    "def _pad_conv_input(inp: ndarray, num: int):\n",
    "    return np.stack([_pad_2d_channel(obs, num) for obs in inp])"
   ]
  },
  {
   "cell_type": "code",
   "execution_count": 24,
   "metadata": {},
   "outputs": [],
   "source": [
    "# Forward\n",
    "def _compute_output_obs(obs: ndarray, param: ndarray):\n",
    "    assert_dim(obs, 3)\n",
    "    assert_dim(param, 4)    \n",
    "    param_size = param.shape[2]\n",
    "    param_mid = param_size // 2\n",
    "    obs_pad = _pad_2d_channel(obs, param_mid)    \n",
    "    in_channels = param.shape[0]\n",
    "    out_channels = param.shape[1]\n",
    "    img_size = obs.shape[1]    \n",
    "    out = np.zeros((out_channels,) + obs.shape[1:])\n",
    "    for c_in in range(in_channels):\n",
    "        for c_out in range(out_channels):\n",
    "            for o_w in range(img_size):\n",
    "                for o_h in range(img_size):\n",
    "                    for p_w in range(param_size):\n",
    "                        for p_h in range(param_size):\n",
    "                            out[c_out][o_w][o_h] += param[c_in][c_out][p_w][p_h] * obs_pad[c_in][o_w+p_w][o_h+p_h]\n",
    "    return out    \n",
    "\n",
    "def _output(inp: ndarray, param: ndarray) -> ndarray:\n",
    "    outs = [_compute_output_obs(obs, param) for obs in inp]\n",
    "    return np.stack(outs)"
   ]
  },
  {
   "cell_type": "code",
   "execution_count": 25,
   "metadata": {},
   "outputs": [],
   "source": [
    "# Backward\n",
    "def _compute_grads_obs(input_obs: ndarray, output_grad_obs: ndarray, param: ndarray) -> ndarray:\n",
    "    input_grad = np.zeros_like(input_obs)    \n",
    "    param_size = param.shape[2]\n",
    "    param_mid = param_size // 2\n",
    "    img_size = input_obs.shape[1]\n",
    "    in_channels = input_obs.shape[0]\n",
    "    out_channels = param.shape[1]\n",
    "    output_obs_pad = _pad_2d_channel(output_grad_obs, param_mid)    \n",
    "    for c_in in range(in_channels):\n",
    "        for c_out in range(out_channels):\n",
    "            for i_w in range(input_obs.shape[1]):\n",
    "                for i_h in range(input_obs.shape[2]):\n",
    "                    for p_w in range(param_size):\n",
    "                        for p_h in range(param_size):\n",
    "                            input_grad[c_in][i_w][i_h] += output_obs_pad[c_out][i_w+param_size-p_w-1][i_h+param_size-p_h-1] * param[c_in][c_out][p_w][p_h]\n",
    "    return input_grad\n",
    "\n",
    "def _input_grad(inp: ndarray, output_grad: ndarray, param: ndarray) -> ndarray:\n",
    "    grads = [_compute_grads_obs(inp[i], output_grad[i], param) for i in range(output_grad.shape[0])]\n",
    "    return np.stack(grads)"
   ]
  },
  {
   "cell_type": "code",
   "execution_count": 26,
   "metadata": {},
   "outputs": [],
   "source": [
    "def _param_grad(inp: ndarray, output_grad: ndarray, param: ndarray) -> ndarray:\n",
    "    param_grad = np.zeros_like(param)    \n",
    "    param_size = param.shape[2]\n",
    "    param_mid = param_size // 2\n",
    "    img_size = inp.shape[2]\n",
    "    in_channels = inp.shape[1]\n",
    "    out_channels = output_grad.shape[1]\n",
    "    inp_pad = _pad_conv_input(inp, param_mid)\n",
    "    img_shape = output_grad.shape[2:]\n",
    "    for i in range(inp.shape[0]):\n",
    "        for c_in in range(in_channels):\n",
    "            for c_out in range(out_channels):\n",
    "                for o_w in range(img_shape[0]):\n",
    "                    for o_h in range(img_shape[1]):\n",
    "                        for p_w in range(param_size):\n",
    "                            for p_h in range(param_size):\n",
    "                                param_grad[c_in][c_out][p_w][p_h] += inp_pad[i][c_in][o_w+p_w][o_h+p_h] * output_grad[i][c_out][o_w][o_h]\n",
    "    return param_grad"
   ]
  },
  {
   "cell_type": "code",
   "execution_count": 27,
   "metadata": {},
   "outputs": [],
   "source": [
    "# Experiments\n",
    "X_train, y_train, X_test, y_test = load()\n",
    "# slice sets off to run faster with acceptable accuracy, down from 60000, 10000\n",
    "X_train = X_train[0:15000]\n",
    "y_train = y_train[0:15000]\n",
    "X_test = X_test[0:2500]\n",
    "y_test = y_test[0:2500]\n",
    "X_train, X_test = X_train - np.mean(X_train), X_test - np.mean(X_train)\n",
    "X_train, X_test = X_train / np.std(X_train), X_test / np.std(X_train)\n",
    "X_train_conv, X_test_conv = X_train.reshape(-1, 1, 28, 28), X_test.reshape(-1, 1, 28, 28)"
   ]
  },
  {
   "cell_type": "code",
   "execution_count": 28,
   "metadata": {},
   "outputs": [],
   "source": [
    "num_labels = len(y_train)\n",
    "train_labels = np.zeros((num_labels, 10))\n",
    "for i in range(num_labels):\n",
    "    train_labels[i][y_train[i]] = 1\n",
    "\n",
    "num_labels = len(y_test)\n",
    "test_labels = np.zeros((num_labels, 10))\n",
    "for i in range(num_labels):\n",
    "    test_labels[i][y_test[i]] = 1"
   ]
  },
  {
   "cell_type": "code",
   "execution_count": 29,
   "metadata": {},
   "outputs": [],
   "source": [
    "def calc_accuracy_model(model, test_set):\n",
    "    return print(f'''The model validation accuracy is: {np.equal(np.argmax(model.forward(test_set, inference=True), axis=1), y_test).sum() * 100.0 / test_set.shape[0]:.2f}%''')"
   ]
  },
  {
   "cell_type": "code",
   "execution_count": 30,
   "metadata": {},
   "outputs": [
    {
     "output_type": "stream",
     "name": "stdout",
     "text": [
      "Validation loss after 1 epochs is 7.907\n"
     ]
    }
   ],
   "source": [
    "model = NeuralNetwork(\n",
    "    layers=[Conv2D(out_channels=16, param_size=5, dropout=0.8, weight_init=\"glorot\", flatten=True, activation=Tanh()),\n",
    "            Dense(neurons=10, activation=Linear())],\n",
    "    loss = SoftmaxCrossEntropy(), \n",
    "    seed=20190402)\n",
    "\n",
    "trainer = Trainer(model, SGDMomentum(lr = 0.1, momentum=0.9))\n",
    "trainer.fit(X_train_conv, train_labels, X_test_conv, test_labels, epochs = 1, eval_every = 1, seed=20190402, batch_size=60, conv_testing=True)"
   ]
  },
  {
   "cell_type": "code",
   "execution_count": 31,
   "metadata": {},
   "outputs": [
    {
     "output_type": "stream",
     "name": "stdout",
     "text": [
      "The model validation accuracy is: 82.44%\n"
     ]
    }
   ],
   "source": [
    "calc_accuracy_model(model, X_test_conv)"
   ]
  },
  {
   "cell_type": "code",
   "execution_count": null,
   "metadata": {},
   "outputs": [],
   "source": []
  }
 ]
}