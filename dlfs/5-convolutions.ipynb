{
 "metadata": {
  "language_info": {
   "codemirror_mode": {
    "name": "ipython",
    "version": 3
   },
   "file_extension": ".py",
   "mimetype": "text/x-python",
   "name": "python",
   "nbconvert_exporter": "python",
   "pygments_lexer": "ipython3",
   "version": "3.8.3-final"
  },
  "orig_nbformat": 2,
  "kernelspec": {
   "name": "python3",
   "display_name": "Python 3",
   "language": "python"
  }
 },
 "nbformat": 4,
 "nbformat_minor": 2,
 "cells": [
  {
   "cell_type": "code",
   "execution_count": 17,
   "metadata": {},
   "outputs": [],
   "source": [
    "import numpy as np\n",
    "from numpy import ndarray"
   ]
  },
  {
   "cell_type": "code",
   "execution_count": 18,
   "metadata": {},
   "outputs": [],
   "source": [
    "def assert_same_shape(output: ndarray, output_grad: ndarray):\n",
    "    assert output.shape == output_grad.shape, \\\n",
    "    '''\n",
    "    Two ndarray should have the same shape; instead, first ndarray's shape is {0}\n",
    "    and second ndarray's shape is {1}.\n",
    "    '''.format(tuple(output_grad.shape), tuple(output.shape))\n",
    "\n",
    "def assert_dim(t: ndarray,\n",
    "               dim: ndarray):\n",
    "    assert len(t.shape) == dim, \\\n",
    "    '''\n",
    "    Tensor expected to have dimension {0}, instead has dimension {1}\n",
    "    '''.format(dim, len(t.shape))\n"
   ]
  },
  {
   "cell_type": "code",
   "execution_count": 19,
   "metadata": {},
   "outputs": [
    {
     "output_type": "execute_result",
     "data": {
      "text/plain": [
       "array([0, 1, 2, 3, 4, 5, 0])"
      ]
     },
     "metadata": {},
     "execution_count": 19
    }
   ],
   "source": [
    "# 1D Convolution\n",
    "input_1d = np.array([1, 2, 3, 4, 5])\n",
    "param_1d = np.array([1, 1, 1])\n",
    "\n",
    "def _pad_1d(inp: ndarray, num: int) -> ndarray:\n",
    "    z = np.array([0])\n",
    "    z = np.repeat(z, num)\n",
    "    return np.concatenate([z, inp, z])\n",
    "\n",
    "_pad_1d(input_1d, 1)"
   ]
  },
  {
   "cell_type": "code",
   "execution_count": 20,
   "metadata": {},
   "outputs": [
    {
     "output_type": "execute_result",
     "data": {
      "text/plain": [
       "array([ 3.,  6.,  9., 12.,  9.])"
      ]
     },
     "metadata": {},
     "execution_count": 20
    }
   ],
   "source": [
    "def conv_id(inp: ndarray, param: ndarray) -> ndarray:\n",
    "    assert_dim(inp, 1)\n",
    "    assert_dim(param, 1)\n",
    "    param_len = param.shape[0]\n",
    "    param_mid = param_len // 2\n",
    "    inp_pad = _pad_1d(inp, param_mid)\n",
    "    out = np.zeros(inp.shape)\n",
    "    for o in range(out.shape[0]):\n",
    "        for p in range(param_len):\n",
    "            out[o] += param[p] * inp_pad[o+p]\n",
    "    assert_same_shape(inp, out)\n",
    "    return out\n",
    "\n",
    "conv_id(input_1d, param_1d)"
   ]
  },
  {
   "cell_type": "code",
   "execution_count": 23,
   "metadata": {},
   "outputs": [
    {
     "output_type": "execute_result",
     "data": {
      "text/plain": [
       "array([0, 0, 1, 2, 3, 4, 5, 0, 0])"
      ]
     },
     "metadata": {},
     "execution_count": 23
    }
   ],
   "source": [
    "input_1d = np.array([1, 2, 3, 4, 5])\n",
    "param_1d = np.array([1, 1, 1, 1, 1])\n",
    "_pad_1d(input_1d, 2)"
   ]
  },
  {
   "cell_type": "code",
   "execution_count": 24,
   "metadata": {},
   "outputs": [
    {
     "output_type": "execute_result",
     "data": {
      "text/plain": [
       "array([ 6., 10., 15., 14., 12.])"
      ]
     },
     "metadata": {},
     "execution_count": 24
    }
   ],
   "source": [
    "conv_id(input_1d, param_1d)"
   ]
  },
  {
   "cell_type": "code",
   "execution_count": null,
   "metadata": {},
   "outputs": [],
   "source": []
  }
 ]
}