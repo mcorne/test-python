{
 "metadata": {
  "language_info": {
   "codemirror_mode": {
    "name": "ipython",
    "version": 3
   },
   "file_extension": ".py",
   "mimetype": "text/x-python",
   "name": "python",
   "nbconvert_exporter": "python",
   "pygments_lexer": "ipython3",
   "version": "3.8.3-final"
  },
  "orig_nbformat": 2,
  "kernelspec": {
   "name": "python3",
   "display_name": "Python 3",
   "language": "python"
  }
 },
 "nbformat": 4,
 "nbformat_minor": 2,
 "cells": [
  {
   "cell_type": "code",
   "execution_count": 1,
   "metadata": {},
   "outputs": [],
   "source": [
    "import numpy as np\n",
    "from numpy import ndarray"
   ]
  },
  {
   "cell_type": "code",
   "execution_count": 2,
   "metadata": {},
   "outputs": [],
   "source": [
    "def assert_same_shape(output: ndarray, output_grad: ndarray):\n",
    "    assert output.shape == output_grad.shape, \\\n",
    "    '''\n",
    "    Two ndarray should have the same shape; instead, first ndarray's shape is {0}\n",
    "    and second ndarray's shape is {1}.\n",
    "    '''.format(tuple(output_grad.shape), tuple(output.shape))\n",
    "\n",
    "def assert_dim(t: ndarray,\n",
    "               dim: ndarray):\n",
    "    assert len(t.shape) == dim, \\\n",
    "    '''\n",
    "    Tensor expected to have dimension {0}, instead has dimension {1}\n",
    "    '''.format(dim, len(t.shape))\n"
   ]
  },
  {
   "cell_type": "code",
   "execution_count": 3,
   "metadata": {},
   "outputs": [
    {
     "output_type": "execute_result",
     "data": {
      "text/plain": [
       "array([0, 1, 2, 3, 4, 5, 0])"
      ]
     },
     "metadata": {},
     "execution_count": 3
    }
   ],
   "source": [
    "# 1D Convolution\n",
    "input_1d = np.array([1, 2, 3, 4, 5])\n",
    "param_1d = np.array([1, 1, 1])\n",
    "\n",
    "def _pad_1d(inp: ndarray, num: int) -> ndarray:\n",
    "    z = np.array([0])\n",
    "    z = np.repeat(z, num)\n",
    "    return np.concatenate([z, inp, z])\n",
    "\n",
    "_pad_1d(input_1d, 1)"
   ]
  },
  {
   "cell_type": "code",
   "execution_count": 4,
   "metadata": {},
   "outputs": [
    {
     "output_type": "execute_result",
     "data": {
      "text/plain": [
       "array([ 3.,  6.,  9., 12.,  9.])"
      ]
     },
     "metadata": {},
     "execution_count": 4
    }
   ],
   "source": [
    "# Forward pass\n",
    "def conv_1d(inp: ndarray, param: ndarray) -> ndarray:\n",
    "    assert_dim(inp, 1)\n",
    "    assert_dim(param, 1)\n",
    "    param_len = param.shape[0]\n",
    "    param_mid = param_len // 2\n",
    "    inp_pad = _pad_1d(inp, param_mid)\n",
    "    out = np.zeros(inp.shape)\n",
    "    for o in range(out.shape[0]):\n",
    "        for p in range(param_len):\n",
    "            out[o] += param[p] * inp_pad[o+p]\n",
    "    assert_same_shape(inp, out)\n",
    "    return out\n",
    "\n",
    "conv_1d(input_1d, param_1d)"
   ]
  },
  {
   "cell_type": "code",
   "execution_count": 5,
   "metadata": {},
   "outputs": [
    {
     "output_type": "execute_result",
     "data": {
      "text/plain": [
       "array([0, 0, 1, 2, 3, 4, 5, 0, 0])"
      ]
     },
     "metadata": {},
     "execution_count": 5
    }
   ],
   "source": [
    "input_1d = np.array([1, 2, 3, 4, 5])\n",
    "param_1d = np.array([1, 1, 1, 1, 1])\n",
    "_pad_1d(input_1d, 2)"
   ]
  },
  {
   "cell_type": "code",
   "execution_count": 6,
   "metadata": {},
   "outputs": [
    {
     "output_type": "execute_result",
     "data": {
      "text/plain": [
       "array([ 6., 10., 15., 14., 12.])"
      ]
     },
     "metadata": {},
     "execution_count": 6
    }
   ],
   "source": [
    "conv_1d(input_1d, param_1d)"
   ]
  },
  {
   "cell_type": "code",
   "execution_count": 7,
   "metadata": {},
   "outputs": [
    {
     "output_type": "execute_result",
     "data": {
      "text/plain": [
       "39.0"
      ]
     },
     "metadata": {},
     "execution_count": 7
    }
   ],
   "source": [
    "# Backward pass\n",
    "def conv_1d_sum(inp: ndarray, param: ndarray) -> ndarray:\n",
    "    out = conv_1d(inp, param)\n",
    "    return np.sum(out)\n",
    "\n",
    "input_1d = np.array([1, 2, 3, 4, 5])\n",
    "param_1d = np.array([1, 1, 1])\n",
    "conv_1d_sum(input_1d, param_1d)"
   ]
  },
  {
   "cell_type": "code",
   "execution_count": 8,
   "metadata": {},
   "outputs": [
    {
     "output_type": "execute_result",
     "data": {
      "text/plain": [
       "41.0"
      ]
     },
     "metadata": {},
     "execution_count": 8
    }
   ],
   "source": [
    "input_1d_2 = np.array([1, 2, 3, 4, 6])\n",
    "param_1d = np.array([1, 1, 1])\n",
    "conv_1d_sum(input_1d_2, param_1d)"
   ]
  },
  {
   "cell_type": "code",
   "execution_count": 9,
   "metadata": {},
   "outputs": [
    {
     "output_type": "execute_result",
     "data": {
      "text/plain": [
       "array([2, 3, 3, 3, 2])"
      ]
     },
     "metadata": {},
     "execution_count": 9
    }
   ],
   "source": [
    "def _input_grad_1d(inp: ndarray, param: ndarray, output_grad: ndarray = None) -> ndarray:\n",
    "    param_len = param.shape[0]\n",
    "    param_mid = param_len // 2\n",
    "    inp_pad = _pad_1d(inp, param_mid)\n",
    "    if output_grad is None:\n",
    "        output_grad = np.ones_like(inp)\n",
    "    else:\n",
    "        assert_same_shape(inp, output_grad)\n",
    "\n",
    "    output_grad = _pad_1d(output_grad, param_mid)\n",
    "    param_grad = np.zeros_like(param)\n",
    "    input_grad = np.zeros_like(inp)\n",
    "    for o in range(inp.shape[0]):\n",
    "        for p in range(param_len):\n",
    "            input_grad[o] += output_grad[o + param_len - p - 1] * param[p]\n",
    "    assert_same_shape(input_grad, inp)\n",
    "    return input_grad\n",
    "\n",
    "_input_grad_1d(input_1d, param_1d)"
   ]
  },
  {
   "cell_type": "code",
   "execution_count": 10,
   "metadata": {},
   "outputs": [
    {
     "output_type": "execute_result",
     "data": {
      "text/plain": [
       "39.0"
      ]
     },
     "metadata": {},
     "execution_count": 10
    }
   ],
   "source": [
    "input_1d = np.array([1, 2, 3, 4, 5])\n",
    "param_1d = np.array([1, 1, 1])\n",
    "conv_1d_sum(input_1d, param_1d)"
   ]
  },
  {
   "cell_type": "code",
   "execution_count": 11,
   "metadata": {},
   "outputs": [
    {
     "output_type": "execute_result",
     "data": {
      "text/plain": [
       "49.0"
      ]
     },
     "metadata": {},
     "execution_count": 11
    }
   ],
   "source": [
    "input_1d = np.array([1, 2, 3, 4, 5])\n",
    "param_1d_2 = np.array([2, 1, 1])\n",
    "conv_1d_sum(input_1d, param_1d_2)"
   ]
  },
  {
   "cell_type": "code",
   "execution_count": 12,
   "metadata": {},
   "outputs": [
    {
     "output_type": "execute_result",
     "data": {
      "text/plain": [
       "array([10, 15, 14])"
      ]
     },
     "metadata": {},
     "execution_count": 12
    }
   ],
   "source": [
    "def _param_grad_1d(inp: ndarray, param: ndarray, output_grad: ndarray = None) -> ndarray:\n",
    "    param_len = param.shape[0]\n",
    "    param_mid = param_len // 2\n",
    "    input_pad = _pad_1d(inp, param_mid)\n",
    "    if output_grad is None:\n",
    "        output_grad = np.ones_like(inp)\n",
    "    else:\n",
    "        assert_same_shape(inp, output_grad)\n",
    "\n",
    "    param_grad = np.zeros_like(param)\n",
    "    input_grad = np.zeros_like(inp)\n",
    "    for o in range(inp.shape[0]):\n",
    "        for p in range(param_len):\n",
    "            param_grad[p] += input_pad[o + p] * output_grad[o]\n",
    "    assert_same_shape(param_grad, param)\n",
    "    return param_grad\n",
    "\n",
    "_param_grad_1d(input_1d, param_1d)"
   ]
  },
  {
   "cell_type": "code",
   "execution_count": 13,
   "metadata": {},
   "outputs": [
    {
     "output_type": "execute_result",
     "data": {
      "text/plain": [
       "array([[ 1.,  3.,  6.,  9., 12., 15., 11.],\n",
       "       [ 3.,  6.,  9., 12., 15., 18., 13.]])"
      ]
     },
     "metadata": {},
     "execution_count": 13
    }
   ],
   "source": [
    "# Batches, 2D Convolutions\n",
    "input_1d_batch = np.array([\n",
    "    [0, 1, 2, 3, 4, 5, 6],\n",
    "    [1, 2, 3, 4, 5, 6, 7],\n",
    "])\n",
    "\n",
    "def conv_1d_batch(inp: ndarray, param: ndarray) -> ndarray:\n",
    "    outs = [conv_1d(obs, param) for obs in inp]\n",
    "    return np.stack(outs)\n",
    "\n",
    "conv_1d_batch(input_1d_batch, param_1d)"
   ]
  },
  {
   "cell_type": "code",
   "execution_count": 14,
   "metadata": {},
   "outputs": [
    {
     "output_type": "execute_result",
     "data": {
      "text/plain": [
       "array([[0, 0, 1, 2, 3, 4, 5, 6, 0],\n",
       "       [0, 1, 2, 3, 4, 5, 6, 7, 0]])"
      ]
     },
     "metadata": {},
     "execution_count": 14
    }
   ],
   "source": [
    "def _pad_1d_batch(inp: ndarray, num: int) -> ndarray:\n",
    "    outs = [_pad_1d(obs, num) for obs in inp]\n",
    "    return np.stack(outs)\n",
    "\n",
    "_pad_1d_batch(input_1d_batch, 1)"
   ]
  },
  {
   "cell_type": "code",
   "execution_count": 15,
   "metadata": {},
   "outputs": [
    {
     "output_type": "execute_result",
     "data": {
      "text/plain": [
       "array([[2, 3, 3, 3, 3, 3, 2],\n",
       "       [2, 3, 3, 3, 3, 3, 2]])"
      ]
     },
     "metadata": {},
     "execution_count": 15
    }
   ],
   "source": [
    "def input_grad_1d_batch(inp: ndarray, param: ndarray) -> ndarray:\n",
    "    out = conv_1d_batch(inp, param)\n",
    "    out_grad = np.ones_like(out)\n",
    "    batch_size = out_grad.shape[0]\n",
    "    grads = [_input_grad_1d(inp[i], param, out_grad[i]) for i in range(batch_size)]\n",
    "    return np.stack(grads)\n",
    "\n",
    "input_grad_1d_batch(input_1d_batch, param_1d)\n",
    "\n"
   ]
  },
  {
   "cell_type": "code",
   "execution_count": 16,
   "metadata": {},
   "outputs": [
    {
     "output_type": "execute_result",
     "data": {
      "text/plain": [
       "array([36, 49, 48])"
      ]
     },
     "metadata": {},
     "execution_count": 16
    }
   ],
   "source": [
    "def param_grad_1d_batch(inp: ndarray, param: ndarray) -> ndarray:\n",
    "    output_grad = np.ones_like(inp)\n",
    "    inp_pad = _pad_1d_batch(inp, 1)\n",
    "    param_grad = np.zeros_like(param)\n",
    "    for i in range(inp.shape[0]):\n",
    "        for o in range(inp.shape[1]):\n",
    "            for p in range(param.shape[0]):\n",
    "                param_grad[p] += inp_pad[i][o + p] * output_grad[i][o]\n",
    "    return param_grad\n",
    "    \n",
    "param_grad_1d_batch(input_1d_batch, param_1d)"
   ]
  },
  {
   "cell_type": "code",
   "execution_count": 17,
   "metadata": {},
   "outputs": [
    {
     "output_type": "execute_result",
     "data": {
      "text/plain": [
       "array([[[-0.42434922, -0.14472483, -1.27013222, ..., -0.74073442,\n",
       "         -1.3971833 , -0.54179224],\n",
       "        [-0.35763276, -1.6784949 ,  1.03143636, ...,  1.38298904,\n",
       "         -1.42219988,  0.52587608],\n",
       "        [ 0.84106141,  0.31597954,  0.01738205, ...,  2.29523075,\n",
       "         -1.36179772,  0.95529535],\n",
       "        ...,\n",
       "        [-1.78979656, -0.42676378, -1.29281323, ..., -2.47334326,\n",
       "         -1.01375606,  0.72455379],\n",
       "        [ 4.05129898,  0.03784841, -0.435168  , ...,  1.42691352,\n",
       "         -1.376121  ,  2.59586309],\n",
       "        [ 1.53618191, -0.38938324,  0.45311103, ..., -0.88061069,\n",
       "          0.36252006,  0.80542943]],\n",
       "\n",
       "       [[ 1.06568439, -0.08612292,  1.60093917, ..., -1.82067884,\n",
       "         -0.93793742,  0.06243818],\n",
       "        [ 0.16580653,  1.14548298, -0.81346529, ...,  0.496644  ,\n",
       "         -1.4693013 , -0.20614311],\n",
       "        [ 0.00736742,  0.17220568,  0.13315277, ..., -1.08472759,\n",
       "         -0.08280564,  0.96593941],\n",
       "        ...,\n",
       "        [ 0.24798535,  3.04208432, -1.84653628, ...,  0.91630629,\n",
       "          1.59499099,  0.18413249],\n",
       "        [ 0.36268697, -0.20239397, -0.07881739, ..., -1.3417744 ,\n",
       "         -0.07294712,  1.1463328 ],\n",
       "        [-1.034194  ,  0.81146402, -0.10564571, ...,  0.48480984,\n",
       "         -1.61659068, -1.8541749 ]],\n",
       "\n",
       "       [[ 1.41565948,  0.02660638, -0.48444561, ..., -0.99282096,\n",
       "          0.04993862, -0.05693003],\n",
       "        [-0.38158203,  0.62664621, -0.04864073, ..., -0.55619076,\n",
       "          1.01991346, -0.88341199],\n",
       "        [-0.30509063, -0.4685334 ,  1.32538733, ..., -0.71828128,\n",
       "         -1.04436445, -0.37572613],\n",
       "        ...,\n",
       "        [ 0.96240342, -0.45552054, -0.80874944, ..., -0.17620625,\n",
       "          0.36392395,  0.30502854],\n",
       "        [-0.70087219,  0.26626563,  0.47202122, ..., -0.14354956,\n",
       "          1.25047909,  1.30316057],\n",
       "        [-1.09995421,  0.34764181,  0.21391515, ...,  1.50675275,\n",
       "          1.77296072,  0.25307816]]])"
      ]
     },
     "metadata": {},
     "execution_count": 17
    }
   ],
   "source": [
    "# 2D convolutions\n",
    "imgs_2d_batch = np.random.randn(3, 28, 28)\n",
    "imgs_2d_batch"
   ]
  },
  {
   "cell_type": "code",
   "execution_count": 18,
   "metadata": {},
   "outputs": [
    {
     "output_type": "execute_result",
     "data": {
      "text/plain": [
       "array([[ 0.96969128, -1.04773981,  0.39857421],\n",
       "       [-0.21581007, -1.27222732,  0.50117092],\n",
       "       [ 0.80176452,  0.78770285,  0.79786428]])"
      ]
     },
     "metadata": {},
     "execution_count": 18
    }
   ],
   "source": [
    "param_2d = np.random.randn(3, 3) # why 2D? ready for channels ?\n",
    "param_2d"
   ]
  },
  {
   "cell_type": "code",
   "execution_count": 19,
   "metadata": {},
   "outputs": [
    {
     "output_type": "execute_result",
     "data": {
      "text/plain": [
       "(3, 30, 30)"
      ]
     },
     "metadata": {},
     "execution_count": 19
    }
   ],
   "source": [
    "def _pad_2d_obs(inp: ndarray, num: int):\n",
    "    inp_pad = _pad_1d_batch(inp, num)\n",
    "    other = np.zeros((num, inp.shape[0] + num * 2)) # pad columns\n",
    "    return np.concatenate([other, inp_pad, other]) # pad rows\n",
    "\n",
    "def _pad_2d(inp: ndarray, num: int):\n",
    "    outs = [_pad_2d_obs(obs, num) for obs in inp]\n",
    "    return np.stack(outs)\n",
    "\n",
    "_pad_2d(imgs_2d_batch, 1).shape"
   ]
  },
  {
   "cell_type": "code",
   "execution_count": 20,
   "metadata": {},
   "outputs": [
    {
     "output_type": "execute_result",
     "data": {
      "text/plain": [
       "(3, 28, 28)"
      ]
     },
     "metadata": {},
     "execution_count": 20
    }
   ],
   "source": [
    "# 2D convolutions: coding the forward pass\n",
    "def _compute_output_obs_2d(obs: ndarray, param: ndarray):\n",
    "    param_mid = param.shape[0] // 2\n",
    "    obs_pad = _pad_2d_obs(obs, param_mid)\n",
    "    out = np.zeros_like(obs)\n",
    "    for o_w in range(out.shape[0]):\n",
    "        for o_h in range(out.shape[1]):\n",
    "            for p_w in range(param.shape[0]):\n",
    "                for p_h in range(param.shape[1]):\n",
    "                    out[o_w][o_h] += param[p_w][p_h] * obs_pad[o_w+p_w][o_h+p_h]\n",
    "    return out\n",
    "\n",
    "def _compute_output_2d(img_batch: ndarray, param: ndarray):    \n",
    "    assert_dim(img_batch, 3)    \n",
    "    outs = [_compute_output_obs_2d(obs, param) for obs in img_batch]    \n",
    "    return np.stack(outs)\n",
    "\n",
    "_compute_output_2d(imgs_2d_batch, param_2d).shape"
   ]
  },
  {
   "cell_type": "code",
   "execution_count": 21,
   "metadata": {},
   "outputs": [
    {
     "output_type": "execute_result",
     "data": {
      "text/plain": [
       "(3, 28, 28)"
      ]
     },
     "metadata": {},
     "execution_count": 21
    }
   ],
   "source": [
    "# 2D convolutions: coding the backward pass\n",
    "def _compute_grads_obs_2d(input_obs: ndarray, output_grad_obs: ndarray, param: ndarray) -> ndarray:    \n",
    "    param_size = param.shape[0]\n",
    "    output_obs_pad = _pad_2d_obs(output_grad_obs, param_size // 2)\n",
    "    input_grad = np.zeros_like(input_obs)\n",
    "    for i_w in range(input_obs.shape[0]):\n",
    "        for i_h in range(input_obs.shape[1]):\n",
    "            for p_w in range(param_size):\n",
    "                for p_h in range(param_size):\n",
    "                    input_grad[i_w][i_h] += output_obs_pad[i_w + param_size - p_w - 1][i_h + param_size - p_h - 1] * param[p_w][p_h]\n",
    "    return input_grad\n",
    "\n",
    "def _compute_grads_2d(inp: ndarray, output_grad: ndarray, param: ndarray) -> ndarray:\n",
    "    grads = [_compute_grads_obs_2d(inp[i], output_grad[i], param) for i in range(output_grad.shape[0])]\n",
    "    return np.stack(grads)\n",
    "\n",
    "img_grads = _compute_grads_2d(imgs_2d_batch, np.ones_like(imgs_2d_batch), param_2d)\n",
    "img_grads.shape"
   ]
  },
  {
   "cell_type": "code",
   "execution_count": 22,
   "metadata": {},
   "outputs": [
    {
     "output_type": "execute_result",
     "data": {
      "text/plain": [
       "(3, 3)"
      ]
     },
     "metadata": {},
     "execution_count": 22
    }
   ],
   "source": [
    "def _param_grad_2d(inp: ndarray, output_grad: ndarray, param: ndarray) -> ndarray:\n",
    "    param_size = param.shape[0]\n",
    "    inp_pad = _pad_2d(inp, param_size // 2)\n",
    "    param_grad = np.zeros_like(param)\n",
    "    img_shape = output_grad.shape[1:]\n",
    "    for i in range(inp.shape[0]):\n",
    "        for o_w in range(img_shape[0]):\n",
    "            for o_h in range(img_shape[1]):\n",
    "                for p_w in range(param_size):\n",
    "                    for p_h in range(param_size):\n",
    "                        param_grad[p_w][p_h] += inp_pad[i][o_w + p_w][o_h + p_h] * output_grad[i][o_w][o_h]\n",
    "    return param_grad\n",
    "\n",
    "param_grad = _param_grad_2d(imgs_2d_batch, np.ones_like(imgs_2d_batch), param_2d)\n",
    "param_grad.shape"
   ]
  },
  {
   "cell_type": "code",
   "execution_count": null,
   "metadata": {},
   "outputs": [],
   "source": []
  }
 ]
}