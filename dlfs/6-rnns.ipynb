{
 "metadata": {
  "language_info": {
   "codemirror_mode": {
    "name": "ipython",
    "version": 3
   },
   "file_extension": ".py",
   "mimetype": "text/x-python",
   "name": "python",
   "nbconvert_exporter": "python",
   "pygments_lexer": "ipython3",
   "version": "3.8.3-final"
  },
  "orig_nbformat": 2,
  "kernelspec": {
   "name": "python3",
   "display_name": "Python 3",
   "language": "python"
  }
 },
 "nbformat": 4,
 "nbformat_minor": 2,
 "cells": [
  {
   "cell_type": "code",
   "execution_count": 66,
   "metadata": {},
   "outputs": [
    {
     "output_type": "execute_result",
     "data": {
      "text/plain": [
       "7"
      ]
     },
     "metadata": {},
     "execution_count": 66
    }
   ],
   "source": [
    "from typing import Union, List\n",
    "import numpy as np\n",
    "\n",
    "a = 3\n",
    "a.__add__(4)"
   ]
  },
  {
   "cell_type": "code",
   "execution_count": 67,
   "metadata": {},
   "outputs": [
    {
     "output_type": "execute_result",
     "data": {
      "text/plain": [
       "array([6, 7, 5, 4])"
      ]
     },
     "metadata": {},
     "execution_count": 67
    }
   ],
   "source": [
    "a = np.array([2, 3, 1, 0])\n",
    "a.__add__(4)"
   ]
  },
  {
   "cell_type": "code",
   "execution_count": 68,
   "metadata": {},
   "outputs": [
    {
     "output_type": "execute_result",
     "data": {
      "text/plain": [
       "array([6, 7, 5, 4])"
      ]
     },
     "metadata": {},
     "execution_count": 68
    }
   ],
   "source": [
    "a + 4"
   ]
  },
  {
   "cell_type": "code",
   "execution_count": 69,
   "metadata": {},
   "outputs": [],
   "source": [
    "# Gradient Accumulation\n",
    "Numberable = Union[float, int]\n",
    "\n",
    "def ensure_number(num: Numberable):\n",
    "    if isinstance(num, NumberWithGrad):\n",
    "        return num\n",
    "    return NumberWithGrad(num)\n",
    "\n",
    "class NumberWithGrad():\n",
    "    def __init__(self, num: Numberable, depends_on: List[Numberable] = None, creation_op: str = \"\"):\n",
    "        self.num = num\n",
    "        self.grad = None\n",
    "        self.depends_on = depends_on or []\n",
    "        self.creation_op = creation_op\n",
    "\n",
    "    def __add__(self, other: Numberable):\n",
    "        return NumberWithGrad(self.num + ensure_number(other).num, depends_on=[self, ensure_number(other)], creation_op='add')\n",
    "\n",
    "    def __mul__(self, other: Numberable = None):\n",
    "        return NumberWithGrad(self.num * ensure_number(other).num, depends_on=[self, ensure_number(other)], creation_op='mul')\n",
    "\n",
    "    def backward(self, backward_grad: Numberable = None):\n",
    "        if backward_grad is None:\n",
    "            self.grad = 1\n",
    "        else:\n",
    "            if self.grad is None:\n",
    "                self.grad = backward_grad\n",
    "            else:\n",
    "                self.grad += backward_grad\n",
    "        if self.creation_op == \"add\":\n",
    "            self.depends_on[0].backward(self.grad)\n",
    "            self.depends_on[1].backward(self.grad)\n",
    "        if self.creation_op == \"mul\":\n",
    "            new = self.depends_on[1] * self.grad\n",
    "            self.depends_on[0].backward(new.num)\n",
    "            new = self.depends_on[0] * self.grad\n",
    "            self.depends_on[1].backward(new.num)"
   ]
  },
  {
   "cell_type": "code",
   "execution_count": 70,
   "metadata": {},
   "outputs": [
    {
     "output_type": "execute_result",
     "data": {
      "text/plain": [
       "(3, 12, 15)"
      ]
     },
     "metadata": {},
     "execution_count": 70
    }
   ],
   "source": [
    "a = NumberWithGrad(3)\n",
    "b = a * 4\n",
    "c = b + 3\n",
    "a.num, b.num, c.num"
   ]
  },
  {
   "cell_type": "code",
   "execution_count": 71,
   "metadata": {},
   "outputs": [
    {
     "output_type": "execute_result",
     "data": {
      "text/plain": [
       "(4, 1, 1)"
      ]
     },
     "metadata": {},
     "execution_count": 71
    }
   ],
   "source": [
    "c.backward()\n",
    "a.grad, b.grad, c.grad\n",
    "# a.grad = dc/da = 4"
   ]
  },
  {
   "cell_type": "code",
   "execution_count": 78,
   "metadata": {},
   "outputs": [
    {
     "output_type": "execute_result",
     "data": {
      "text/plain": [
       "(3, 12, 15, 5, 75)"
      ]
     },
     "metadata": {},
     "execution_count": 78
    }
   ],
   "source": [
    "a = NumberWithGrad(3)\n",
    "b = a * 4\n",
    "c = b + 3\n",
    "d = a + 2\n",
    "e = c * d\n",
    "# e = (a * 4 + 3) * (a + 2) = 4a**2 + 11a + 6\n",
    "a.num, b.num, c.num, d.num, e.num\n"
   ]
  },
  {
   "cell_type": "code",
   "execution_count": 79,
   "metadata": {},
   "outputs": [
    {
     "output_type": "execute_result",
     "data": {
      "text/plain": [
       "(35, 5, 5, 15, 1)"
      ]
     },
     "metadata": {},
     "execution_count": 79
    }
   ],
   "source": [
    "e.backward()\n",
    "a.grad, b.grad, c.grad, d.grad, e.grad\n",
    "# d.grad = de/dd = c = 15\n",
    "# c.grad = de/dc = d = 5\n",
    "# b.grad = de/db = de/dc * dc/db = 5 * 1 = 5\n",
    "# 1. a.grad = de/da = d(c*d)/da = dc/da*d + dd/da*c = dc/db*db/da*d + dd/da*c = 1*4*5 + 1*15 = 20 + 15 = 35\n",
    "# 2. a.grad = de/da = 8a + 11 = 35\n",
    "# 3. a.grad = de/dc + de/dd = "
   ]
  },
  {
   "cell_type": "code",
   "execution_count": null,
   "metadata": {},
   "outputs": [],
   "source": []
  }
 ]
}