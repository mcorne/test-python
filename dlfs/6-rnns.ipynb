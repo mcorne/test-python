{
 "metadata": {
  "language_info": {
   "codemirror_mode": {
    "name": "ipython",
    "version": 3
   },
   "file_extension": ".py",
   "mimetype": "text/x-python",
   "name": "python",
   "nbconvert_exporter": "python",
   "pygments_lexer": "ipython3",
   "version": "3.8.3-final"
  },
  "orig_nbformat": 2,
  "kernelspec": {
   "name": "python3",
   "display_name": "Python 3",
   "language": "python"
  }
 },
 "nbformat": 4,
 "nbformat_minor": 2,
 "cells": [
  {
   "cell_type": "code",
   "execution_count": 1,
   "metadata": {},
   "outputs": [
    {
     "output_type": "execute_result",
     "data": {
      "text/plain": [
       "7"
      ]
     },
     "metadata": {},
     "execution_count": 1
    }
   ],
   "source": [
    "from typing import Union, List\n",
    "import numpy as np\n",
    "\n",
    "a = 3\n",
    "a.__add__(4)"
   ]
  },
  {
   "cell_type": "code",
   "execution_count": 2,
   "metadata": {},
   "outputs": [
    {
     "output_type": "execute_result",
     "data": {
      "text/plain": [
       "array([6, 7, 5, 4])"
      ]
     },
     "metadata": {},
     "execution_count": 2
    }
   ],
   "source": [
    "a = np.array([2, 3, 1, 0])\n",
    "a.__add__(4)"
   ]
  },
  {
   "cell_type": "code",
   "execution_count": 4,
   "metadata": {},
   "outputs": [
    {
     "output_type": "execute_result",
     "data": {
      "text/plain": [
       "array([6, 7, 5, 4])"
      ]
     },
     "metadata": {},
     "execution_count": 4
    }
   ],
   "source": [
    "a + 4"
   ]
  },
  {
   "cell_type": "code",
   "execution_count": null,
   "metadata": {},
   "outputs": [],
   "source": [
    "# Gradient Accumulation\n",
    "Numberable = Union[float, int]\n",
    "\n",
    "def ensure_number(num: Numberable) -> NumberWithGrad:\n",
    "    if isinstance(num, NumberWithGrad):\n",
    "        return num\n",
    "    return NumberWithGrad(num)\n",
    "\n",
    "class NumberWithGrad():\n",
    "    def __init__(self, num: Numberable, depends_on: List[Numberable] = None, creation_op: str = \"\"):\n",
    "        self.num = num\n",
    "        self.grad = None\n",
    "        self.depends_on = depends_on or []\n",
    "        self.creation_op = creation_op\n",
    "\n",
    "    def __add__(self, other: Numberable):\n",
    "        return NumberWithGrad(self.num + ensure_number(other).num, depends_on=[self, ensure_number(other)], creation_op='add')\n",
    "\n",
    "    def __mul__(self, other: Numberable = None):\n",
    "        return NumberWithGrad(self.num * ensure_number(other).num, depends_on=[self, ensure_number(other)], creation_op='mul')\n",
    "\n",
    "    def backward(self, backward_grad: Numberable = None):\n",
    "        if backward_grad is None:\n",
    "            self.grad = 1\n",
    "        else:\n",
    "            if self.grad is None:\n",
    "                self.grad = backward_grad\n",
    "            else:\n",
    "                self.grad += backward_grad\n",
    "        if self.creation_op == \"add\":\n",
    "            self.depends_on[0].backward(self.grad)\n",
    "            self.depends_on[1].backward(self.grad)\n",
    "        else: # mul\n",
    "            new = self.depends_on[1] * self.grad\n",
    "            self.depends_on[0].backward(new.num)\n",
    "            new = self.depends_on[0] * self.grad\n",
    "            self.depends_on[1].backward(new.num)"
   ]
  }
 ]
}