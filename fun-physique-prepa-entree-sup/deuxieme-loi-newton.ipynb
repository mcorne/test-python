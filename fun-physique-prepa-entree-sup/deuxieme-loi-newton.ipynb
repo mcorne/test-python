{
 "cells": [
  {
   "cell_type": "code",
   "execution_count": 1,
   "metadata": {},
   "outputs": [
    {
     "data": {
      "application/vnd.jupyter.widget-view+json": {
       "model_id": "6b55fca2970e4fd4a884630d218d2b7f",
       "version_major": 2,
       "version_minor": 0
      },
      "text/plain": [
       "interactive(children=(FloatSlider(value=10.0, description='v0', max=20.0, step=0.5), FloatSlider(value=45.0, d…"
      ]
     },
     "metadata": {},
     "output_type": "display_data"
    },
    {
     "data": {
      "text/plain": [
       "<function __main__.solve(v0=10.0, alpha0=45)>"
      ]
     },
     "execution_count": 1,
     "metadata": {},
     "output_type": "execute_result"
    }
   ],
   "source": [
    "# Physique : préparation à l'entrée dans l'enseignement supérieur\n",
    "# Module 2 : Mécanique du point matériel\n",
    "# Séquence 1 : la deuxième loi de Newton current section\n",
    "# https://www.fun-mooc.fr\n",
    "\n",
    "from ipywidgets import interact\n",
    "\n",
    "import numpy as np\n",
    "from scipy.integrate import odeint\n",
    "from matplotlib import pyplot as plt\n",
    "\n",
    "g = 9.81  # m/s²\n",
    "\n",
    "\n",
    "def solve(v0=10.0, alpha0=45):\n",
    "    alpha0 = alpha0 * np.pi / 180\n",
    "\n",
    "    def loi_de_newton(dAdt, t):\n",
    "        x = dAdt[0]\n",
    "        vx = dAdt[1]\n",
    "        z = dAdt[2]\n",
    "        vz = dAdt[3]\n",
    "        return [vx, 0, vz, -g]\n",
    "\n",
    "    dAdt0 = [0, v0 * np.cos(alpha0), 0, v0 * np.sin(alpha0)]\n",
    "\n",
    "    t = np.linspace(0, 5, 500)\n",
    "\n",
    "    sol = odeint(loi_de_newton, dAdt0, t)\n",
    "\n",
    "    x = sol[:, 0]\n",
    "    z = sol[:, 2]\n",
    "\n",
    "    fig, ax = plt.subplots(figsize=(6, 4))\n",
    "\n",
    "    ax.set_xlim(0, 15)\n",
    "    ax.set_ylim(0, 12)\n",
    "\n",
    "    ax.set_aspect(\"equal\")\n",
    "\n",
    "    ax.set_xlabel(\"x (m)\")\n",
    "    ax.set_ylabel(\"z (m)\")\n",
    "\n",
    "    ax.plot(x[z >= 0], z[z >= 0])\n",
    "\n",
    "\n",
    "interact(solve, v0=(0.0, 20.0, 0.5), alpha0=(-90.0, 90.0, 10.0))"
   ]
  },
  {
   "cell_type": "code",
   "execution_count": null,
   "metadata": {},
   "outputs": [],
   "source": []
  }
 ],
 "metadata": {
  "kernelspec": {
   "display_name": "Python 3",
   "language": "python",
   "name": "python3"
  },
  "language_info": {
   "codemirror_mode": {
    "name": "ipython",
    "version": 3
   },
   "file_extension": ".py",
   "mimetype": "text/x-python",
   "name": "python",
   "nbconvert_exporter": "python",
   "pygments_lexer": "ipython3",
   "version": "3.10.13"
  }
 },
 "nbformat": 4,
 "nbformat_minor": 2
}
