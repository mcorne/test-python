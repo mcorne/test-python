{
 "cells": [
  {
   "cell_type": "code",
   "execution_count": 1,
   "metadata": {},
   "outputs": [
    {
     "data": {
      "application/vnd.jupyter.widget-view+json": {
       "model_id": "9453a8950a834c97b68cd989f73da2e3",
       "version_major": 2,
       "version_minor": 0
      },
      "text/plain": [
       "interactive(children=(FloatSlider(value=58.0, description='v0', max=70.0, step=5.0), FloatSlider(value=52.0, d…"
      ]
     },
     "metadata": {},
     "output_type": "display_data"
    },
    {
     "data": {
      "text/plain": [
       "<function __main__.solve(v0=58, theta0=52, Cx=0.6)>"
      ]
     },
     "execution_count": 1,
     "metadata": {},
     "output_type": "execute_result"
    }
   ],
   "source": [
    "# Physique : préparation à l'entrée dans l'enseignement supérieur\n",
    "# Module 2 : Mécanique du point matériel\n",
    "# Séquence 2 : forces de frottements actuelle section\n",
    "# https://www.fun-mooc.fr\n",
    "\n",
    "from ipywidgets import interact\n",
    "\n",
    "import numpy as np\n",
    "from scipy.integrate import odeint\n",
    "from matplotlib import pyplot as plt\n",
    "\n",
    "m = 5e-3  # kg\n",
    "g = 9.81  # m/s²\n",
    "rho = 1.2  # kg/m³\n",
    "S = 2.8e-3  # m²\n",
    "\n",
    "# Deuxième loi de Newton\n",
    "# vec(ma) = vec(mg) + vec(F)​\n",
    "# Force de frottement\n",
    "# vec(F)​ = −1/2 ​ρSCx​ v**2 vec(τ) = −1/2 ​ρSCx​ v**2 vec(v)/norm(v)\n",
    "# Projections sur x et y\n",
    "# dvxdt​ = −1/2m ​ρSCx​ √(vx**2 + vy**2) vx​\n",
    "# dvydt​ = -g −1/2m ​ρSCx​ √(vx**2 + vy**2) vy\n",
    "\n",
    "\n",
    "def solve(v0=58, theta0=52, Cx=0.6):\n",
    "    theta0 = theta0 * np.pi / 180\n",
    "\n",
    "    def loi_de_newton(dAdt, t):\n",
    "        x = dAdt[0]\n",
    "        vx = dAdt[1]\n",
    "        y = dAdt[2]\n",
    "        vy = dAdt[3]\n",
    "        return [\n",
    "            vx,\n",
    "            -0.5 * rho * S * Cx * np.sqrt(vx**2 + vy**2) * vx / m,\n",
    "            vy,\n",
    "            -g - 0.5 * rho * S * Cx * np.sqrt(vx**2 + vy**2) * vy / m,\n",
    "        ]\n",
    "\n",
    "    dAdt0 = [0, v0 * np.cos(theta0), 0, v0 * np.sin(theta0)]\n",
    "\n",
    "    t = np.linspace(0, 3, 300)\n",
    "\n",
    "    sol = odeint(loi_de_newton, dAdt0, t)\n",
    "\n",
    "    x = sol[:, 0]\n",
    "    y = sol[:, 2]\n",
    "\n",
    "    fig, ax = plt.subplots(figsize=(6, 4))\n",
    "\n",
    "    ax.set_xlim(0, 15)\n",
    "    ax.set_ylim(0, 12)\n",
    "\n",
    "    ax.set_aspect(\"equal\")\n",
    "\n",
    "    ax.set_xlabel(\"x (m)\")\n",
    "    ax.set_ylabel(\"y (m)\")\n",
    "\n",
    "    ax.plot(x[y >= 0], y[y >= 0])\n",
    "\n",
    "\n",
    "interact(solve, v0=(0.0, 70.0, 5), theta0=(0.0, 90.0, 5.0), Cx=(0.0, 2, 0.1))"
   ]
  },
  {
   "cell_type": "code",
   "execution_count": null,
   "metadata": {},
   "outputs": [],
   "source": []
  }
 ],
 "metadata": {
  "kernelspec": {
   "display_name": "Python 3",
   "language": "python",
   "name": "python3"
  },
  "language_info": {
   "codemirror_mode": {
    "name": "ipython",
    "version": 3
   },
   "file_extension": ".py",
   "mimetype": "text/x-python",
   "name": "python",
   "nbconvert_exporter": "python",
   "pygments_lexer": "ipython3",
   "version": "3.10.13"
  }
 },
 "nbformat": 4,
 "nbformat_minor": 2
}
